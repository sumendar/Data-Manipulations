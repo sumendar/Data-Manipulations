{
 "cells": [
  {
   "cell_type": "code",
   "execution_count": 1,
   "metadata": {
    "collapsed": true,
    "run_control": {
     "frozen": false,
     "read_only": false
    }
   },
   "outputs": [],
   "source": [
    "#creating of dataframe by using 4 vectors\n",
    "fy <- c(2010,2011,2012,2010,2011,2012,2010,2011,2012)\n",
    "company <- c(\"Apple\",\"Apple\",\"Apple\",\"Google\",\"Google\",\n",
    "\"Google\",\"Microsoft\",\"Microsoft\",\"Microsoft\")\n",
    "revenue <- c(65225,108249,156508,29321,37905,50175,62484,\n",
    "69943,73723)\n",
    "profit <- c(14013,25922,41733,8505,9737,10737,18760,23150,\n",
    "16978)\n",
    "companiesData <- data.frame(fy, company, revenue, profit)"
   ]
  },
  {
   "cell_type": "code",
   "execution_count": 2,
   "metadata": {
    "collapsed": false,
    "run_control": {
     "frozen": false,
     "read_only": false
    },
    "scrolled": false
   },
   "outputs": [
    {
     "name": "stdout",
     "output_type": "stream",
     "text": [
      "'data.frame':\t9 obs. of  4 variables:\n",
      " $ fy     : num  2010 2011 2012 2010 2011 ...\n",
      " $ company: Factor w/ 3 levels \"Apple\",\"Google\",..: 1 1 1 2 2 2 3 3 3\n",
      " $ revenue: num  65225 108249 156508 29321 37905 ...\n",
      " $ profit : num  14013 25922 41733 8505 9737 ...\n"
     ]
    }
   ],
   "source": [
    "#head(companiesData)\n",
    "str(companiesData)"
   ]
  },
  {
   "cell_type": "code",
   "execution_count": 3,
   "metadata": {
    "collapsed": false,
    "run_control": {
     "frozen": false,
     "read_only": false
    },
    "scrolled": false
   },
   "outputs": [
    {
     "data": {
      "text/plain": [
       "       fy            company     revenue           profit     \n",
       " Min.   :2010   Apple    :3   Min.   : 29321   Min.   : 8505  \n",
       " 1st Qu.:2010   Google   :3   1st Qu.: 50175   1st Qu.:10737  \n",
       " Median :2011   Microsoft:3   Median : 65225   Median :16978  \n",
       " Mean   :2011                 Mean   : 72615   Mean   :18837  \n",
       " 3rd Qu.:2012                 3rd Qu.: 73723   3rd Qu.:23150  \n",
       " Max.   :2012                 Max.   :156508   Max.   :41733  "
      ]
     },
     "metadata": {},
     "output_type": "display_data"
    }
   ],
   "source": [
    "summary(companiesData)"
   ]
  },
  {
   "cell_type": "code",
   "execution_count": 4,
   "metadata": {
    "collapsed": true,
    "run_control": {
     "frozen": false,
     "read_only": false
    }
   },
   "outputs": [],
   "source": [
    "#convert fy into factor\n",
    "companiesData$fy <- factor(companiesData$fy,ordered = TRUE)\n"
   ]
  },
  {
   "cell_type": "code",
   "execution_count": 5,
   "metadata": {
    "collapsed": true,
    "run_control": {
     "frozen": false,
     "read_only": false
    }
   },
   "outputs": [],
   "source": [
    "# adding  a column to an existing dataframe\n",
    "companiesData$margin <- (companiesData$profit/companiesData$revenue)*100\n"
   ]
  },
  {
   "cell_type": "code",
   "execution_count": 6,
   "metadata": {
    "collapsed": false,
    "run_control": {
     "frozen": false,
     "read_only": false
    }
   },
   "outputs": [
    {
     "data": {
      "text/html": [
       "<table>\n",
       "<thead><tr><th scope=col>fy</th><th scope=col>company</th><th scope=col>revenue</th><th scope=col>profit</th><th scope=col>margin</th></tr></thead>\n",
       "<tbody>\n",
       "\t<tr><td>2010    </td><td>Apple   </td><td> 65225  </td><td>14013   </td><td>21.48409</td></tr>\n",
       "\t<tr><td>2011    </td><td>Apple   </td><td>108249  </td><td>25922   </td><td>23.94664</td></tr>\n",
       "\t<tr><td>2012    </td><td>Apple   </td><td>156508  </td><td>41733   </td><td>26.66509</td></tr>\n",
       "\t<tr><td>2010    </td><td>Google  </td><td> 29321  </td><td> 8505   </td><td>29.00651</td></tr>\n",
       "\t<tr><td>2011    </td><td>Google  </td><td> 37905  </td><td> 9737   </td><td>25.68790</td></tr>\n",
       "\t<tr><td>2012    </td><td>Google  </td><td> 50175  </td><td>10737   </td><td>21.39910</td></tr>\n",
       "</tbody>\n",
       "</table>\n"
      ],
      "text/latex": [
       "\\begin{tabular}{r|lllll}\n",
       " fy & company & revenue & profit & margin\\\\\n",
       "\\hline\n",
       "\t 2010     & Apple    &  65225   & 14013    & 21.48409\\\\\n",
       "\t 2011     & Apple    & 108249   & 25922    & 23.94664\\\\\n",
       "\t 2012     & Apple    & 156508   & 41733    & 26.66509\\\\\n",
       "\t 2010     & Google   &  29321   &  8505    & 29.00651\\\\\n",
       "\t 2011     & Google   &  37905   &  9737    & 25.68790\\\\\n",
       "\t 2012     & Google   &  50175   & 10737    & 21.39910\\\\\n",
       "\\end{tabular}\n"
      ],
      "text/plain": [
       "  fy   company revenue profit margin  \n",
       "1 2010 Apple    65225  14013  21.48409\n",
       "2 2011 Apple   108249  25922  23.94664\n",
       "3 2012 Apple   156508  41733  26.66509\n",
       "4 2010 Google   29321   8505  29.00651\n",
       "5 2011 Google   37905   9737  25.68790\n",
       "6 2012 Google   50175  10737  21.39910"
      ]
     },
     "metadata": {},
     "output_type": "display_data"
    }
   ],
   "source": [
    "head(companiesData)"
   ]
  },
  {
   "cell_type": "code",
   "execution_count": 7,
   "metadata": {
    "collapsed": false,
    "run_control": {
     "frozen": false,
     "read_only": false
    },
    "scrolled": true
   },
   "outputs": [
    {
     "name": "stdout",
     "output_type": "stream",
     "text": [
      "'data.frame':\t9 obs. of  5 variables:\n",
      " $ fy     : Ord.factor w/ 3 levels \"2010\"<\"2011\"<..: 1 2 3 1 2 3 1 2 3\n",
      " $ company: Factor w/ 3 levels \"Apple\",\"Google\",..: 1 1 1 2 2 2 3 3 3\n",
      " $ revenue: num  65225 108249 156508 29321 37905 ...\n",
      " $ profit : num  14013 25922 41733 8505 9737 ...\n",
      " $ margin : num  21.5 23.9 26.7 29 25.7 ...\n"
     ]
    }
   ],
   "source": [
    "str(companiesData)\n"
   ]
  },
  {
   "cell_type": "code",
   "execution_count": 8,
   "metadata": {
    "collapsed": true,
    "run_control": {
     "frozen": false,
     "read_only": false
    }
   },
   "outputs": [],
   "source": [
    "companiesData$margin <- round(companiesData$margin, 1)"
   ]
  },
  {
   "cell_type": "code",
   "execution_count": 9,
   "metadata": {
    "collapsed": false,
    "run_control": {
     "frozen": false,
     "read_only": false
    }
   },
   "outputs": [
    {
     "data": {
      "text/html": [
       "<table>\n",
       "<thead><tr><th scope=col>fy</th><th scope=col>company</th><th scope=col>revenue</th><th scope=col>profit</th><th scope=col>margin</th></tr></thead>\n",
       "<tbody>\n",
       "\t<tr><td>2010  </td><td>Apple </td><td> 65225</td><td>14013 </td><td>21.5  </td></tr>\n",
       "\t<tr><td>2011  </td><td>Apple </td><td>108249</td><td>25922 </td><td>23.9  </td></tr>\n",
       "\t<tr><td>2012  </td><td>Apple </td><td>156508</td><td>41733 </td><td>26.7  </td></tr>\n",
       "\t<tr><td>2010  </td><td>Google</td><td> 29321</td><td> 8505 </td><td>29.0  </td></tr>\n",
       "\t<tr><td>2011  </td><td>Google</td><td> 37905</td><td> 9737 </td><td>25.7  </td></tr>\n",
       "\t<tr><td>2012  </td><td>Google</td><td> 50175</td><td>10737 </td><td>21.4  </td></tr>\n",
       "</tbody>\n",
       "</table>\n"
      ],
      "text/latex": [
       "\\begin{tabular}{r|lllll}\n",
       " fy & company & revenue & profit & margin\\\\\n",
       "\\hline\n",
       "\t 2010   & Apple  &  65225 & 14013  & 21.5  \\\\\n",
       "\t 2011   & Apple  & 108249 & 25922  & 23.9  \\\\\n",
       "\t 2012   & Apple  & 156508 & 41733  & 26.7  \\\\\n",
       "\t 2010   & Google &  29321 &  8505  & 29.0  \\\\\n",
       "\t 2011   & Google &  37905 &  9737  & 25.7  \\\\\n",
       "\t 2012   & Google &  50175 & 10737  & 21.4  \\\\\n",
       "\\end{tabular}\n"
      ],
      "text/plain": [
       "  fy   company revenue profit margin\n",
       "1 2010 Apple    65225  14013  21.5  \n",
       "2 2011 Apple   108249  25922  23.9  \n",
       "3 2012 Apple   156508  41733  26.7  \n",
       "4 2010 Google   29321   8505  29.0  \n",
       "5 2011 Google   37905   9737  25.7  \n",
       "6 2012 Google   50175  10737  21.4  "
      ]
     },
     "metadata": {},
     "output_type": "display_data"
    }
   ],
   "source": [
    "head(companiesData)"
   ]
  },
  {
   "cell_type": "code",
   "execution_count": 10,
   "metadata": {
    "collapsed": true,
    "run_control": {
     "frozen": false,
     "read_only": false
    }
   },
   "outputs": [],
   "source": [
    "#Delete perticular column\n",
    "companiesData <-companiesData[,c(1:4)]"
   ]
  },
  {
   "cell_type": "code",
   "execution_count": 11,
   "metadata": {
    "collapsed": false,
    "run_control": {
     "frozen": false,
     "read_only": false
    },
    "scrolled": true
   },
   "outputs": [
    {
     "data": {
      "text/html": [
       "<table>\n",
       "<thead><tr><th scope=col>fy</th><th scope=col>company</th><th scope=col>revenue</th><th scope=col>profit</th></tr></thead>\n",
       "<tbody>\n",
       "\t<tr><td>2010  </td><td>Apple </td><td> 65225</td><td>14013 </td></tr>\n",
       "\t<tr><td>2011  </td><td>Apple </td><td>108249</td><td>25922 </td></tr>\n",
       "\t<tr><td>2012  </td><td>Apple </td><td>156508</td><td>41733 </td></tr>\n",
       "\t<tr><td>2010  </td><td>Google</td><td> 29321</td><td> 8505 </td></tr>\n",
       "\t<tr><td>2011  </td><td>Google</td><td> 37905</td><td> 9737 </td></tr>\n",
       "\t<tr><td>2012  </td><td>Google</td><td> 50175</td><td>10737 </td></tr>\n",
       "</tbody>\n",
       "</table>\n"
      ],
      "text/latex": [
       "\\begin{tabular}{r|llll}\n",
       " fy & company & revenue & profit\\\\\n",
       "\\hline\n",
       "\t 2010   & Apple  &  65225 & 14013 \\\\\n",
       "\t 2011   & Apple  & 108249 & 25922 \\\\\n",
       "\t 2012   & Apple  & 156508 & 41733 \\\\\n",
       "\t 2010   & Google &  29321 &  8505 \\\\\n",
       "\t 2011   & Google &  37905 &  9737 \\\\\n",
       "\t 2012   & Google &  50175 & 10737 \\\\\n",
       "\\end{tabular}\n"
      ],
      "text/plain": [
       "  fy   company revenue profit\n",
       "1 2010 Apple    65225  14013 \n",
       "2 2011 Apple   108249  25922 \n",
       "3 2012 Apple   156508  41733 \n",
       "4 2010 Google   29321   8505 \n",
       "5 2011 Google   37905   9737 \n",
       "6 2012 Google   50175  10737 "
      ]
     },
     "metadata": {},
     "output_type": "display_data"
    }
   ],
   "source": [
    "head(companiesData)"
   ]
  },
  {
   "cell_type": "markdown",
   "metadata": {},
   "source": [
    "**Syntax 2: R’s transform() function:**  \n",
    "sum of two columns and store that into a new column with transform(), you would use code such as:\n",
    "**Syntax:**\n",
    "dataFrame <- transform(dataFrame, newColumn =  \n",
    "oldColumn1 + oldColumn2)  "
   ]
  },
  {
   "cell_type": "code",
   "execution_count": 12,
   "metadata": {
    "collapsed": true,
    "run_control": {
     "frozen": false,
     "read_only": false
    }
   },
   "outputs": [],
   "source": [
    "companiesData <- transform(companiesData, margin =\n",
    "round((profit/revenue) * 100, 1))"
   ]
  },
  {
   "cell_type": "code",
   "execution_count": 13,
   "metadata": {
    "collapsed": false,
    "run_control": {
     "frozen": false,
     "read_only": false
    }
   },
   "outputs": [
    {
     "data": {
      "text/html": [
       "<table>\n",
       "<thead><tr><th scope=col>fy</th><th scope=col>company</th><th scope=col>revenue</th><th scope=col>profit</th><th scope=col>margin</th></tr></thead>\n",
       "<tbody>\n",
       "\t<tr><td>2010     </td><td>Apple    </td><td> 65225   </td><td>14013    </td><td>21.5     </td></tr>\n",
       "\t<tr><td>2011     </td><td>Apple    </td><td>108249   </td><td>25922    </td><td>23.9     </td></tr>\n",
       "\t<tr><td>2012     </td><td>Apple    </td><td>156508   </td><td>41733    </td><td>26.7     </td></tr>\n",
       "\t<tr><td>2010     </td><td>Google   </td><td> 29321   </td><td> 8505    </td><td>29.0     </td></tr>\n",
       "\t<tr><td>2011     </td><td>Google   </td><td> 37905   </td><td> 9737    </td><td>25.7     </td></tr>\n",
       "\t<tr><td>2012     </td><td>Google   </td><td> 50175   </td><td>10737    </td><td>21.4     </td></tr>\n",
       "\t<tr><td>2010     </td><td>Microsoft</td><td> 62484   </td><td>18760    </td><td>30.0     </td></tr>\n",
       "\t<tr><td>2011     </td><td>Microsoft</td><td> 69943   </td><td>23150    </td><td>33.1     </td></tr>\n",
       "\t<tr><td>2012     </td><td>Microsoft</td><td> 73723   </td><td>16978    </td><td>23.0     </td></tr>\n",
       "</tbody>\n",
       "</table>\n"
      ],
      "text/latex": [
       "\\begin{tabular}{r|lllll}\n",
       " fy & company & revenue & profit & margin\\\\\n",
       "\\hline\n",
       "\t 2010      & Apple     &  65225    & 14013     & 21.5     \\\\\n",
       "\t 2011      & Apple     & 108249    & 25922     & 23.9     \\\\\n",
       "\t 2012      & Apple     & 156508    & 41733     & 26.7     \\\\\n",
       "\t 2010      & Google    &  29321    &  8505     & 29.0     \\\\\n",
       "\t 2011      & Google    &  37905    &  9737     & 25.7     \\\\\n",
       "\t 2012      & Google    &  50175    & 10737     & 21.4     \\\\\n",
       "\t 2010      & Microsoft &  62484    & 18760     & 30.0     \\\\\n",
       "\t 2011      & Microsoft &  69943    & 23150     & 33.1     \\\\\n",
       "\t 2012      & Microsoft &  73723    & 16978     & 23.0     \\\\\n",
       "\\end{tabular}\n"
      ],
      "text/plain": [
       "  fy   company   revenue profit margin\n",
       "1 2010 Apple      65225  14013  21.5  \n",
       "2 2011 Apple     108249  25922  23.9  \n",
       "3 2012 Apple     156508  41733  26.7  \n",
       "4 2010 Google     29321   8505  29.0  \n",
       "5 2011 Google     37905   9737  25.7  \n",
       "6 2012 Google     50175  10737  21.4  \n",
       "7 2010 Microsoft  62484  18760  30.0  \n",
       "8 2011 Microsoft  69943  23150  33.1  \n",
       "9 2012 Microsoft  73723  16978  23.0  "
      ]
     },
     "metadata": {},
     "output_type": "display_data"
    }
   ],
   "source": [
    "companiesData\n"
   ]
  },
  {
   "cell_type": "code",
   "execution_count": 14,
   "metadata": {
    "collapsed": false,
    "run_control": {
     "frozen": false,
     "read_only": false
    }
   },
   "outputs": [],
   "source": [
    "#data manipulate by using apply function\n",
    "#apply(companiesData, 1, function(x) sum(x))\n",
    "    "
   ]
  },
  {
   "cell_type": "code",
   "execution_count": 15,
   "metadata": {
    "collapsed": false,
    "run_control": {
     "frozen": false,
     "read_only": false
    }
   },
   "outputs": [
    {
     "data": {
      "text/html": [
       "<ol class=list-inline>\n",
       "\t<li>79238</li>\n",
       "\t<li>134171</li>\n",
       "\t<li>198241</li>\n",
       "\t<li>37826</li>\n",
       "\t<li>47642</li>\n",
       "\t<li>60912</li>\n",
       "\t<li>81244</li>\n",
       "\t<li>93093</li>\n",
       "\t<li>90701</li>\n",
       "</ol>\n"
      ],
      "text/latex": [
       "\\begin{enumerate*}\n",
       "\\item 79238\n",
       "\\item 134171\n",
       "\\item 198241\n",
       "\\item 37826\n",
       "\\item 47642\n",
       "\\item 60912\n",
       "\\item 81244\n",
       "\\item 93093\n",
       "\\item 90701\n",
       "\\end{enumerate*}\n"
      ],
      "text/markdown": [
       "1. 79238\n",
       "2. 134171\n",
       "3. 198241\n",
       "4. 37826\n",
       "5. 47642\n",
       "6. 60912\n",
       "7. 81244\n",
       "8. 93093\n",
       "9. 90701\n",
       "\n",
       "\n"
      ],
      "text/plain": [
       "[1]  79238 134171 198241  37826  47642  60912  81244  93093  90701"
      ]
     },
     "metadata": {},
     "output_type": "display_data"
    }
   ],
   "source": [
    "apply(companiesData[,c('revenue', 'profit')], 1,\n",
    "function(x) sum(x))"
   ]
  },
  {
   "cell_type": "code",
   "execution_count": 16,
   "metadata": {
    "collapsed": true,
    "run_control": {
     "frozen": false,
     "read_only": false
    }
   },
   "outputs": [],
   "source": [
    "companiesData$sums <- apply(companiesData[,\n",
    "c('revenue', 'profit')], 1, function(x) sum(x))"
   ]
  },
  {
   "cell_type": "code",
   "execution_count": 17,
   "metadata": {
    "collapsed": false,
    "run_control": {
     "frozen": false,
     "read_only": false
    }
   },
   "outputs": [
    {
     "data": {
      "text/html": [
       "<table>\n",
       "<thead><tr><th scope=col>fy</th><th scope=col>company</th><th scope=col>revenue</th><th scope=col>profit</th><th scope=col>margin</th><th scope=col>sums</th></tr></thead>\n",
       "<tbody>\n",
       "\t<tr><td>2010     </td><td>Apple    </td><td> 65225   </td><td>14013    </td><td>21.5     </td><td> 79238   </td></tr>\n",
       "\t<tr><td>2011     </td><td>Apple    </td><td>108249   </td><td>25922    </td><td>23.9     </td><td>134171   </td></tr>\n",
       "\t<tr><td>2012     </td><td>Apple    </td><td>156508   </td><td>41733    </td><td>26.7     </td><td>198241   </td></tr>\n",
       "\t<tr><td>2010     </td><td>Google   </td><td> 29321   </td><td> 8505    </td><td>29.0     </td><td> 37826   </td></tr>\n",
       "\t<tr><td>2011     </td><td>Google   </td><td> 37905   </td><td> 9737    </td><td>25.7     </td><td> 47642   </td></tr>\n",
       "\t<tr><td>2012     </td><td>Google   </td><td> 50175   </td><td>10737    </td><td>21.4     </td><td> 60912   </td></tr>\n",
       "\t<tr><td>2010     </td><td>Microsoft</td><td> 62484   </td><td>18760    </td><td>30.0     </td><td> 81244   </td></tr>\n",
       "\t<tr><td>2011     </td><td>Microsoft</td><td> 69943   </td><td>23150    </td><td>33.1     </td><td> 93093   </td></tr>\n",
       "\t<tr><td>2012     </td><td>Microsoft</td><td> 73723   </td><td>16978    </td><td>23.0     </td><td> 90701   </td></tr>\n",
       "</tbody>\n",
       "</table>\n"
      ],
      "text/latex": [
       "\\begin{tabular}{r|llllll}\n",
       " fy & company & revenue & profit & margin & sums\\\\\n",
       "\\hline\n",
       "\t 2010      & Apple     &  65225    & 14013     & 21.5      &  79238   \\\\\n",
       "\t 2011      & Apple     & 108249    & 25922     & 23.9      & 134171   \\\\\n",
       "\t 2012      & Apple     & 156508    & 41733     & 26.7      & 198241   \\\\\n",
       "\t 2010      & Google    &  29321    &  8505     & 29.0      &  37826   \\\\\n",
       "\t 2011      & Google    &  37905    &  9737     & 25.7      &  47642   \\\\\n",
       "\t 2012      & Google    &  50175    & 10737     & 21.4      &  60912   \\\\\n",
       "\t 2010      & Microsoft &  62484    & 18760     & 30.0      &  81244   \\\\\n",
       "\t 2011      & Microsoft &  69943    & 23150     & 33.1      &  93093   \\\\\n",
       "\t 2012      & Microsoft &  73723    & 16978     & 23.0      &  90701   \\\\\n",
       "\\end{tabular}\n"
      ],
      "text/plain": [
       "  fy   company   revenue profit margin sums  \n",
       "1 2010 Apple      65225  14013  21.5    79238\n",
       "2 2011 Apple     108249  25922  23.9   134171\n",
       "3 2012 Apple     156508  41733  26.7   198241\n",
       "4 2010 Google     29321   8505  29.0    37826\n",
       "5 2011 Google     37905   9737  25.7    47642\n",
       "6 2012 Google     50175  10737  21.4    60912\n",
       "7 2010 Microsoft  62484  18760  30.0    81244\n",
       "8 2011 Microsoft  69943  23150  33.1    93093\n",
       "9 2012 Microsoft  73723  16978  23.0    90701"
      ]
     },
     "metadata": {},
     "output_type": "display_data"
    }
   ],
   "source": [
    "companiesData"
   ]
  },
  {
   "cell_type": "code",
   "execution_count": 18,
   "metadata": {
    "collapsed": true,
    "run_control": {
     "frozen": false,
     "read_only": false
    }
   },
   "outputs": [],
   "source": [
    "companiesData$margin <- apply(companiesData[,\n",
    "c('revenue', 'profit')], 1,\n",
    "function(x) { (x[2]/x[1]) * 100 } )"
   ]
  },
  {
   "cell_type": "code",
   "execution_count": 19,
   "metadata": {
    "collapsed": false,
    "run_control": {
     "frozen": false,
     "read_only": false
    }
   },
   "outputs": [
    {
     "data": {
      "text/html": [
       "<table>\n",
       "<thead><tr><th scope=col>fy</th><th scope=col>company</th><th scope=col>revenue</th><th scope=col>profit</th><th scope=col>margin</th><th scope=col>sums</th></tr></thead>\n",
       "<tbody>\n",
       "\t<tr><td>2010     </td><td>Apple    </td><td> 65225   </td><td>14013    </td><td>21.48409 </td><td> 79238   </td></tr>\n",
       "\t<tr><td>2011     </td><td>Apple    </td><td>108249   </td><td>25922    </td><td>23.94664 </td><td>134171   </td></tr>\n",
       "\t<tr><td>2012     </td><td>Apple    </td><td>156508   </td><td>41733    </td><td>26.66509 </td><td>198241   </td></tr>\n",
       "\t<tr><td>2010     </td><td>Google   </td><td> 29321   </td><td> 8505    </td><td>29.00651 </td><td> 37826   </td></tr>\n",
       "\t<tr><td>2011     </td><td>Google   </td><td> 37905   </td><td> 9737    </td><td>25.68790 </td><td> 47642   </td></tr>\n",
       "\t<tr><td>2012     </td><td>Google   </td><td> 50175   </td><td>10737    </td><td>21.39910 </td><td> 60912   </td></tr>\n",
       "\t<tr><td>2010     </td><td>Microsoft</td><td> 62484   </td><td>18760    </td><td>30.02369 </td><td> 81244   </td></tr>\n",
       "\t<tr><td>2011     </td><td>Microsoft</td><td> 69943   </td><td>23150    </td><td>33.09838 </td><td> 93093   </td></tr>\n",
       "\t<tr><td>2012     </td><td>Microsoft</td><td> 73723   </td><td>16978    </td><td>23.02945 </td><td> 90701   </td></tr>\n",
       "</tbody>\n",
       "</table>\n"
      ],
      "text/latex": [
       "\\begin{tabular}{r|llllll}\n",
       " fy & company & revenue & profit & margin & sums\\\\\n",
       "\\hline\n",
       "\t 2010      & Apple     &  65225    & 14013     & 21.48409  &  79238   \\\\\n",
       "\t 2011      & Apple     & 108249    & 25922     & 23.94664  & 134171   \\\\\n",
       "\t 2012      & Apple     & 156508    & 41733     & 26.66509  & 198241   \\\\\n",
       "\t 2010      & Google    &  29321    &  8505     & 29.00651  &  37826   \\\\\n",
       "\t 2011      & Google    &  37905    &  9737     & 25.68790  &  47642   \\\\\n",
       "\t 2012      & Google    &  50175    & 10737     & 21.39910  &  60912   \\\\\n",
       "\t 2010      & Microsoft &  62484    & 18760     & 30.02369  &  81244   \\\\\n",
       "\t 2011      & Microsoft &  69943    & 23150     & 33.09838  &  93093   \\\\\n",
       "\t 2012      & Microsoft &  73723    & 16978     & 23.02945  &  90701   \\\\\n",
       "\\end{tabular}\n"
      ],
      "text/plain": [
       "  fy   company   revenue profit margin   sums  \n",
       "1 2010 Apple      65225  14013  21.48409  79238\n",
       "2 2011 Apple     108249  25922  23.94664 134171\n",
       "3 2012 Apple     156508  41733  26.66509 198241\n",
       "4 2010 Google     29321   8505  29.00651  37826\n",
       "5 2011 Google     37905   9737  25.68790  47642\n",
       "6 2012 Google     50175  10737  21.39910  60912\n",
       "7 2010 Microsoft  62484  18760  30.02369  81244\n",
       "8 2011 Microsoft  69943  23150  33.09838  93093\n",
       "9 2012 Microsoft  73723  16978  23.02945  90701"
      ]
     },
     "metadata": {},
     "output_type": "display_data"
    }
   ],
   "source": [
    "companiesData\n"
   ]
  },
  {
   "cell_type": "code",
   "execution_count": 20,
   "metadata": {
    "collapsed": false,
    "run_control": {
     "frozen": false,
     "read_only": false
    }
   },
   "outputs": [
    {
     "data": {
      "text/html": [
       "33.0983801095177"
      ],
      "text/latex": [
       "33.0983801095177"
      ],
      "text/markdown": [
       "33.0983801095177"
      ],
      "text/plain": [
       "[1] 33.09838"
      ]
     },
     "metadata": {},
     "output_type": "display_data"
    }
   ],
   "source": [
    "highestMargin <- max(companiesData$margin)\n",
    "highestMargin"
   ]
  },
  {
   "cell_type": "code",
   "execution_count": 21,
   "metadata": {
    "collapsed": false,
    "run_control": {
     "frozen": false,
     "read_only": false
    }
   },
   "outputs": [
    {
     "data": {
      "text/html": [
       "<table>\n",
       "<thead><tr><th></th><th scope=col>fy</th><th scope=col>company</th><th scope=col>revenue</th><th scope=col>profit</th><th scope=col>margin</th><th scope=col>sums</th></tr></thead>\n",
       "<tbody>\n",
       "\t<tr><th scope=row>8</th><td>2011     </td><td>Microsoft</td><td>69943    </td><td>23150    </td><td>33.09838 </td><td>93093    </td></tr>\n",
       "</tbody>\n",
       "</table>\n"
      ],
      "text/latex": [
       "\\begin{tabular}{r|llllll}\n",
       "  & fy & company & revenue & profit & margin & sums\\\\\n",
       "\\hline\n",
       "\t8 & 2011      & Microsoft & 69943     & 23150     & 33.09838  & 93093    \\\\\n",
       "\\end{tabular}\n"
      ],
      "text/plain": [
       "  fy   company   revenue profit margin   sums \n",
       "8 2011 Microsoft 69943   23150  33.09838 93093"
      ]
     },
     "metadata": {},
     "output_type": "display_data"
    },
    {
     "data": {
      "text/html": [
       "<ol class=list-inline>\n",
       "\t<li>FALSE</li>\n",
       "\t<li>FALSE</li>\n",
       "\t<li>FALSE</li>\n",
       "\t<li>FALSE</li>\n",
       "\t<li>FALSE</li>\n",
       "\t<li>FALSE</li>\n",
       "\t<li>FALSE</li>\n",
       "\t<li>TRUE</li>\n",
       "\t<li>FALSE</li>\n",
       "</ol>\n"
      ],
      "text/latex": [
       "\\begin{enumerate*}\n",
       "\\item FALSE\n",
       "\\item FALSE\n",
       "\\item FALSE\n",
       "\\item FALSE\n",
       "\\item FALSE\n",
       "\\item FALSE\n",
       "\\item FALSE\n",
       "\\item TRUE\n",
       "\\item FALSE\n",
       "\\end{enumerate*}\n"
      ],
      "text/markdown": [
       "1. FALSE\n",
       "2. FALSE\n",
       "3. FALSE\n",
       "4. FALSE\n",
       "5. FALSE\n",
       "6. FALSE\n",
       "7. FALSE\n",
       "8. TRUE\n",
       "9. FALSE\n",
       "\n",
       "\n"
      ],
      "text/plain": [
       "[1] FALSE FALSE FALSE FALSE FALSE FALSE FALSE  TRUE FALSE"
      ]
     },
     "metadata": {},
     "output_type": "display_data"
    }
   ],
   "source": [
    "highestMargin <- companiesData[companiesData$margin == max(companiesData$margin),]\n",
    "highestMargin\n",
    "companiesData$margin == max(companiesData$margin)"
   ]
  },
  {
   "cell_type": "code",
   "execution_count": 22,
   "metadata": {
    "collapsed": false,
    "run_control": {
     "frozen": false,
     "read_only": false
    }
   },
   "outputs": [],
   "source": [
    "#?subset\n",
    "\n",
    "\n",
    "highestMargin <- subset(companiesData,margin==max(margin))\n",
    "#airquality\n",
    "#subset(airquality, Temp > 80, select = c(Ozone, Temp))"
   ]
  },
  {
   "cell_type": "code",
   "execution_count": 23,
   "metadata": {
    "collapsed": false,
    "run_control": {
     "frozen": false,
     "read_only": false
    }
   },
   "outputs": [
    {
     "data": {
      "text/html": [
       "<table>\n",
       "<thead><tr><th></th><th scope=col>fy</th><th scope=col>company</th><th scope=col>revenue</th><th scope=col>profit</th><th scope=col>margin</th><th scope=col>sums</th></tr></thead>\n",
       "<tbody>\n",
       "\t<tr><th scope=row>8</th><td>2011     </td><td>Microsoft</td><td>69943    </td><td>23150    </td><td>33.09838 </td><td>93093    </td></tr>\n",
       "</tbody>\n",
       "</table>\n"
      ],
      "text/latex": [
       "\\begin{tabular}{r|llllll}\n",
       "  & fy & company & revenue & profit & margin & sums\\\\\n",
       "\\hline\n",
       "\t8 & 2011      & Microsoft & 69943     & 23150     & 33.09838  & 93093    \\\\\n",
       "\\end{tabular}\n"
      ],
      "text/plain": [
       "  fy   company   revenue profit margin   sums \n",
       "8 2011 Microsoft 69943   23150  33.09838 93093"
      ]
     },
     "metadata": {},
     "output_type": "display_data"
    }
   ],
   "source": [
    "highestMargin"
   ]
  },
  {
   "cell_type": "markdown",
   "metadata": {},
   "source": [
    "# Dplyr"
   ]
  },
  {
   "cell_type": "markdown",
   "metadata": {},
   "source": [
    "**syntax:**\n",
    "ddply(mydata, c('column name of a factor to group by',  \n",
    "'column name of the second factor to group by'), summarize  \n",
    "OR transform, newcolumn = myfunction(column name(s) I  \n",
    "want the function to act upon))  "
   ]
  },
  {
   "cell_type": "code",
   "execution_count": 24,
   "metadata": {
    "collapsed": false,
    "run_control": {
     "frozen": false,
     "read_only": false
    }
   },
   "outputs": [
    {
     "data": {
      "text/html": [
       "<table>\n",
       "<thead><tr><th scope=col>fy</th><th scope=col>company</th><th scope=col>revenue</th><th scope=col>profit</th><th scope=col>margin</th><th scope=col>sums</th></tr></thead>\n",
       "<tbody>\n",
       "\t<tr><td>2010     </td><td>Apple    </td><td> 65225   </td><td>14013    </td><td>21.48409 </td><td> 79238   </td></tr>\n",
       "\t<tr><td>2011     </td><td>Apple    </td><td>108249   </td><td>25922    </td><td>23.94664 </td><td>134171   </td></tr>\n",
       "\t<tr><td>2012     </td><td>Apple    </td><td>156508   </td><td>41733    </td><td>26.66509 </td><td>198241   </td></tr>\n",
       "\t<tr><td>2010     </td><td>Google   </td><td> 29321   </td><td> 8505    </td><td>29.00651 </td><td> 37826   </td></tr>\n",
       "\t<tr><td>2011     </td><td>Google   </td><td> 37905   </td><td> 9737    </td><td>25.68790 </td><td> 47642   </td></tr>\n",
       "\t<tr><td>2012     </td><td>Google   </td><td> 50175   </td><td>10737    </td><td>21.39910 </td><td> 60912   </td></tr>\n",
       "\t<tr><td>2010     </td><td>Microsoft</td><td> 62484   </td><td>18760    </td><td>30.02369 </td><td> 81244   </td></tr>\n",
       "\t<tr><td>2011     </td><td>Microsoft</td><td> 69943   </td><td>23150    </td><td>33.09838 </td><td> 93093   </td></tr>\n",
       "\t<tr><td>2012     </td><td>Microsoft</td><td> 73723   </td><td>16978    </td><td>23.02945 </td><td> 90701   </td></tr>\n",
       "</tbody>\n",
       "</table>\n"
      ],
      "text/latex": [
       "\\begin{tabular}{r|llllll}\n",
       " fy & company & revenue & profit & margin & sums\\\\\n",
       "\\hline\n",
       "\t 2010      & Apple     &  65225    & 14013     & 21.48409  &  79238   \\\\\n",
       "\t 2011      & Apple     & 108249    & 25922     & 23.94664  & 134171   \\\\\n",
       "\t 2012      & Apple     & 156508    & 41733     & 26.66509  & 198241   \\\\\n",
       "\t 2010      & Google    &  29321    &  8505     & 29.00651  &  37826   \\\\\n",
       "\t 2011      & Google    &  37905    &  9737     & 25.68790  &  47642   \\\\\n",
       "\t 2012      & Google    &  50175    & 10737     & 21.39910  &  60912   \\\\\n",
       "\t 2010      & Microsoft &  62484    & 18760     & 30.02369  &  81244   \\\\\n",
       "\t 2011      & Microsoft &  69943    & 23150     & 33.09838  &  93093   \\\\\n",
       "\t 2012      & Microsoft &  73723    & 16978     & 23.02945  &  90701   \\\\\n",
       "\\end{tabular}\n"
      ],
      "text/plain": [
       "  fy   company   revenue profit margin   sums  \n",
       "1 2010 Apple      65225  14013  21.48409  79238\n",
       "2 2011 Apple     108249  25922  23.94664 134171\n",
       "3 2012 Apple     156508  41733  26.66509 198241\n",
       "4 2010 Google     29321   8505  29.00651  37826\n",
       "5 2011 Google     37905   9737  25.68790  47642\n",
       "6 2012 Google     50175  10737  21.39910  60912\n",
       "7 2010 Microsoft  62484  18760  30.02369  81244\n",
       "8 2011 Microsoft  69943  23150  33.09838  93093\n",
       "9 2012 Microsoft  73723  16978  23.02945  90701"
      ]
     },
     "metadata": {},
     "output_type": "display_data"
    }
   ],
   "source": [
    "library(\"plyr\")\n",
    "companiesData"
   ]
  },
  {
   "cell_type": "code",
   "execution_count": 25,
   "metadata": {
    "collapsed": false,
    "run_control": {
     "frozen": false,
     "read_only": false
    }
   },
   "outputs": [
    {
     "data": {
      "text/html": [
       "<table>\n",
       "<thead><tr><th scope=col>company</th><th scope=col>bestMargin</th></tr></thead>\n",
       "<tbody>\n",
       "\t<tr><td>Apple    </td><td>26.66509 </td></tr>\n",
       "\t<tr><td>Google   </td><td>29.00651 </td></tr>\n",
       "\t<tr><td>Microsoft</td><td>33.09838 </td></tr>\n",
       "</tbody>\n",
       "</table>\n"
      ],
      "text/latex": [
       "\\begin{tabular}{r|ll}\n",
       " company & bestMargin\\\\\n",
       "\\hline\n",
       "\t Apple     & 26.66509 \\\\\n",
       "\t Google    & 29.00651 \\\\\n",
       "\t Microsoft & 33.09838 \\\\\n",
       "\\end{tabular}\n"
      ],
      "text/plain": [
       "  company   bestMargin\n",
       "1 Apple     26.66509  \n",
       "2 Google    29.00651  \n",
       "3 Microsoft 33.09838  "
      ]
     },
     "metadata": {},
     "output_type": "display_data"
    }
   ],
   "source": [
    "highestProfitMargins <- ddply(companiesData,'company', summarize, bestMargin = max(margin))\n",
    "highestProfitMargins"
   ]
  },
  {
   "cell_type": "code",
   "execution_count": 26,
   "metadata": {
    "collapsed": true,
    "run_control": {
     "frozen": false,
     "read_only": false
    }
   },
   "outputs": [],
   "source": [
    "highestProfitMargins <- ddply(companiesData,\n",
    "'company', transform, bestMargin = max(margin))"
   ]
  },
  {
   "cell_type": "code",
   "execution_count": 27,
   "metadata": {
    "collapsed": false,
    "run_control": {
     "frozen": false,
     "read_only": false
    }
   },
   "outputs": [
    {
     "data": {
      "text/html": [
       "<table>\n",
       "<thead><tr><th scope=col>fy</th><th scope=col>company</th><th scope=col>revenue</th><th scope=col>profit</th><th scope=col>margin</th><th scope=col>sums</th><th scope=col>bestMargin</th></tr></thead>\n",
       "<tbody>\n",
       "\t<tr><td>2010     </td><td>Apple    </td><td> 65225   </td><td>14013    </td><td>21.48409 </td><td> 79238   </td><td>26.66509 </td></tr>\n",
       "\t<tr><td>2011     </td><td>Apple    </td><td>108249   </td><td>25922    </td><td>23.94664 </td><td>134171   </td><td>26.66509 </td></tr>\n",
       "\t<tr><td>2012     </td><td>Apple    </td><td>156508   </td><td>41733    </td><td>26.66509 </td><td>198241   </td><td>26.66509 </td></tr>\n",
       "\t<tr><td>2010     </td><td>Google   </td><td> 29321   </td><td> 8505    </td><td>29.00651 </td><td> 37826   </td><td>29.00651 </td></tr>\n",
       "\t<tr><td>2011     </td><td>Google   </td><td> 37905   </td><td> 9737    </td><td>25.68790 </td><td> 47642   </td><td>29.00651 </td></tr>\n",
       "\t<tr><td>2012     </td><td>Google   </td><td> 50175   </td><td>10737    </td><td>21.39910 </td><td> 60912   </td><td>29.00651 </td></tr>\n",
       "\t<tr><td>2010     </td><td>Microsoft</td><td> 62484   </td><td>18760    </td><td>30.02369 </td><td> 81244   </td><td>33.09838 </td></tr>\n",
       "\t<tr><td>2011     </td><td>Microsoft</td><td> 69943   </td><td>23150    </td><td>33.09838 </td><td> 93093   </td><td>33.09838 </td></tr>\n",
       "\t<tr><td>2012     </td><td>Microsoft</td><td> 73723   </td><td>16978    </td><td>23.02945 </td><td> 90701   </td><td>33.09838 </td></tr>\n",
       "</tbody>\n",
       "</table>\n"
      ],
      "text/latex": [
       "\\begin{tabular}{r|lllllll}\n",
       " fy & company & revenue & profit & margin & sums & bestMargin\\\\\n",
       "\\hline\n",
       "\t 2010      & Apple     &  65225    & 14013     & 21.48409  &  79238    & 26.66509 \\\\\n",
       "\t 2011      & Apple     & 108249    & 25922     & 23.94664  & 134171    & 26.66509 \\\\\n",
       "\t 2012      & Apple     & 156508    & 41733     & 26.66509  & 198241    & 26.66509 \\\\\n",
       "\t 2010      & Google    &  29321    &  8505     & 29.00651  &  37826    & 29.00651 \\\\\n",
       "\t 2011      & Google    &  37905    &  9737     & 25.68790  &  47642    & 29.00651 \\\\\n",
       "\t 2012      & Google    &  50175    & 10737     & 21.39910  &  60912    & 29.00651 \\\\\n",
       "\t 2010      & Microsoft &  62484    & 18760     & 30.02369  &  81244    & 33.09838 \\\\\n",
       "\t 2011      & Microsoft &  69943    & 23150     & 33.09838  &  93093    & 33.09838 \\\\\n",
       "\t 2012      & Microsoft &  73723    & 16978     & 23.02945  &  90701    & 33.09838 \\\\\n",
       "\\end{tabular}\n"
      ],
      "text/plain": [
       "  fy   company   revenue profit margin   sums   bestMargin\n",
       "1 2010 Apple      65225  14013  21.48409  79238 26.66509  \n",
       "2 2011 Apple     108249  25922  23.94664 134171 26.66509  \n",
       "3 2012 Apple     156508  41733  26.66509 198241 26.66509  \n",
       "4 2010 Google     29321   8505  29.00651  37826 29.00651  \n",
       "5 2011 Google     37905   9737  25.68790  47642 29.00651  \n",
       "6 2012 Google     50175  10737  21.39910  60912 29.00651  \n",
       "7 2010 Microsoft  62484  18760  30.02369  81244 33.09838  \n",
       "8 2011 Microsoft  69943  23150  33.09838  93093 33.09838  \n",
       "9 2012 Microsoft  73723  16978  23.02945  90701 33.09838  "
      ]
     },
     "metadata": {},
     "output_type": "display_data"
    }
   ],
   "source": [
    "highestProfitMargins\n"
   ]
  },
  {
   "cell_type": "code",
   "execution_count": 28,
   "metadata": {
    "collapsed": true,
    "run_control": {
     "frozen": false,
     "read_only": false
    }
   },
   "outputs": [],
   "source": [
    "highestProfitMargins <- ddply(companiesData,\n",
    "'company', function(x) x[x$margin==max(x$margin),])"
   ]
  },
  {
   "cell_type": "code",
   "execution_count": 29,
   "metadata": {
    "collapsed": false,
    "run_control": {
     "frozen": false,
     "read_only": false
    }
   },
   "outputs": [
    {
     "data": {
      "text/html": [
       "<table>\n",
       "<thead><tr><th scope=col>fy</th><th scope=col>company</th><th scope=col>revenue</th><th scope=col>profit</th><th scope=col>margin</th><th scope=col>sums</th></tr></thead>\n",
       "<tbody>\n",
       "\t<tr><td>2012     </td><td>Apple    </td><td>156508   </td><td>41733    </td><td>26.66509 </td><td>198241   </td></tr>\n",
       "\t<tr><td>2010     </td><td>Google   </td><td> 29321   </td><td> 8505    </td><td>29.00651 </td><td> 37826   </td></tr>\n",
       "\t<tr><td>2011     </td><td>Microsoft</td><td> 69943   </td><td>23150    </td><td>33.09838 </td><td> 93093   </td></tr>\n",
       "</tbody>\n",
       "</table>\n"
      ],
      "text/latex": [
       "\\begin{tabular}{r|llllll}\n",
       " fy & company & revenue & profit & margin & sums\\\\\n",
       "\\hline\n",
       "\t 2012      & Apple     & 156508    & 41733     & 26.66509  & 198241   \\\\\n",
       "\t 2010      & Google    &  29321    &  8505     & 29.00651  &  37826   \\\\\n",
       "\t 2011      & Microsoft &  69943    & 23150     & 33.09838  &  93093   \\\\\n",
       "\\end{tabular}\n"
      ],
      "text/plain": [
       "  fy   company   revenue profit margin   sums  \n",
       "1 2012 Apple     156508  41733  26.66509 198241\n",
       "2 2010 Google     29321   8505  29.00651  37826\n",
       "3 2011 Microsoft  69943  23150  33.09838  93093"
      ]
     },
     "metadata": {},
     "output_type": "display_data"
    },
    {
     "data": {
      "text/html": [
       "<table>\n",
       "<thead><tr><th scope=col>fy</th><th scope=col>company</th><th scope=col>revenue</th><th scope=col>profit</th><th scope=col>margin</th><th scope=col>sums</th></tr></thead>\n",
       "<tbody>\n",
       "\t<tr><td>2010     </td><td>Apple    </td><td> 65225   </td><td>14013    </td><td>21.48409 </td><td> 79238   </td></tr>\n",
       "\t<tr><td>2011     </td><td>Apple    </td><td>108249   </td><td>25922    </td><td>23.94664 </td><td>134171   </td></tr>\n",
       "\t<tr><td>2012     </td><td>Apple    </td><td>156508   </td><td>41733    </td><td>26.66509 </td><td>198241   </td></tr>\n",
       "\t<tr><td>2010     </td><td>Google   </td><td> 29321   </td><td> 8505    </td><td>29.00651 </td><td> 37826   </td></tr>\n",
       "\t<tr><td>2011     </td><td>Google   </td><td> 37905   </td><td> 9737    </td><td>25.68790 </td><td> 47642   </td></tr>\n",
       "\t<tr><td>2012     </td><td>Google   </td><td> 50175   </td><td>10737    </td><td>21.39910 </td><td> 60912   </td></tr>\n",
       "\t<tr><td>2010     </td><td>Microsoft</td><td> 62484   </td><td>18760    </td><td>30.02369 </td><td> 81244   </td></tr>\n",
       "\t<tr><td>2011     </td><td>Microsoft</td><td> 69943   </td><td>23150    </td><td>33.09838 </td><td> 93093   </td></tr>\n",
       "\t<tr><td>2012     </td><td>Microsoft</td><td> 73723   </td><td>16978    </td><td>23.02945 </td><td> 90701   </td></tr>\n",
       "</tbody>\n",
       "</table>\n"
      ],
      "text/latex": [
       "\\begin{tabular}{r|llllll}\n",
       " fy & company & revenue & profit & margin & sums\\\\\n",
       "\\hline\n",
       "\t 2010      & Apple     &  65225    & 14013     & 21.48409  &  79238   \\\\\n",
       "\t 2011      & Apple     & 108249    & 25922     & 23.94664  & 134171   \\\\\n",
       "\t 2012      & Apple     & 156508    & 41733     & 26.66509  & 198241   \\\\\n",
       "\t 2010      & Google    &  29321    &  8505     & 29.00651  &  37826   \\\\\n",
       "\t 2011      & Google    &  37905    &  9737     & 25.68790  &  47642   \\\\\n",
       "\t 2012      & Google    &  50175    & 10737     & 21.39910  &  60912   \\\\\n",
       "\t 2010      & Microsoft &  62484    & 18760     & 30.02369  &  81244   \\\\\n",
       "\t 2011      & Microsoft &  69943    & 23150     & 33.09838  &  93093   \\\\\n",
       "\t 2012      & Microsoft &  73723    & 16978     & 23.02945  &  90701   \\\\\n",
       "\\end{tabular}\n"
      ],
      "text/plain": [
       "  fy   company   revenue profit margin   sums  \n",
       "1 2010 Apple      65225  14013  21.48409  79238\n",
       "2 2011 Apple     108249  25922  23.94664 134171\n",
       "3 2012 Apple     156508  41733  26.66509 198241\n",
       "4 2010 Google     29321   8505  29.00651  37826\n",
       "5 2011 Google     37905   9737  25.68790  47642\n",
       "6 2012 Google     50175  10737  21.39910  60912\n",
       "7 2010 Microsoft  62484  18760  30.02369  81244\n",
       "8 2011 Microsoft  69943  23150  33.09838  93093\n",
       "9 2012 Microsoft  73723  16978  23.02945  90701"
      ]
     },
     "metadata": {},
     "output_type": "display_data"
    }
   ],
   "source": [
    "highestProfitMargins\n",
    "companiesData\n",
    "\n"
   ]
  },
  {
   "cell_type": "code",
   "execution_count": 30,
   "metadata": {
    "collapsed": false,
    "run_control": {
     "frozen": false,
     "read_only": false
    }
   },
   "outputs": [
    {
     "data": {
      "text/html": [
       "<table>\n",
       "<thead><tr><th></th><th scope=col>fy</th><th scope=col>company</th><th scope=col>revenue</th><th scope=col>profit</th><th scope=col>margin</th><th scope=col>sums</th></tr></thead>\n",
       "<tbody>\n",
       "\t<tr><th scope=row>8</th><td>2011     </td><td>Microsoft</td><td>69943    </td><td>23150    </td><td>33.09838 </td><td>93093    </td></tr>\n",
       "</tbody>\n",
       "</table>\n"
      ],
      "text/latex": [
       "\\begin{tabular}{r|llllll}\n",
       "  & fy & company & revenue & profit & margin & sums\\\\\n",
       "\\hline\n",
       "\t8 & 2011      & Microsoft & 69943     & 23150     & 33.09838  & 93093    \\\\\n",
       "\\end{tabular}\n"
      ],
      "text/plain": [
       "  fy   company   revenue profit margin   sums \n",
       "8 2011 Microsoft 69943   23150  33.09838 93093"
      ]
     },
     "metadata": {},
     "output_type": "display_data"
    }
   ],
   "source": [
    "companiesData[companiesData$margin==max(companiesData$margin),]"
   ]
  },
  {
   "cell_type": "code",
   "execution_count": 31,
   "metadata": {
    "collapsed": true,
    "run_control": {
     "frozen": false,
     "read_only": false
    }
   },
   "outputs": [],
   "source": [
    "highestProfitMargins <- ddply(companiesData,\n",
    "'company', summarize, bestMargin = max(margin))"
   ]
  },
  {
   "cell_type": "code",
   "execution_count": 32,
   "metadata": {
    "collapsed": false,
    "run_control": {
     "frozen": false,
     "read_only": false
    }
   },
   "outputs": [
    {
     "data": {
      "text/html": [
       "<table>\n",
       "<thead><tr><th scope=col>company</th><th scope=col>bestMargin</th></tr></thead>\n",
       "<tbody>\n",
       "\t<tr><td>Apple    </td><td>26.66509 </td></tr>\n",
       "\t<tr><td>Google   </td><td>29.00651 </td></tr>\n",
       "\t<tr><td>Microsoft</td><td>33.09838 </td></tr>\n",
       "</tbody>\n",
       "</table>\n"
      ],
      "text/latex": [
       "\\begin{tabular}{r|ll}\n",
       " company & bestMargin\\\\\n",
       "\\hline\n",
       "\t Apple     & 26.66509 \\\\\n",
       "\t Google    & 29.00651 \\\\\n",
       "\t Microsoft & 33.09838 \\\\\n",
       "\\end{tabular}\n"
      ],
      "text/plain": [
       "  company   bestMargin\n",
       "1 Apple     26.66509  \n",
       "2 Google    29.00651  \n",
       "3 Microsoft 33.09838  "
      ]
     },
     "metadata": {},
     "output_type": "display_data"
    }
   ],
   "source": [
    "highestProfitMargins"
   ]
  },
  {
   "cell_type": "code",
   "execution_count": 33,
   "metadata": {
    "collapsed": false,
    "run_control": {
     "frozen": false,
     "read_only": false
    }
   },
   "outputs": [
    {
     "name": "stderr",
     "output_type": "stream",
     "text": [
      "\n",
      "Attaching package: 'dplyr'\n",
      "\n",
      "The following objects are masked from 'package:plyr':\n",
      "\n",
      "    arrange, count, desc, failwith, id, mutate, rename, summarise,\n",
      "    summarize\n",
      "\n",
      "The following objects are masked from 'package:stats':\n",
      "\n",
      "    filter, lag\n",
      "\n",
      "The following objects are masked from 'package:base':\n",
      "\n",
      "    intersect, setdiff, setequal, union\n",
      "\n"
     ]
    }
   ],
   "source": [
    "#install.packages(\"dplyr\",repos = \"http://cran.us.r-project.org\", type=\"source\",dependencies=TRUE)\n",
    "library(\"dplyr\")\n",
    "myresults <- companiesData %>%\n",
    "group_by(company) %>%\n",
    "mutate(highestMargin = max(margin), lowestMargin =\n",
    "min(margin))"
   ]
  },
  {
   "cell_type": "code",
   "execution_count": 34,
   "metadata": {
    "collapsed": false,
    "run_control": {
     "frozen": false,
     "read_only": false
    }
   },
   "outputs": [
    {
     "data": {
      "text/html": [
       "<table>\n",
       "<thead><tr><th scope=col>fy</th><th scope=col>company</th><th scope=col>revenue</th><th scope=col>profit</th><th scope=col>margin</th><th scope=col>sums</th><th scope=col>highestMargin</th><th scope=col>lowestMargin</th></tr></thead>\n",
       "<tbody>\n",
       "\t<tr><td>2010     </td><td>Apple    </td><td> 65225   </td><td>14013    </td><td>21.48409 </td><td> 79238   </td><td>26.66509 </td><td>21.48409 </td></tr>\n",
       "\t<tr><td>2011     </td><td>Apple    </td><td>108249   </td><td>25922    </td><td>23.94664 </td><td>134171   </td><td>26.66509 </td><td>21.48409 </td></tr>\n",
       "\t<tr><td>2012     </td><td>Apple    </td><td>156508   </td><td>41733    </td><td>26.66509 </td><td>198241   </td><td>26.66509 </td><td>21.48409 </td></tr>\n",
       "\t<tr><td>2010     </td><td>Google   </td><td> 29321   </td><td> 8505    </td><td>29.00651 </td><td> 37826   </td><td>29.00651 </td><td>21.39910 </td></tr>\n",
       "\t<tr><td>2011     </td><td>Google   </td><td> 37905   </td><td> 9737    </td><td>25.68790 </td><td> 47642   </td><td>29.00651 </td><td>21.39910 </td></tr>\n",
       "\t<tr><td>2012     </td><td>Google   </td><td> 50175   </td><td>10737    </td><td>21.39910 </td><td> 60912   </td><td>29.00651 </td><td>21.39910 </td></tr>\n",
       "\t<tr><td>2010     </td><td>Microsoft</td><td> 62484   </td><td>18760    </td><td>30.02369 </td><td> 81244   </td><td>33.09838 </td><td>23.02945 </td></tr>\n",
       "\t<tr><td>2011     </td><td>Microsoft</td><td> 69943   </td><td>23150    </td><td>33.09838 </td><td> 93093   </td><td>33.09838 </td><td>23.02945 </td></tr>\n",
       "\t<tr><td>2012     </td><td>Microsoft</td><td> 73723   </td><td>16978    </td><td>23.02945 </td><td> 90701   </td><td>33.09838 </td><td>23.02945 </td></tr>\n",
       "</tbody>\n",
       "</table>\n"
      ],
      "text/latex": [
       "\\begin{tabular}{r|llllllll}\n",
       " fy & company & revenue & profit & margin & sums & highestMargin & lowestMargin\\\\\n",
       "\\hline\n",
       "\t 2010      & Apple     &  65225    & 14013     & 21.48409  &  79238    & 26.66509  & 21.48409 \\\\\n",
       "\t 2011      & Apple     & 108249    & 25922     & 23.94664  & 134171    & 26.66509  & 21.48409 \\\\\n",
       "\t 2012      & Apple     & 156508    & 41733     & 26.66509  & 198241    & 26.66509  & 21.48409 \\\\\n",
       "\t 2010      & Google    &  29321    &  8505     & 29.00651  &  37826    & 29.00651  & 21.39910 \\\\\n",
       "\t 2011      & Google    &  37905    &  9737     & 25.68790  &  47642    & 29.00651  & 21.39910 \\\\\n",
       "\t 2012      & Google    &  50175    & 10737     & 21.39910  &  60912    & 29.00651  & 21.39910 \\\\\n",
       "\t 2010      & Microsoft &  62484    & 18760     & 30.02369  &  81244    & 33.09838  & 23.02945 \\\\\n",
       "\t 2011      & Microsoft &  69943    & 23150     & 33.09838  &  93093    & 33.09838  & 23.02945 \\\\\n",
       "\t 2012      & Microsoft &  73723    & 16978     & 23.02945  &  90701    & 33.09838  & 23.02945 \\\\\n",
       "\\end{tabular}\n"
      ],
      "text/plain": [
       "  fy   company   revenue profit margin   sums   highestMargin lowestMargin\n",
       "1 2010 Apple      65225  14013  21.48409  79238 26.66509      21.48409    \n",
       "2 2011 Apple     108249  25922  23.94664 134171 26.66509      21.48409    \n",
       "3 2012 Apple     156508  41733  26.66509 198241 26.66509      21.48409    \n",
       "4 2010 Google     29321   8505  29.00651  37826 29.00651      21.39910    \n",
       "5 2011 Google     37905   9737  25.68790  47642 29.00651      21.39910    \n",
       "6 2012 Google     50175  10737  21.39910  60912 29.00651      21.39910    \n",
       "7 2010 Microsoft  62484  18760  30.02369  81244 33.09838      23.02945    \n",
       "8 2011 Microsoft  69943  23150  33.09838  93093 33.09838      23.02945    \n",
       "9 2012 Microsoft  73723  16978  23.02945  90701 33.09838      23.02945    "
      ]
     },
     "metadata": {},
     "output_type": "display_data"
    }
   ],
   "source": [
    "myresults"
   ]
  },
  {
   "cell_type": "code",
   "execution_count": 35,
   "metadata": {
    "collapsed": true,
    "run_control": {
     "frozen": false,
     "read_only": false
    }
   },
   "outputs": [],
   "source": [
    "highestProfitMargins <- companiesData %>%\n",
    "group_by(company) %>%\n",
    "summarise(bestMargin = max(margin))"
   ]
  },
  {
   "cell_type": "code",
   "execution_count": 36,
   "metadata": {
    "collapsed": false,
    "run_control": {
     "frozen": false,
     "read_only": false
    }
   },
   "outputs": [
    {
     "data": {
      "text/html": [
       "<table>\n",
       "<thead><tr><th scope=col>company</th><th scope=col>bestMargin</th></tr></thead>\n",
       "<tbody>\n",
       "\t<tr><td>Apple    </td><td>26.66509 </td></tr>\n",
       "\t<tr><td>Google   </td><td>29.00651 </td></tr>\n",
       "\t<tr><td>Microsoft</td><td>33.09838 </td></tr>\n",
       "</tbody>\n",
       "</table>\n"
      ],
      "text/latex": [
       "\\begin{tabular}{r|ll}\n",
       " company & bestMargin\\\\\n",
       "\\hline\n",
       "\t Apple     & 26.66509 \\\\\n",
       "\t Google    & 29.00651 \\\\\n",
       "\t Microsoft & 33.09838 \\\\\n",
       "\\end{tabular}\n"
      ],
      "text/plain": [
       "  company   bestMargin\n",
       "1 Apple     26.66509  \n",
       "2 Google    29.00651  \n",
       "3 Microsoft 33.09838  "
      ]
     },
     "metadata": {},
     "output_type": "display_data"
    }
   ],
   "source": [
    "highestProfitMargins"
   ]
  },
  {
   "cell_type": "code",
   "execution_count": 37,
   "metadata": {
    "collapsed": true,
    "run_control": {
     "frozen": false,
     "read_only": false
    }
   },
   "outputs": [],
   "source": [
    "vDates <- as.Date(c(\"2013-06-01\", \"2013-07-08\",\n",
    "\"2013-09-01\", \"2013-09-15\"))"
   ]
  },
  {
   "cell_type": "code",
   "execution_count": 38,
   "metadata": {
    "collapsed": false,
    "run_control": {
     "frozen": false,
     "read_only": false
    }
   },
   "outputs": [
    {
     "data": {
      "text/plain": [
       "[1] \"2013-06-01\" \"2013-07-08\" \"2013-09-01\" \"2013-09-15\""
      ]
     },
     "metadata": {},
     "output_type": "display_data"
    }
   ],
   "source": [
    "vDates"
   ]
  },
  {
   "cell_type": "code",
   "execution_count": 39,
   "metadata": {
    "collapsed": true,
    "run_control": {
     "frozen": false,
     "read_only": false
    }
   },
   "outputs": [],
   "source": [
    "vDates.bymonth <- cut(vDates, breaks = \"month\")"
   ]
  },
  {
   "cell_type": "code",
   "execution_count": 40,
   "metadata": {
    "collapsed": false,
    "run_control": {
     "frozen": false,
     "read_only": false
    }
   },
   "outputs": [
    {
     "data": {
      "text/html": [
       "<ol class=list-inline>\n",
       "\t<li>2013-06-01</li>\n",
       "\t<li>2013-07-01</li>\n",
       "\t<li>2013-09-01</li>\n",
       "\t<li>2013-09-01</li>\n",
       "</ol>\n"
      ],
      "text/latex": [
       "\\begin{enumerate*}\n",
       "\\item 2013-06-01\n",
       "\\item 2013-07-01\n",
       "\\item 2013-09-01\n",
       "\\item 2013-09-01\n",
       "\\end{enumerate*}\n"
      ],
      "text/markdown": [
       "1. 2013-06-01\n",
       "2. 2013-07-01\n",
       "3. 2013-09-01\n",
       "4. 2013-09-01\n",
       "\n",
       "\n"
      ],
      "text/plain": [
       "[1] 2013-06-01 2013-07-01 2013-09-01 2013-09-01\n",
       "Levels: 2013-06-01 2013-07-01 2013-08-01 2013-09-01"
      ]
     },
     "metadata": {},
     "output_type": "display_data"
    }
   ],
   "source": [
    "vDates.bymonth"
   ]
  },
  {
   "cell_type": "code",
   "execution_count": 41,
   "metadata": {
    "collapsed": true,
    "run_control": {
     "frozen": false,
     "read_only": false
    }
   },
   "outputs": [],
   "source": [
    "dfDates <- data.frame(vDates, vDates.bymonth)"
   ]
  },
  {
   "cell_type": "code",
   "execution_count": 42,
   "metadata": {
    "collapsed": false,
    "run_control": {
     "frozen": false,
     "read_only": false
    }
   },
   "outputs": [],
   "source": [
    "#orddfDates"
   ]
  },
  {
   "cell_type": "code",
   "execution_count": 43,
   "metadata": {
    "collapsed": true,
    "run_control": {
     "frozen": false,
     "read_only": false
    }
   },
   "outputs": [],
   "source": [
    "#order functions\n",
    "\n",
    "companyOrder <- order(companiesData$margin)"
   ]
  },
  {
   "cell_type": "code",
   "execution_count": 44,
   "metadata": {
    "collapsed": false,
    "run_control": {
     "frozen": false,
     "read_only": false
    }
   },
   "outputs": [
    {
     "data": {
      "text/html": [
       "<ol class=list-inline>\n",
       "\t<li>6</li>\n",
       "\t<li>1</li>\n",
       "\t<li>9</li>\n",
       "\t<li>2</li>\n",
       "\t<li>5</li>\n",
       "\t<li>3</li>\n",
       "\t<li>4</li>\n",
       "\t<li>7</li>\n",
       "\t<li>8</li>\n",
       "</ol>\n"
      ],
      "text/latex": [
       "\\begin{enumerate*}\n",
       "\\item 6\n",
       "\\item 1\n",
       "\\item 9\n",
       "\\item 2\n",
       "\\item 5\n",
       "\\item 3\n",
       "\\item 4\n",
       "\\item 7\n",
       "\\item 8\n",
       "\\end{enumerate*}\n"
      ],
      "text/markdown": [
       "1. 6\n",
       "2. 1\n",
       "3. 9\n",
       "4. 2\n",
       "5. 5\n",
       "6. 3\n",
       "7. 4\n",
       "8. 7\n",
       "9. 8\n",
       "\n",
       "\n"
      ],
      "text/plain": [
       "[1] 6 1 9 2 5 3 4 7 8"
      ]
     },
     "metadata": {},
     "output_type": "display_data"
    }
   ],
   "source": [
    "companyOrder"
   ]
  },
  {
   "cell_type": "code",
   "execution_count": 45,
   "metadata": {
    "collapsed": true,
    "run_control": {
     "frozen": false,
     "read_only": false
    }
   },
   "outputs": [],
   "source": [
    "companiesOrdered <- companiesData[companyOrder,]"
   ]
  },
  {
   "cell_type": "code",
   "execution_count": 46,
   "metadata": {
    "collapsed": false,
    "run_control": {
     "frozen": false,
     "read_only": false
    }
   },
   "outputs": [
    {
     "data": {
      "text/html": [
       "<table>\n",
       "<thead><tr><th></th><th scope=col>fy</th><th scope=col>company</th><th scope=col>revenue</th><th scope=col>profit</th><th scope=col>margin</th><th scope=col>sums</th></tr></thead>\n",
       "<tbody>\n",
       "\t<tr><th scope=row>6</th><td>2012     </td><td>Google   </td><td> 50175   </td><td>10737    </td><td>21.39910 </td><td> 60912   </td></tr>\n",
       "\t<tr><th scope=row>1</th><td>2010     </td><td>Apple    </td><td> 65225   </td><td>14013    </td><td>21.48409 </td><td> 79238   </td></tr>\n",
       "\t<tr><th scope=row>9</th><td>2012     </td><td>Microsoft</td><td> 73723   </td><td>16978    </td><td>23.02945 </td><td> 90701   </td></tr>\n",
       "\t<tr><th scope=row>2</th><td>2011     </td><td>Apple    </td><td>108249   </td><td>25922    </td><td>23.94664 </td><td>134171   </td></tr>\n",
       "\t<tr><th scope=row>5</th><td>2011     </td><td>Google   </td><td> 37905   </td><td> 9737    </td><td>25.68790 </td><td> 47642   </td></tr>\n",
       "\t<tr><th scope=row>3</th><td>2012     </td><td>Apple    </td><td>156508   </td><td>41733    </td><td>26.66509 </td><td>198241   </td></tr>\n",
       "\t<tr><th scope=row>4</th><td>2010     </td><td>Google   </td><td> 29321   </td><td> 8505    </td><td>29.00651 </td><td> 37826   </td></tr>\n",
       "\t<tr><th scope=row>7</th><td>2010     </td><td>Microsoft</td><td> 62484   </td><td>18760    </td><td>30.02369 </td><td> 81244   </td></tr>\n",
       "\t<tr><th scope=row>8</th><td>2011     </td><td>Microsoft</td><td> 69943   </td><td>23150    </td><td>33.09838 </td><td> 93093   </td></tr>\n",
       "</tbody>\n",
       "</table>\n"
      ],
      "text/latex": [
       "\\begin{tabular}{r|llllll}\n",
       "  & fy & company & revenue & profit & margin & sums\\\\\n",
       "\\hline\n",
       "\t6 & 2012      & Google    &  50175    & 10737     & 21.39910  &  60912   \\\\\n",
       "\t1 & 2010      & Apple     &  65225    & 14013     & 21.48409  &  79238   \\\\\n",
       "\t9 & 2012      & Microsoft &  73723    & 16978     & 23.02945  &  90701   \\\\\n",
       "\t2 & 2011      & Apple     & 108249    & 25922     & 23.94664  & 134171   \\\\\n",
       "\t5 & 2011      & Google    &  37905    &  9737     & 25.68790  &  47642   \\\\\n",
       "\t3 & 2012      & Apple     & 156508    & 41733     & 26.66509  & 198241   \\\\\n",
       "\t4 & 2010      & Google    &  29321    &  8505     & 29.00651  &  37826   \\\\\n",
       "\t7 & 2010      & Microsoft &  62484    & 18760     & 30.02369  &  81244   \\\\\n",
       "\t8 & 2011      & Microsoft &  69943    & 23150     & 33.09838  &  93093   \\\\\n",
       "\\end{tabular}\n"
      ],
      "text/plain": [
       "  fy   company   revenue profit margin   sums  \n",
       "6 2012 Google     50175  10737  21.39910  60912\n",
       "1 2010 Apple      65225  14013  21.48409  79238\n",
       "9 2012 Microsoft  73723  16978  23.02945  90701\n",
       "2 2011 Apple     108249  25922  23.94664 134171\n",
       "5 2011 Google     37905   9737  25.68790  47642\n",
       "3 2012 Apple     156508  41733  26.66509 198241\n",
       "4 2010 Google     29321   8505  29.00651  37826\n",
       "7 2010 Microsoft  62484  18760  30.02369  81244\n",
       "8 2011 Microsoft  69943  23150  33.09838  93093"
      ]
     },
     "metadata": {},
     "output_type": "display_data"
    }
   ],
   "source": [
    "companiesOrdered\n"
   ]
  },
  {
   "cell_type": "code",
   "execution_count": 47,
   "metadata": {
    "collapsed": false,
    "run_control": {
     "frozen": false,
     "read_only": false
    }
   },
   "outputs": [
    {
     "data": {
      "text/html": [
       "<ol class=list-inline>\n",
       "\t<li>21.3991031390135</li>\n",
       "\t<li>21.4840935224224</li>\n",
       "\t<li>23.0294480691236</li>\n",
       "\t<li>23.9466415394138</li>\n",
       "\t<li>25.6879039704524</li>\n",
       "\t<li>26.6650906023973</li>\n",
       "\t<li>29.0065141025204</li>\n",
       "\t<li>30.0236860636323</li>\n",
       "\t<li>33.0983801095177</li>\n",
       "</ol>\n"
      ],
      "text/latex": [
       "\\begin{enumerate*}\n",
       "\\item 21.3991031390135\n",
       "\\item 21.4840935224224\n",
       "\\item 23.0294480691236\n",
       "\\item 23.9466415394138\n",
       "\\item 25.6879039704524\n",
       "\\item 26.6650906023973\n",
       "\\item 29.0065141025204\n",
       "\\item 30.0236860636323\n",
       "\\item 33.0983801095177\n",
       "\\end{enumerate*}\n"
      ],
      "text/markdown": [
       "1. 21.3991031390135\n",
       "2. 21.4840935224224\n",
       "3. 23.0294480691236\n",
       "4. 23.9466415394138\n",
       "5. 25.6879039704524\n",
       "6. 26.6650906023973\n",
       "7. 29.0065141025204\n",
       "8. 30.0236860636323\n",
       "9. 33.0983801095177\n",
       "\n",
       "\n"
      ],
      "text/plain": [
       "[1] 21.39910 21.48409 23.02945 23.94664 25.68790 26.66509 29.00651 30.02369\n",
       "[9] 33.09838"
      ]
     },
     "metadata": {},
     "output_type": "display_data"
    }
   ],
   "source": [
    "sort(companiesOrdered$margin)"
   ]
  },
  {
   "cell_type": "markdown",
   "metadata": {},
   "source": [
    "# dplyr Package"
   ]
  },
  {
   "cell_type": "markdown",
   "metadata": {},
   "source": [
    "1. filter – It filters the data based on a condition  \n",
    "2. select – It is used to select columns of interest from a data set  \n",
    "3. arrange – It is used to arrange data set values on ascending or descending order  \n",
    "4. mutate – It is used to create new variables from existing variables  \n",
    "5. summarise (with group_by) – It is used to perform analysis by commonly used operations such as min, max, mean count etc  "
   ]
  },
  {
   "cell_type": "code",
   "execution_count": 48,
   "metadata": {
    "collapsed": true,
    "run_control": {
     "frozen": false,
     "read_only": false
    }
   },
   "outputs": [],
   "source": [
    "library(dplyr)"
   ]
  },
  {
   "cell_type": "code",
   "execution_count": 50,
   "metadata": {
    "collapsed": true,
    "run_control": {
     "frozen": false,
     "read_only": false
    }
   },
   "outputs": [],
   "source": [
    "data(\"mtcars\")\n",
    "data('iris') "
   ]
  },
  {
   "cell_type": "code",
   "execution_count": 52,
   "metadata": {
    "collapsed": false,
    "run_control": {
     "frozen": false,
     "read_only": false
    }
   },
   "outputs": [
    {
     "data": {
      "text/html": [
       "<table>\n",
       "<thead><tr><th></th><th scope=col>mpg</th><th scope=col>cyl</th><th scope=col>disp</th><th scope=col>hp</th><th scope=col>drat</th><th scope=col>wt</th><th scope=col>qsec</th><th scope=col>vs</th><th scope=col>am</th><th scope=col>gear</th><th scope=col>carb</th></tr></thead>\n",
       "<tbody>\n",
       "\t<tr><th scope=row>Mazda RX4</th><td>21.0 </td><td>6    </td><td>160  </td><td>110  </td><td>3.90 </td><td>2.620</td><td>16.46</td><td>0    </td><td>1    </td><td>4    </td><td>4    </td></tr>\n",
       "\t<tr><th scope=row>Mazda RX4 Wag</th><td>21.0 </td><td>6    </td><td>160  </td><td>110  </td><td>3.90 </td><td>2.875</td><td>17.02</td><td>0    </td><td>1    </td><td>4    </td><td>4    </td></tr>\n",
       "\t<tr><th scope=row>Datsun 710</th><td>22.8 </td><td>4    </td><td>108  </td><td> 93  </td><td>3.85 </td><td>2.320</td><td>18.61</td><td>1    </td><td>1    </td><td>4    </td><td>1    </td></tr>\n",
       "\t<tr><th scope=row>Hornet 4 Drive</th><td>21.4 </td><td>6    </td><td>258  </td><td>110  </td><td>3.08 </td><td>3.215</td><td>19.44</td><td>1    </td><td>0    </td><td>3    </td><td>1    </td></tr>\n",
       "\t<tr><th scope=row>Hornet Sportabout</th><td>18.7 </td><td>8    </td><td>360  </td><td>175  </td><td>3.15 </td><td>3.440</td><td>17.02</td><td>0    </td><td>0    </td><td>3    </td><td>2    </td></tr>\n",
       "\t<tr><th scope=row>Valiant</th><td>18.1 </td><td>6    </td><td>225  </td><td>105  </td><td>2.76 </td><td>3.460</td><td>20.22</td><td>1    </td><td>0    </td><td>3    </td><td>1    </td></tr>\n",
       "</tbody>\n",
       "</table>\n"
      ],
      "text/latex": [
       "\\begin{tabular}{r|lllllllllll}\n",
       "  & mpg & cyl & disp & hp & drat & wt & qsec & vs & am & gear & carb\\\\\n",
       "\\hline\n",
       "\tMazda RX4 & 21.0  & 6     & 160   & 110   & 3.90  & 2.620 & 16.46 & 0     & 1     & 4     & 4    \\\\\n",
       "\tMazda RX4 Wag & 21.0  & 6     & 160   & 110   & 3.90  & 2.875 & 17.02 & 0     & 1     & 4     & 4    \\\\\n",
       "\tDatsun 710 & 22.8  & 4     & 108   &  93   & 3.85  & 2.320 & 18.61 & 1     & 1     & 4     & 1    \\\\\n",
       "\tHornet 4 Drive & 21.4  & 6     & 258   & 110   & 3.08  & 3.215 & 19.44 & 1     & 0     & 3     & 1    \\\\\n",
       "\tHornet Sportabout & 18.7  & 8     & 360   & 175   & 3.15  & 3.440 & 17.02 & 0     & 0     & 3     & 2    \\\\\n",
       "\tValiant & 18.1  & 6     & 225   & 105   & 2.76  & 3.460 & 20.22 & 1     & 0     & 3     & 1    \\\\\n",
       "\\end{tabular}\n"
      ],
      "text/plain": [
       "                  mpg  cyl disp hp  drat wt    qsec  vs am gear carb\n",
       "Mazda RX4         21.0 6   160  110 3.90 2.620 16.46 0  1  4    4   \n",
       "Mazda RX4 Wag     21.0 6   160  110 3.90 2.875 17.02 0  1  4    4   \n",
       "Datsun 710        22.8 4   108   93 3.85 2.320 18.61 1  1  4    1   \n",
       "Hornet 4 Drive    21.4 6   258  110 3.08 3.215 19.44 1  0  3    1   \n",
       "Hornet Sportabout 18.7 8   360  175 3.15 3.440 17.02 0  0  3    2   \n",
       "Valiant           18.1 6   225  105 2.76 3.460 20.22 1  0  3    1   "
      ]
     },
     "metadata": {},
     "output_type": "display_data"
    }
   ],
   "source": [
    "mydata <- mtcars\n",
    "head(mydata)"
   ]
  },
  {
   "cell_type": "code",
   "execution_count": 53,
   "metadata": {
    "collapsed": false,
    "run_control": {
     "frozen": false,
     "read_only": false
    }
   },
   "outputs": [
    {
     "data": {
      "text/html": [
       "'data.frame'"
      ],
      "text/latex": [
       "'data.frame'"
      ],
      "text/markdown": [
       "'data.frame'"
      ],
      "text/plain": [
       "[1] \"data.frame\""
      ]
     },
     "metadata": {},
     "output_type": "display_data"
    }
   ],
   "source": [
    "class(mydata)"
   ]
  },
  {
   "cell_type": "code",
   "execution_count": 54,
   "metadata": {
    "collapsed": true,
    "run_control": {
     "frozen": false,
     "read_only": false
    }
   },
   "outputs": [],
   "source": [
    "mynewdata <- tbl_df(mydata) # making the mtcars data  as local dataframe\n",
    "myirisdata <- tbl_df(iris)  # making the iris data  as local dataframe"
   ]
  },
  {
   "cell_type": "code",
   "execution_count": 57,
   "metadata": {
    "collapsed": false,
    "run_control": {
     "frozen": false,
     "read_only": false
    }
   },
   "outputs": [],
   "source": [
    "#mynewdata\n",
    "#myirisdata"
   ]
  },
  {
   "cell_type": "code",
   "execution_count": 60,
   "metadata": {
    "collapsed": false,
    "run_control": {
     "frozen": false,
     "read_only": false
    }
   },
   "outputs": [
    {
     "data": {
      "text/html": [
       "<table>\n",
       "<thead><tr><th scope=col>mpg</th><th scope=col>cyl</th><th scope=col>disp</th><th scope=col>hp</th><th scope=col>drat</th><th scope=col>wt</th><th scope=col>qsec</th><th scope=col>vs</th><th scope=col>am</th><th scope=col>gear</th><th scope=col>carb</th></tr></thead>\n",
       "<tbody>\n",
       "\t<tr><td>21.0 </td><td>6    </td><td>160.0</td><td>110  </td><td>3.90 </td><td>2.620</td><td>16.46</td><td>0    </td><td>1    </td><td>4    </td><td>4    </td></tr>\n",
       "\t<tr><td>21.0 </td><td>6    </td><td>160.0</td><td>110  </td><td>3.90 </td><td>2.875</td><td>17.02</td><td>0    </td><td>1    </td><td>4    </td><td>4    </td></tr>\n",
       "\t<tr><td>21.4 </td><td>6    </td><td>258.0</td><td>110  </td><td>3.08 </td><td>3.215</td><td>19.44</td><td>1    </td><td>0    </td><td>3    </td><td>1    </td></tr>\n",
       "\t<tr><td>18.7 </td><td>8    </td><td>360.0</td><td>175  </td><td>3.15 </td><td>3.440</td><td>17.02</td><td>0    </td><td>0    </td><td>3    </td><td>2    </td></tr>\n",
       "\t<tr><td>18.1 </td><td>6    </td><td>225.0</td><td>105  </td><td>2.76 </td><td>3.460</td><td>20.22</td><td>1    </td><td>0    </td><td>3    </td><td>1    </td></tr>\n",
       "\t<tr><td>14.3 </td><td>8    </td><td>360.0</td><td>245  </td><td>3.21 </td><td>3.570</td><td>15.84</td><td>0    </td><td>0    </td><td>3    </td><td>4    </td></tr>\n",
       "\t<tr><td>19.2 </td><td>6    </td><td>167.6</td><td>123  </td><td>3.92 </td><td>3.440</td><td>18.30</td><td>1    </td><td>0    </td><td>4    </td><td>4    </td></tr>\n",
       "\t<tr><td>17.8 </td><td>6    </td><td>167.6</td><td>123  </td><td>3.92 </td><td>3.440</td><td>18.90</td><td>1    </td><td>0    </td><td>4    </td><td>4    </td></tr>\n",
       "\t<tr><td>16.4 </td><td>8    </td><td>275.8</td><td>180  </td><td>3.07 </td><td>4.070</td><td>17.40</td><td>0    </td><td>0    </td><td>3    </td><td>3    </td></tr>\n",
       "\t<tr><td>17.3 </td><td>8    </td><td>275.8</td><td>180  </td><td>3.07 </td><td>3.730</td><td>17.60</td><td>0    </td><td>0    </td><td>3    </td><td>3    </td></tr>\n",
       "\t<tr><td>15.2 </td><td>8    </td><td>275.8</td><td>180  </td><td>3.07 </td><td>3.780</td><td>18.00</td><td>0    </td><td>0    </td><td>3    </td><td>3    </td></tr>\n",
       "\t<tr><td>10.4 </td><td>8    </td><td>472.0</td><td>205  </td><td>2.93 </td><td>5.250</td><td>17.98</td><td>0    </td><td>0    </td><td>3    </td><td>4    </td></tr>\n",
       "\t<tr><td>10.4 </td><td>8    </td><td>460.0</td><td>215  </td><td>3.00 </td><td>5.424</td><td>17.82</td><td>0    </td><td>0    </td><td>3    </td><td>4    </td></tr>\n",
       "\t<tr><td>14.7 </td><td>8    </td><td>440.0</td><td>230  </td><td>3.23 </td><td>5.345</td><td>17.42</td><td>0    </td><td>0    </td><td>3    </td><td>4    </td></tr>\n",
       "\t<tr><td>15.5 </td><td>8    </td><td>318.0</td><td>150  </td><td>2.76 </td><td>3.520</td><td>16.87</td><td>0    </td><td>0    </td><td>3    </td><td>2    </td></tr>\n",
       "\t<tr><td>15.2 </td><td>8    </td><td>304.0</td><td>150  </td><td>3.15 </td><td>3.435</td><td>17.30</td><td>0    </td><td>0    </td><td>3    </td><td>2    </td></tr>\n",
       "\t<tr><td>13.3 </td><td>8    </td><td>350.0</td><td>245  </td><td>3.73 </td><td>3.840</td><td>15.41</td><td>0    </td><td>0    </td><td>3    </td><td>4    </td></tr>\n",
       "\t<tr><td>19.2 </td><td>8    </td><td>400.0</td><td>175  </td><td>3.08 </td><td>3.845</td><td>17.05</td><td>0    </td><td>0    </td><td>3    </td><td>2    </td></tr>\n",
       "\t<tr><td>15.8 </td><td>8    </td><td>351.0</td><td>264  </td><td>4.22 </td><td>3.170</td><td>14.50</td><td>0    </td><td>1    </td><td>5    </td><td>4    </td></tr>\n",
       "\t<tr><td>19.7 </td><td>6    </td><td>145.0</td><td>175  </td><td>3.62 </td><td>2.770</td><td>15.50</td><td>0    </td><td>1    </td><td>5    </td><td>6    </td></tr>\n",
       "\t<tr><td>15.0 </td><td>8    </td><td>301.0</td><td>335  </td><td>3.54 </td><td>3.570</td><td>14.60</td><td>0    </td><td>1    </td><td>5    </td><td>8    </td></tr>\n",
       "</tbody>\n",
       "</table>\n"
      ],
      "text/latex": [
       "\\begin{tabular}{r|lllllllllll}\n",
       " mpg & cyl & disp & hp & drat & wt & qsec & vs & am & gear & carb\\\\\n",
       "\\hline\n",
       "\t 21.0  & 6     & 160.0 & 110   & 3.90  & 2.620 & 16.46 & 0     & 1     & 4     & 4    \\\\\n",
       "\t 21.0  & 6     & 160.0 & 110   & 3.90  & 2.875 & 17.02 & 0     & 1     & 4     & 4    \\\\\n",
       "\t 21.4  & 6     & 258.0 & 110   & 3.08  & 3.215 & 19.44 & 1     & 0     & 3     & 1    \\\\\n",
       "\t 18.7  & 8     & 360.0 & 175   & 3.15  & 3.440 & 17.02 & 0     & 0     & 3     & 2    \\\\\n",
       "\t 18.1  & 6     & 225.0 & 105   & 2.76  & 3.460 & 20.22 & 1     & 0     & 3     & 1    \\\\\n",
       "\t 14.3  & 8     & 360.0 & 245   & 3.21  & 3.570 & 15.84 & 0     & 0     & 3     & 4    \\\\\n",
       "\t 19.2  & 6     & 167.6 & 123   & 3.92  & 3.440 & 18.30 & 1     & 0     & 4     & 4    \\\\\n",
       "\t 17.8  & 6     & 167.6 & 123   & 3.92  & 3.440 & 18.90 & 1     & 0     & 4     & 4    \\\\\n",
       "\t 16.4  & 8     & 275.8 & 180   & 3.07  & 4.070 & 17.40 & 0     & 0     & 3     & 3    \\\\\n",
       "\t 17.3  & 8     & 275.8 & 180   & 3.07  & 3.730 & 17.60 & 0     & 0     & 3     & 3    \\\\\n",
       "\t 15.2  & 8     & 275.8 & 180   & 3.07  & 3.780 & 18.00 & 0     & 0     & 3     & 3    \\\\\n",
       "\t 10.4  & 8     & 472.0 & 205   & 2.93  & 5.250 & 17.98 & 0     & 0     & 3     & 4    \\\\\n",
       "\t 10.4  & 8     & 460.0 & 215   & 3.00  & 5.424 & 17.82 & 0     & 0     & 3     & 4    \\\\\n",
       "\t 14.7  & 8     & 440.0 & 230   & 3.23  & 5.345 & 17.42 & 0     & 0     & 3     & 4    \\\\\n",
       "\t 15.5  & 8     & 318.0 & 150   & 2.76  & 3.520 & 16.87 & 0     & 0     & 3     & 2    \\\\\n",
       "\t 15.2  & 8     & 304.0 & 150   & 3.15  & 3.435 & 17.30 & 0     & 0     & 3     & 2    \\\\\n",
       "\t 13.3  & 8     & 350.0 & 245   & 3.73  & 3.840 & 15.41 & 0     & 0     & 3     & 4    \\\\\n",
       "\t 19.2  & 8     & 400.0 & 175   & 3.08  & 3.845 & 17.05 & 0     & 0     & 3     & 2    \\\\\n",
       "\t 15.8  & 8     & 351.0 & 264   & 4.22  & 3.170 & 14.50 & 0     & 1     & 5     & 4    \\\\\n",
       "\t 19.7  & 6     & 145.0 & 175   & 3.62  & 2.770 & 15.50 & 0     & 1     & 5     & 6    \\\\\n",
       "\t 15.0  & 8     & 301.0 & 335   & 3.54  & 3.570 & 14.60 & 0     & 1     & 5     & 8    \\\\\n",
       "\\end{tabular}\n"
      ],
      "text/plain": [
       "   mpg  cyl disp  hp  drat wt    qsec  vs am gear carb\n",
       "1  21.0 6   160.0 110 3.90 2.620 16.46 0  1  4    4   \n",
       "2  21.0 6   160.0 110 3.90 2.875 17.02 0  1  4    4   \n",
       "3  21.4 6   258.0 110 3.08 3.215 19.44 1  0  3    1   \n",
       "4  18.7 8   360.0 175 3.15 3.440 17.02 0  0  3    2   \n",
       "5  18.1 6   225.0 105 2.76 3.460 20.22 1  0  3    1   \n",
       "6  14.3 8   360.0 245 3.21 3.570 15.84 0  0  3    4   \n",
       "7  19.2 6   167.6 123 3.92 3.440 18.30 1  0  4    4   \n",
       "8  17.8 6   167.6 123 3.92 3.440 18.90 1  0  4    4   \n",
       "9  16.4 8   275.8 180 3.07 4.070 17.40 0  0  3    3   \n",
       "10 17.3 8   275.8 180 3.07 3.730 17.60 0  0  3    3   \n",
       "11 15.2 8   275.8 180 3.07 3.780 18.00 0  0  3    3   \n",
       "12 10.4 8   472.0 205 2.93 5.250 17.98 0  0  3    4   \n",
       "13 10.4 8   460.0 215 3.00 5.424 17.82 0  0  3    4   \n",
       "14 14.7 8   440.0 230 3.23 5.345 17.42 0  0  3    4   \n",
       "15 15.5 8   318.0 150 2.76 3.520 16.87 0  0  3    2   \n",
       "16 15.2 8   304.0 150 3.15 3.435 17.30 0  0  3    2   \n",
       "17 13.3 8   350.0 245 3.73 3.840 15.41 0  0  3    4   \n",
       "18 19.2 8   400.0 175 3.08 3.845 17.05 0  0  3    2   \n",
       "19 15.8 8   351.0 264 4.22 3.170 14.50 0  1  5    4   \n",
       "20 19.7 6   145.0 175 3.62 2.770 15.50 0  1  5    6   \n",
       "21 15.0 8   301.0 335 3.54 3.570 14.60 0  1  5    8   "
      ]
     },
     "metadata": {},
     "output_type": "display_data"
    }
   ],
   "source": [
    "filter(mynewdata, cyl > 4 | gear < 2)  #use filter to filter data with required condition"
   ]
  },
  {
   "cell_type": "code",
   "execution_count": 65,
   "metadata": {
    "collapsed": false,
    "run_control": {
     "frozen": false,
     "read_only": false
    }
   },
   "outputs": [
    {
     "data": {
      "text/html": [
       "<table>\n",
       "<thead><tr><th></th><th scope=col>cyl</th><th scope=col>mpg</th></tr></thead>\n",
       "<tbody>\n",
       "\t<tr><th scope=row>Mazda RX4</th><td>6   </td><td>21.0</td></tr>\n",
       "\t<tr><th scope=row>Mazda RX4 Wag</th><td>6   </td><td>21.0</td></tr>\n",
       "\t<tr><th scope=row>Datsun 710</th><td>4   </td><td>22.8</td></tr>\n",
       "\t<tr><th scope=row>Hornet 4 Drive</th><td>6   </td><td>21.4</td></tr>\n",
       "\t<tr><th scope=row>Hornet Sportabout</th><td>8   </td><td>18.7</td></tr>\n",
       "\t<tr><th scope=row>Valiant</th><td>6   </td><td>18.1</td></tr>\n",
       "\t<tr><th scope=row>Duster 360</th><td>8   </td><td>14.3</td></tr>\n",
       "\t<tr><th scope=row>Merc 240D</th><td>4   </td><td>24.4</td></tr>\n",
       "\t<tr><th scope=row>Merc 230</th><td>4   </td><td>22.8</td></tr>\n",
       "\t<tr><th scope=row>Merc 280</th><td>6   </td><td>19.2</td></tr>\n",
       "\t<tr><th scope=row>Merc 280C</th><td>6   </td><td>17.8</td></tr>\n",
       "\t<tr><th scope=row>Merc 450SE</th><td>8   </td><td>16.4</td></tr>\n",
       "\t<tr><th scope=row>Merc 450SL</th><td>8   </td><td>17.3</td></tr>\n",
       "\t<tr><th scope=row>Merc 450SLC</th><td>8   </td><td>15.2</td></tr>\n",
       "\t<tr><th scope=row>Cadillac Fleetwood</th><td>8   </td><td>10.4</td></tr>\n",
       "\t<tr><th scope=row>Lincoln Continental</th><td>8   </td><td>10.4</td></tr>\n",
       "\t<tr><th scope=row>Chrysler Imperial</th><td>8   </td><td>14.7</td></tr>\n",
       "\t<tr><th scope=row>Fiat 128</th><td>4   </td><td>32.4</td></tr>\n",
       "\t<tr><th scope=row>Honda Civic</th><td>4   </td><td>30.4</td></tr>\n",
       "\t<tr><th scope=row>Toyota Corolla</th><td>4   </td><td>33.9</td></tr>\n",
       "\t<tr><th scope=row>Toyota Corona</th><td>4   </td><td>21.5</td></tr>\n",
       "\t<tr><th scope=row>Dodge Challenger</th><td>8   </td><td>15.5</td></tr>\n",
       "\t<tr><th scope=row>AMC Javelin</th><td>8   </td><td>15.2</td></tr>\n",
       "\t<tr><th scope=row>Camaro Z28</th><td>8   </td><td>13.3</td></tr>\n",
       "\t<tr><th scope=row>Pontiac Firebird</th><td>8   </td><td>19.2</td></tr>\n",
       "\t<tr><th scope=row>Fiat X1-9</th><td>4   </td><td>27.3</td></tr>\n",
       "\t<tr><th scope=row>Porsche 914-2</th><td>4   </td><td>26.0</td></tr>\n",
       "\t<tr><th scope=row>Lotus Europa</th><td>4   </td><td>30.4</td></tr>\n",
       "\t<tr><th scope=row>Ford Pantera L</th><td>8   </td><td>15.8</td></tr>\n",
       "\t<tr><th scope=row>Ferrari Dino</th><td>6   </td><td>19.7</td></tr>\n",
       "\t<tr><th scope=row>Maserati Bora</th><td>8   </td><td>15.0</td></tr>\n",
       "\t<tr><th scope=row>Volvo 142E</th><td>4   </td><td>21.4</td></tr>\n",
       "</tbody>\n",
       "</table>\n"
      ],
      "text/latex": [
       "\\begin{tabular}{r|ll}\n",
       "  & cyl & mpg\\\\\n",
       "\\hline\n",
       "\tMazda RX4 & 6    & 21.0\\\\\n",
       "\tMazda RX4 Wag & 6    & 21.0\\\\\n",
       "\tDatsun 710 & 4    & 22.8\\\\\n",
       "\tHornet 4 Drive & 6    & 21.4\\\\\n",
       "\tHornet Sportabout & 8    & 18.7\\\\\n",
       "\tValiant & 6    & 18.1\\\\\n",
       "\tDuster 360 & 8    & 14.3\\\\\n",
       "\tMerc 240D & 4    & 24.4\\\\\n",
       "\tMerc 230 & 4    & 22.8\\\\\n",
       "\tMerc 280 & 6    & 19.2\\\\\n",
       "\tMerc 280C & 6    & 17.8\\\\\n",
       "\tMerc 450SE & 8    & 16.4\\\\\n",
       "\tMerc 450SL & 8    & 17.3\\\\\n",
       "\tMerc 450SLC & 8    & 15.2\\\\\n",
       "\tCadillac Fleetwood & 8    & 10.4\\\\\n",
       "\tLincoln Continental & 8    & 10.4\\\\\n",
       "\tChrysler Imperial & 8    & 14.7\\\\\n",
       "\tFiat 128 & 4    & 32.4\\\\\n",
       "\tHonda Civic & 4    & 30.4\\\\\n",
       "\tToyota Corolla & 4    & 33.9\\\\\n",
       "\tToyota Corona & 4    & 21.5\\\\\n",
       "\tDodge Challenger & 8    & 15.5\\\\\n",
       "\tAMC Javelin & 8    & 15.2\\\\\n",
       "\tCamaro Z28 & 8    & 13.3\\\\\n",
       "\tPontiac Firebird & 8    & 19.2\\\\\n",
       "\tFiat X1-9 & 4    & 27.3\\\\\n",
       "\tPorsche 914-2 & 4    & 26.0\\\\\n",
       "\tLotus Europa & 4    & 30.4\\\\\n",
       "\tFord Pantera L & 8    & 15.8\\\\\n",
       "\tFerrari Dino & 6    & 19.7\\\\\n",
       "\tMaserati Bora & 8    & 15.0\\\\\n",
       "\tVolvo 142E & 4    & 21.4\\\\\n",
       "\\end{tabular}\n"
      ],
      "text/plain": [
       "                    cyl mpg \n",
       "Mazda RX4           6   21.0\n",
       "Mazda RX4 Wag       6   21.0\n",
       "Datsun 710          4   22.8\n",
       "Hornet 4 Drive      6   21.4\n",
       "Hornet Sportabout   8   18.7\n",
       "Valiant             6   18.1\n",
       "Duster 360          8   14.3\n",
       "Merc 240D           4   24.4\n",
       "Merc 230            4   22.8\n",
       "Merc 280            6   19.2\n",
       "Merc 280C           6   17.8\n",
       "Merc 450SE          8   16.4\n",
       "Merc 450SL          8   17.3\n",
       "Merc 450SLC         8   15.2\n",
       "Cadillac Fleetwood  8   10.4\n",
       "Lincoln Continental 8   10.4\n",
       "Chrysler Imperial   8   14.7\n",
       "Fiat 128            4   32.4\n",
       "Honda Civic         4   30.4\n",
       "Toyota Corolla      4   33.9\n",
       "Toyota Corona       4   21.5\n",
       "Dodge Challenger    8   15.5\n",
       "AMC Javelin         8   15.2\n",
       "Camaro Z28          8   13.3\n",
       "Pontiac Firebird    8   19.2\n",
       "Fiat X1-9           4   27.3\n",
       "Porsche 914-2       4   26.0\n",
       "Lotus Europa        4   30.4\n",
       "Ford Pantera L      8   15.8\n",
       "Ferrari Dino        6   19.7\n",
       "Maserati Bora       8   15.0\n",
       "Volvo 142E          4   21.4"
      ]
     },
     "metadata": {},
     "output_type": "display_data"
    },
    {
     "data": {
      "text/html": [
       "<table>\n",
       "<thead><tr><th></th><th scope=col>cyl</th><th scope=col>mpg</th></tr></thead>\n",
       "<tbody>\n",
       "\t<tr><th scope=row>Mazda RX4</th><td>6   </td><td>21.0</td></tr>\n",
       "\t<tr><th scope=row>Mazda RX4 Wag</th><td>6   </td><td>21.0</td></tr>\n",
       "\t<tr><th scope=row>Datsun 710</th><td>4   </td><td>22.8</td></tr>\n",
       "\t<tr><th scope=row>Hornet 4 Drive</th><td>6   </td><td>21.4</td></tr>\n",
       "\t<tr><th scope=row>Hornet Sportabout</th><td>8   </td><td>18.7</td></tr>\n",
       "\t<tr><th scope=row>Valiant</th><td>6   </td><td>18.1</td></tr>\n",
       "\t<tr><th scope=row>Duster 360</th><td>8   </td><td>14.3</td></tr>\n",
       "\t<tr><th scope=row>Merc 240D</th><td>4   </td><td>24.4</td></tr>\n",
       "\t<tr><th scope=row>Merc 230</th><td>4   </td><td>22.8</td></tr>\n",
       "\t<tr><th scope=row>Merc 280</th><td>6   </td><td>19.2</td></tr>\n",
       "\t<tr><th scope=row>Merc 280C</th><td>6   </td><td>17.8</td></tr>\n",
       "\t<tr><th scope=row>Merc 450SE</th><td>8   </td><td>16.4</td></tr>\n",
       "\t<tr><th scope=row>Merc 450SL</th><td>8   </td><td>17.3</td></tr>\n",
       "\t<tr><th scope=row>Merc 450SLC</th><td>8   </td><td>15.2</td></tr>\n",
       "\t<tr><th scope=row>Cadillac Fleetwood</th><td>8   </td><td>10.4</td></tr>\n",
       "\t<tr><th scope=row>Lincoln Continental</th><td>8   </td><td>10.4</td></tr>\n",
       "\t<tr><th scope=row>Chrysler Imperial</th><td>8   </td><td>14.7</td></tr>\n",
       "\t<tr><th scope=row>Fiat 128</th><td>4   </td><td>32.4</td></tr>\n",
       "\t<tr><th scope=row>Honda Civic</th><td>4   </td><td>30.4</td></tr>\n",
       "\t<tr><th scope=row>Toyota Corolla</th><td>4   </td><td>33.9</td></tr>\n",
       "\t<tr><th scope=row>Toyota Corona</th><td>4   </td><td>21.5</td></tr>\n",
       "\t<tr><th scope=row>Dodge Challenger</th><td>8   </td><td>15.5</td></tr>\n",
       "\t<tr><th scope=row>AMC Javelin</th><td>8   </td><td>15.2</td></tr>\n",
       "\t<tr><th scope=row>Camaro Z28</th><td>8   </td><td>13.3</td></tr>\n",
       "\t<tr><th scope=row>Pontiac Firebird</th><td>8   </td><td>19.2</td></tr>\n",
       "\t<tr><th scope=row>Fiat X1-9</th><td>4   </td><td>27.3</td></tr>\n",
       "\t<tr><th scope=row>Porsche 914-2</th><td>4   </td><td>26.0</td></tr>\n",
       "\t<tr><th scope=row>Lotus Europa</th><td>4   </td><td>30.4</td></tr>\n",
       "\t<tr><th scope=row>Ford Pantera L</th><td>8   </td><td>15.8</td></tr>\n",
       "\t<tr><th scope=row>Ferrari Dino</th><td>6   </td><td>19.7</td></tr>\n",
       "\t<tr><th scope=row>Maserati Bora</th><td>8   </td><td>15.0</td></tr>\n",
       "\t<tr><th scope=row>Volvo 142E</th><td>4   </td><td>21.4</td></tr>\n",
       "</tbody>\n",
       "</table>\n"
      ],
      "text/latex": [
       "\\begin{tabular}{r|ll}\n",
       "  & cyl & mpg\\\\\n",
       "\\hline\n",
       "\tMazda RX4 & 6    & 21.0\\\\\n",
       "\tMazda RX4 Wag & 6    & 21.0\\\\\n",
       "\tDatsun 710 & 4    & 22.8\\\\\n",
       "\tHornet 4 Drive & 6    & 21.4\\\\\n",
       "\tHornet Sportabout & 8    & 18.7\\\\\n",
       "\tValiant & 6    & 18.1\\\\\n",
       "\tDuster 360 & 8    & 14.3\\\\\n",
       "\tMerc 240D & 4    & 24.4\\\\\n",
       "\tMerc 230 & 4    & 22.8\\\\\n",
       "\tMerc 280 & 6    & 19.2\\\\\n",
       "\tMerc 280C & 6    & 17.8\\\\\n",
       "\tMerc 450SE & 8    & 16.4\\\\\n",
       "\tMerc 450SL & 8    & 17.3\\\\\n",
       "\tMerc 450SLC & 8    & 15.2\\\\\n",
       "\tCadillac Fleetwood & 8    & 10.4\\\\\n",
       "\tLincoln Continental & 8    & 10.4\\\\\n",
       "\tChrysler Imperial & 8    & 14.7\\\\\n",
       "\tFiat 128 & 4    & 32.4\\\\\n",
       "\tHonda Civic & 4    & 30.4\\\\\n",
       "\tToyota Corolla & 4    & 33.9\\\\\n",
       "\tToyota Corona & 4    & 21.5\\\\\n",
       "\tDodge Challenger & 8    & 15.5\\\\\n",
       "\tAMC Javelin & 8    & 15.2\\\\\n",
       "\tCamaro Z28 & 8    & 13.3\\\\\n",
       "\tPontiac Firebird & 8    & 19.2\\\\\n",
       "\tFiat X1-9 & 4    & 27.3\\\\\n",
       "\tPorsche 914-2 & 4    & 26.0\\\\\n",
       "\tLotus Europa & 4    & 30.4\\\\\n",
       "\tFord Pantera L & 8    & 15.8\\\\\n",
       "\tFerrari Dino & 6    & 19.7\\\\\n",
       "\tMaserati Bora & 8    & 15.0\\\\\n",
       "\tVolvo 142E & 4    & 21.4\\\\\n",
       "\\end{tabular}\n"
      ],
      "text/plain": [
       "                    cyl mpg \n",
       "Mazda RX4           6   21.0\n",
       "Mazda RX4 Wag       6   21.0\n",
       "Datsun 710          4   22.8\n",
       "Hornet 4 Drive      6   21.4\n",
       "Hornet Sportabout   8   18.7\n",
       "Valiant             6   18.1\n",
       "Duster 360          8   14.3\n",
       "Merc 240D           4   24.4\n",
       "Merc 230            4   22.8\n",
       "Merc 280            6   19.2\n",
       "Merc 280C           6   17.8\n",
       "Merc 450SE          8   16.4\n",
       "Merc 450SL          8   17.3\n",
       "Merc 450SLC         8   15.2\n",
       "Cadillac Fleetwood  8   10.4\n",
       "Lincoln Continental 8   10.4\n",
       "Chrysler Imperial   8   14.7\n",
       "Fiat 128            4   32.4\n",
       "Honda Civic         4   30.4\n",
       "Toyota Corolla      4   33.9\n",
       "Toyota Corona       4   21.5\n",
       "Dodge Challenger    8   15.5\n",
       "AMC Javelin         8   15.2\n",
       "Camaro Z28          8   13.3\n",
       "Pontiac Firebird    8   19.2\n",
       "Fiat X1-9           4   27.3\n",
       "Porsche 914-2       4   26.0\n",
       "Lotus Europa        4   30.4\n",
       "Ford Pantera L      8   15.8\n",
       "Ferrari Dino        6   19.7\n",
       "Maserati Bora       8   15.0\n",
       "Volvo 142E          4   21.4"
      ]
     },
     "metadata": {},
     "output_type": "display_data"
    }
   ],
   "source": [
    "select(mynewdata, cyl,mpg,-hp)\n",
    "#mtcars[,c(mtcars$cyl,mtcars$mpg)]\n",
    "mtcars[,c(2,1)]"
   ]
  },
  {
   "cell_type": "code",
   "execution_count": 66,
   "metadata": {
    "collapsed": false,
    "run_control": {
     "frozen": false,
     "read_only": false
    }
   },
   "outputs": [
    {
     "data": {
      "text/html": [
       "<table>\n",
       "<thead><tr><th></th><th scope=col>cyl</th><th scope=col>disp</th><th scope=col>hp</th><th scope=col>drat</th><th scope=col>wt</th><th scope=col>qsec</th><th scope=col>vs</th><th scope=col>am</th><th scope=col>gear</th></tr></thead>\n",
       "<tbody>\n",
       "\t<tr><th scope=row>Mazda RX4</th><td>6    </td><td>160.0</td><td>110  </td><td>3.90 </td><td>2.620</td><td>16.46</td><td>0    </td><td>1    </td><td>4    </td></tr>\n",
       "\t<tr><th scope=row>Mazda RX4 Wag</th><td>6    </td><td>160.0</td><td>110  </td><td>3.90 </td><td>2.875</td><td>17.02</td><td>0    </td><td>1    </td><td>4    </td></tr>\n",
       "\t<tr><th scope=row>Datsun 710</th><td>4    </td><td>108.0</td><td> 93  </td><td>3.85 </td><td>2.320</td><td>18.61</td><td>1    </td><td>1    </td><td>4    </td></tr>\n",
       "\t<tr><th scope=row>Hornet 4 Drive</th><td>6    </td><td>258.0</td><td>110  </td><td>3.08 </td><td>3.215</td><td>19.44</td><td>1    </td><td>0    </td><td>3    </td></tr>\n",
       "\t<tr><th scope=row>Hornet Sportabout</th><td>8    </td><td>360.0</td><td>175  </td><td>3.15 </td><td>3.440</td><td>17.02</td><td>0    </td><td>0    </td><td>3    </td></tr>\n",
       "\t<tr><th scope=row>Valiant</th><td>6    </td><td>225.0</td><td>105  </td><td>2.76 </td><td>3.460</td><td>20.22</td><td>1    </td><td>0    </td><td>3    </td></tr>\n",
       "\t<tr><th scope=row>Duster 360</th><td>8    </td><td>360.0</td><td>245  </td><td>3.21 </td><td>3.570</td><td>15.84</td><td>0    </td><td>0    </td><td>3    </td></tr>\n",
       "\t<tr><th scope=row>Merc 240D</th><td>4    </td><td>146.7</td><td> 62  </td><td>3.69 </td><td>3.190</td><td>20.00</td><td>1    </td><td>0    </td><td>4    </td></tr>\n",
       "\t<tr><th scope=row>Merc 230</th><td>4    </td><td>140.8</td><td> 95  </td><td>3.92 </td><td>3.150</td><td>22.90</td><td>1    </td><td>0    </td><td>4    </td></tr>\n",
       "\t<tr><th scope=row>Merc 280</th><td>6    </td><td>167.6</td><td>123  </td><td>3.92 </td><td>3.440</td><td>18.30</td><td>1    </td><td>0    </td><td>4    </td></tr>\n",
       "\t<tr><th scope=row>Merc 280C</th><td>6    </td><td>167.6</td><td>123  </td><td>3.92 </td><td>3.440</td><td>18.90</td><td>1    </td><td>0    </td><td>4    </td></tr>\n",
       "\t<tr><th scope=row>Merc 450SE</th><td>8    </td><td>275.8</td><td>180  </td><td>3.07 </td><td>4.070</td><td>17.40</td><td>0    </td><td>0    </td><td>3    </td></tr>\n",
       "\t<tr><th scope=row>Merc 450SL</th><td>8    </td><td>275.8</td><td>180  </td><td>3.07 </td><td>3.730</td><td>17.60</td><td>0    </td><td>0    </td><td>3    </td></tr>\n",
       "\t<tr><th scope=row>Merc 450SLC</th><td>8    </td><td>275.8</td><td>180  </td><td>3.07 </td><td>3.780</td><td>18.00</td><td>0    </td><td>0    </td><td>3    </td></tr>\n",
       "\t<tr><th scope=row>Cadillac Fleetwood</th><td>8    </td><td>472.0</td><td>205  </td><td>2.93 </td><td>5.250</td><td>17.98</td><td>0    </td><td>0    </td><td>3    </td></tr>\n",
       "\t<tr><th scope=row>Lincoln Continental</th><td>8    </td><td>460.0</td><td>215  </td><td>3.00 </td><td>5.424</td><td>17.82</td><td>0    </td><td>0    </td><td>3    </td></tr>\n",
       "\t<tr><th scope=row>Chrysler Imperial</th><td>8    </td><td>440.0</td><td>230  </td><td>3.23 </td><td>5.345</td><td>17.42</td><td>0    </td><td>0    </td><td>3    </td></tr>\n",
       "\t<tr><th scope=row>Fiat 128</th><td>4    </td><td> 78.7</td><td> 66  </td><td>4.08 </td><td>2.200</td><td>19.47</td><td>1    </td><td>1    </td><td>4    </td></tr>\n",
       "\t<tr><th scope=row>Honda Civic</th><td>4    </td><td> 75.7</td><td> 52  </td><td>4.93 </td><td>1.615</td><td>18.52</td><td>1    </td><td>1    </td><td>4    </td></tr>\n",
       "\t<tr><th scope=row>Toyota Corolla</th><td>4    </td><td> 71.1</td><td> 65  </td><td>4.22 </td><td>1.835</td><td>19.90</td><td>1    </td><td>1    </td><td>4    </td></tr>\n",
       "\t<tr><th scope=row>Toyota Corona</th><td>4    </td><td>120.1</td><td> 97  </td><td>3.70 </td><td>2.465</td><td>20.01</td><td>1    </td><td>0    </td><td>3    </td></tr>\n",
       "\t<tr><th scope=row>Dodge Challenger</th><td>8    </td><td>318.0</td><td>150  </td><td>2.76 </td><td>3.520</td><td>16.87</td><td>0    </td><td>0    </td><td>3    </td></tr>\n",
       "\t<tr><th scope=row>AMC Javelin</th><td>8    </td><td>304.0</td><td>150  </td><td>3.15 </td><td>3.435</td><td>17.30</td><td>0    </td><td>0    </td><td>3    </td></tr>\n",
       "\t<tr><th scope=row>Camaro Z28</th><td>8    </td><td>350.0</td><td>245  </td><td>3.73 </td><td>3.840</td><td>15.41</td><td>0    </td><td>0    </td><td>3    </td></tr>\n",
       "\t<tr><th scope=row>Pontiac Firebird</th><td>8    </td><td>400.0</td><td>175  </td><td>3.08 </td><td>3.845</td><td>17.05</td><td>0    </td><td>0    </td><td>3    </td></tr>\n",
       "\t<tr><th scope=row>Fiat X1-9</th><td>4    </td><td> 79.0</td><td> 66  </td><td>4.08 </td><td>1.935</td><td>18.90</td><td>1    </td><td>1    </td><td>4    </td></tr>\n",
       "\t<tr><th scope=row>Porsche 914-2</th><td>4    </td><td>120.3</td><td> 91  </td><td>4.43 </td><td>2.140</td><td>16.70</td><td>0    </td><td>1    </td><td>5    </td></tr>\n",
       "\t<tr><th scope=row>Lotus Europa</th><td>4    </td><td> 95.1</td><td>113  </td><td>3.77 </td><td>1.513</td><td>16.90</td><td>1    </td><td>1    </td><td>5    </td></tr>\n",
       "\t<tr><th scope=row>Ford Pantera L</th><td>8    </td><td>351.0</td><td>264  </td><td>4.22 </td><td>3.170</td><td>14.50</td><td>0    </td><td>1    </td><td>5    </td></tr>\n",
       "\t<tr><th scope=row>Ferrari Dino</th><td>6    </td><td>145.0</td><td>175  </td><td>3.62 </td><td>2.770</td><td>15.50</td><td>0    </td><td>1    </td><td>5    </td></tr>\n",
       "\t<tr><th scope=row>Maserati Bora</th><td>8    </td><td>301.0</td><td>335  </td><td>3.54 </td><td>3.570</td><td>14.60</td><td>0    </td><td>1    </td><td>5    </td></tr>\n",
       "\t<tr><th scope=row>Volvo 142E</th><td>4    </td><td>121.0</td><td>109  </td><td>4.11 </td><td>2.780</td><td>18.60</td><td>1    </td><td>1    </td><td>4    </td></tr>\n",
       "</tbody>\n",
       "</table>\n"
      ],
      "text/latex": [
       "\\begin{tabular}{r|lllllllll}\n",
       "  & cyl & disp & hp & drat & wt & qsec & vs & am & gear\\\\\n",
       "\\hline\n",
       "\tMazda RX4 & 6     & 160.0 & 110   & 3.90  & 2.620 & 16.46 & 0     & 1     & 4    \\\\\n",
       "\tMazda RX4 Wag & 6     & 160.0 & 110   & 3.90  & 2.875 & 17.02 & 0     & 1     & 4    \\\\\n",
       "\tDatsun 710 & 4     & 108.0 &  93   & 3.85  & 2.320 & 18.61 & 1     & 1     & 4    \\\\\n",
       "\tHornet 4 Drive & 6     & 258.0 & 110   & 3.08  & 3.215 & 19.44 & 1     & 0     & 3    \\\\\n",
       "\tHornet Sportabout & 8     & 360.0 & 175   & 3.15  & 3.440 & 17.02 & 0     & 0     & 3    \\\\\n",
       "\tValiant & 6     & 225.0 & 105   & 2.76  & 3.460 & 20.22 & 1     & 0     & 3    \\\\\n",
       "\tDuster 360 & 8     & 360.0 & 245   & 3.21  & 3.570 & 15.84 & 0     & 0     & 3    \\\\\n",
       "\tMerc 240D & 4     & 146.7 &  62   & 3.69  & 3.190 & 20.00 & 1     & 0     & 4    \\\\\n",
       "\tMerc 230 & 4     & 140.8 &  95   & 3.92  & 3.150 & 22.90 & 1     & 0     & 4    \\\\\n",
       "\tMerc 280 & 6     & 167.6 & 123   & 3.92  & 3.440 & 18.30 & 1     & 0     & 4    \\\\\n",
       "\tMerc 280C & 6     & 167.6 & 123   & 3.92  & 3.440 & 18.90 & 1     & 0     & 4    \\\\\n",
       "\tMerc 450SE & 8     & 275.8 & 180   & 3.07  & 4.070 & 17.40 & 0     & 0     & 3    \\\\\n",
       "\tMerc 450SL & 8     & 275.8 & 180   & 3.07  & 3.730 & 17.60 & 0     & 0     & 3    \\\\\n",
       "\tMerc 450SLC & 8     & 275.8 & 180   & 3.07  & 3.780 & 18.00 & 0     & 0     & 3    \\\\\n",
       "\tCadillac Fleetwood & 8     & 472.0 & 205   & 2.93  & 5.250 & 17.98 & 0     & 0     & 3    \\\\\n",
       "\tLincoln Continental & 8     & 460.0 & 215   & 3.00  & 5.424 & 17.82 & 0     & 0     & 3    \\\\\n",
       "\tChrysler Imperial & 8     & 440.0 & 230   & 3.23  & 5.345 & 17.42 & 0     & 0     & 3    \\\\\n",
       "\tFiat 128 & 4     &  78.7 &  66   & 4.08  & 2.200 & 19.47 & 1     & 1     & 4    \\\\\n",
       "\tHonda Civic & 4     &  75.7 &  52   & 4.93  & 1.615 & 18.52 & 1     & 1     & 4    \\\\\n",
       "\tToyota Corolla & 4     &  71.1 &  65   & 4.22  & 1.835 & 19.90 & 1     & 1     & 4    \\\\\n",
       "\tToyota Corona & 4     & 120.1 &  97   & 3.70  & 2.465 & 20.01 & 1     & 0     & 3    \\\\\n",
       "\tDodge Challenger & 8     & 318.0 & 150   & 2.76  & 3.520 & 16.87 & 0     & 0     & 3    \\\\\n",
       "\tAMC Javelin & 8     & 304.0 & 150   & 3.15  & 3.435 & 17.30 & 0     & 0     & 3    \\\\\n",
       "\tCamaro Z28 & 8     & 350.0 & 245   & 3.73  & 3.840 & 15.41 & 0     & 0     & 3    \\\\\n",
       "\tPontiac Firebird & 8     & 400.0 & 175   & 3.08  & 3.845 & 17.05 & 0     & 0     & 3    \\\\\n",
       "\tFiat X1-9 & 4     &  79.0 &  66   & 4.08  & 1.935 & 18.90 & 1     & 1     & 4    \\\\\n",
       "\tPorsche 914-2 & 4     & 120.3 &  91   & 4.43  & 2.140 & 16.70 & 0     & 1     & 5    \\\\\n",
       "\tLotus Europa & 4     &  95.1 & 113   & 3.77  & 1.513 & 16.90 & 1     & 1     & 5    \\\\\n",
       "\tFord Pantera L & 8     & 351.0 & 264   & 4.22  & 3.170 & 14.50 & 0     & 1     & 5    \\\\\n",
       "\tFerrari Dino & 6     & 145.0 & 175   & 3.62  & 2.770 & 15.50 & 0     & 1     & 5    \\\\\n",
       "\tMaserati Bora & 8     & 301.0 & 335   & 3.54  & 3.570 & 14.60 & 0     & 1     & 5    \\\\\n",
       "\tVolvo 142E & 4     & 121.0 & 109   & 4.11  & 2.780 & 18.60 & 1     & 1     & 4    \\\\\n",
       "\\end{tabular}\n"
      ],
      "text/plain": [
       "                    cyl disp  hp  drat wt    qsec  vs am gear\n",
       "Mazda RX4           6   160.0 110 3.90 2.620 16.46 0  1  4   \n",
       "Mazda RX4 Wag       6   160.0 110 3.90 2.875 17.02 0  1  4   \n",
       "Datsun 710          4   108.0  93 3.85 2.320 18.61 1  1  4   \n",
       "Hornet 4 Drive      6   258.0 110 3.08 3.215 19.44 1  0  3   \n",
       "Hornet Sportabout   8   360.0 175 3.15 3.440 17.02 0  0  3   \n",
       "Valiant             6   225.0 105 2.76 3.460 20.22 1  0  3   \n",
       "Duster 360          8   360.0 245 3.21 3.570 15.84 0  0  3   \n",
       "Merc 240D           4   146.7  62 3.69 3.190 20.00 1  0  4   \n",
       "Merc 230            4   140.8  95 3.92 3.150 22.90 1  0  4   \n",
       "Merc 280            6   167.6 123 3.92 3.440 18.30 1  0  4   \n",
       "Merc 280C           6   167.6 123 3.92 3.440 18.90 1  0  4   \n",
       "Merc 450SE          8   275.8 180 3.07 4.070 17.40 0  0  3   \n",
       "Merc 450SL          8   275.8 180 3.07 3.730 17.60 0  0  3   \n",
       "Merc 450SLC         8   275.8 180 3.07 3.780 18.00 0  0  3   \n",
       "Cadillac Fleetwood  8   472.0 205 2.93 5.250 17.98 0  0  3   \n",
       "Lincoln Continental 8   460.0 215 3.00 5.424 17.82 0  0  3   \n",
       "Chrysler Imperial   8   440.0 230 3.23 5.345 17.42 0  0  3   \n",
       "Fiat 128            4    78.7  66 4.08 2.200 19.47 1  1  4   \n",
       "Honda Civic         4    75.7  52 4.93 1.615 18.52 1  1  4   \n",
       "Toyota Corolla      4    71.1  65 4.22 1.835 19.90 1  1  4   \n",
       "Toyota Corona       4   120.1  97 3.70 2.465 20.01 1  0  3   \n",
       "Dodge Challenger    8   318.0 150 2.76 3.520 16.87 0  0  3   \n",
       "AMC Javelin         8   304.0 150 3.15 3.435 17.30 0  0  3   \n",
       "Camaro Z28          8   350.0 245 3.73 3.840 15.41 0  0  3   \n",
       "Pontiac Firebird    8   400.0 175 3.08 3.845 17.05 0  0  3   \n",
       "Fiat X1-9           4    79.0  66 4.08 1.935 18.90 1  1  4   \n",
       "Porsche 914-2       4   120.3  91 4.43 2.140 16.70 0  1  5   \n",
       "Lotus Europa        4    95.1 113 3.77 1.513 16.90 1  1  5   \n",
       "Ford Pantera L      8   351.0 264 4.22 3.170 14.50 0  1  5   \n",
       "Ferrari Dino        6   145.0 175 3.62 2.770 15.50 0  1  5   \n",
       "Maserati Bora       8   301.0 335 3.54 3.570 14.60 0  1  5   \n",
       "Volvo 142E          4   121.0 109 4.11 2.780 18.60 1  1  4   "
      ]
     },
     "metadata": {},
     "output_type": "display_data"
    }
   ],
   "source": [
    "select(mynewdata, cyl:gear)"
   ]
  },
  {
   "cell_type": "code",
   "execution_count": 67,
   "metadata": {
    "collapsed": false,
    "run_control": {
     "frozen": false,
     "read_only": false
    }
   },
   "outputs": [
    {
     "data": {
      "text/html": [
       "<table>\n",
       "<thead><tr><th scope=col>cyl</th><th scope=col>wt</th><th scope=col>gear</th></tr></thead>\n",
       "<tbody>\n",
       "\t<tr><td>6    </td><td>2.620</td><td>4    </td></tr>\n",
       "\t<tr><td>6    </td><td>2.875</td><td>4    </td></tr>\n",
       "\t<tr><td>4    </td><td>2.320</td><td>4    </td></tr>\n",
       "\t<tr><td>6    </td><td>3.215</td><td>3    </td></tr>\n",
       "\t<tr><td>8    </td><td>3.440</td><td>3    </td></tr>\n",
       "\t<tr><td>6    </td><td>3.460</td><td>3    </td></tr>\n",
       "\t<tr><td>8    </td><td>3.570</td><td>3    </td></tr>\n",
       "\t<tr><td>4    </td><td>3.190</td><td>4    </td></tr>\n",
       "\t<tr><td>4    </td><td>3.150</td><td>4    </td></tr>\n",
       "\t<tr><td>6    </td><td>3.440</td><td>4    </td></tr>\n",
       "\t<tr><td>6    </td><td>3.440</td><td>4    </td></tr>\n",
       "\t<tr><td>8    </td><td>4.070</td><td>3    </td></tr>\n",
       "\t<tr><td>8    </td><td>3.730</td><td>3    </td></tr>\n",
       "\t<tr><td>8    </td><td>3.780</td><td>3    </td></tr>\n",
       "\t<tr><td>8    </td><td>5.250</td><td>3    </td></tr>\n",
       "\t<tr><td>8    </td><td>5.424</td><td>3    </td></tr>\n",
       "\t<tr><td>8    </td><td>5.345</td><td>3    </td></tr>\n",
       "\t<tr><td>4    </td><td>2.200</td><td>4    </td></tr>\n",
       "\t<tr><td>4    </td><td>2.465</td><td>3    </td></tr>\n",
       "\t<tr><td>8    </td><td>3.520</td><td>3    </td></tr>\n",
       "\t<tr><td>8    </td><td>3.435</td><td>3    </td></tr>\n",
       "\t<tr><td>8    </td><td>3.840</td><td>3    </td></tr>\n",
       "\t<tr><td>8    </td><td>3.845</td><td>3    </td></tr>\n",
       "\t<tr><td>4    </td><td>2.140</td><td>5    </td></tr>\n",
       "\t<tr><td>8    </td><td>3.170</td><td>5    </td></tr>\n",
       "\t<tr><td>6    </td><td>2.770</td><td>5    </td></tr>\n",
       "\t<tr><td>8    </td><td>3.570</td><td>5    </td></tr>\n",
       "\t<tr><td>4    </td><td>2.780</td><td>4    </td></tr>\n",
       "</tbody>\n",
       "</table>\n"
      ],
      "text/latex": [
       "\\begin{tabular}{r|lll}\n",
       " cyl & wt & gear\\\\\n",
       "\\hline\n",
       "\t 6     & 2.620 & 4    \\\\\n",
       "\t 6     & 2.875 & 4    \\\\\n",
       "\t 4     & 2.320 & 4    \\\\\n",
       "\t 6     & 3.215 & 3    \\\\\n",
       "\t 8     & 3.440 & 3    \\\\\n",
       "\t 6     & 3.460 & 3    \\\\\n",
       "\t 8     & 3.570 & 3    \\\\\n",
       "\t 4     & 3.190 & 4    \\\\\n",
       "\t 4     & 3.150 & 4    \\\\\n",
       "\t 6     & 3.440 & 4    \\\\\n",
       "\t 6     & 3.440 & 4    \\\\\n",
       "\t 8     & 4.070 & 3    \\\\\n",
       "\t 8     & 3.730 & 3    \\\\\n",
       "\t 8     & 3.780 & 3    \\\\\n",
       "\t 8     & 5.250 & 3    \\\\\n",
       "\t 8     & 5.424 & 3    \\\\\n",
       "\t 8     & 5.345 & 3    \\\\\n",
       "\t 4     & 2.200 & 4    \\\\\n",
       "\t 4     & 2.465 & 3    \\\\\n",
       "\t 8     & 3.520 & 3    \\\\\n",
       "\t 8     & 3.435 & 3    \\\\\n",
       "\t 8     & 3.840 & 3    \\\\\n",
       "\t 8     & 3.845 & 3    \\\\\n",
       "\t 4     & 2.140 & 5    \\\\\n",
       "\t 8     & 3.170 & 5    \\\\\n",
       "\t 6     & 2.770 & 5    \\\\\n",
       "\t 8     & 3.570 & 5    \\\\\n",
       "\t 4     & 2.780 & 4    \\\\\n",
       "\\end{tabular}\n"
      ],
      "text/plain": [
       "   cyl wt    gear\n",
       "1  6   2.620 4   \n",
       "2  6   2.875 4   \n",
       "3  4   2.320 4   \n",
       "4  6   3.215 3   \n",
       "5  8   3.440 3   \n",
       "6  6   3.460 3   \n",
       "7  8   3.570 3   \n",
       "8  4   3.190 4   \n",
       "9  4   3.150 4   \n",
       "10 6   3.440 4   \n",
       "11 6   3.440 4   \n",
       "12 8   4.070 3   \n",
       "13 8   3.730 3   \n",
       "14 8   3.780 3   \n",
       "15 8   5.250 3   \n",
       "16 8   5.424 3   \n",
       "17 8   5.345 3   \n",
       "18 4   2.200 4   \n",
       "19 4   2.465 3   \n",
       "20 8   3.520 3   \n",
       "21 8   3.435 3   \n",
       "22 8   3.840 3   \n",
       "23 8   3.845 3   \n",
       "24 4   2.140 5   \n",
       "25 8   3.170 5   \n",
       "26 6   2.770 5   \n",
       "27 8   3.570 5   \n",
       "28 4   2.780 4   "
      ]
     },
     "metadata": {},
     "output_type": "display_data"
    }
   ],
   "source": [
    "mynewdata %>% select(cyl, wt, gear) %>% filter(wt > 2)"
   ]
  },
  {
   "cell_type": "code",
   "execution_count": 68,
   "metadata": {
    "collapsed": false,
    "run_control": {
     "frozen": false,
     "read_only": false
    }
   },
   "outputs": [
    {
     "data": {
      "text/html": [
       "<table>\n",
       "<thead><tr><th scope=col>cyl</th><th scope=col>wt</th><th scope=col>gear</th></tr></thead>\n",
       "<tbody>\n",
       "\t<tr><td>4    </td><td>1.513</td><td>5    </td></tr>\n",
       "\t<tr><td>4    </td><td>1.615</td><td>4    </td></tr>\n",
       "\t<tr><td>4    </td><td>1.835</td><td>4    </td></tr>\n",
       "\t<tr><td>4    </td><td>1.935</td><td>4    </td></tr>\n",
       "\t<tr><td>4    </td><td>2.140</td><td>5    </td></tr>\n",
       "\t<tr><td>4    </td><td>2.200</td><td>4    </td></tr>\n",
       "\t<tr><td>4    </td><td>2.320</td><td>4    </td></tr>\n",
       "\t<tr><td>4    </td><td>2.465</td><td>3    </td></tr>\n",
       "\t<tr><td>6    </td><td>2.620</td><td>4    </td></tr>\n",
       "\t<tr><td>6    </td><td>2.770</td><td>5    </td></tr>\n",
       "\t<tr><td>4    </td><td>2.780</td><td>4    </td></tr>\n",
       "\t<tr><td>6    </td><td>2.875</td><td>4    </td></tr>\n",
       "\t<tr><td>4    </td><td>3.150</td><td>4    </td></tr>\n",
       "\t<tr><td>8    </td><td>3.170</td><td>5    </td></tr>\n",
       "\t<tr><td>4    </td><td>3.190</td><td>4    </td></tr>\n",
       "\t<tr><td>6    </td><td>3.215</td><td>3    </td></tr>\n",
       "\t<tr><td>8    </td><td>3.435</td><td>3    </td></tr>\n",
       "\t<tr><td>8    </td><td>3.440</td><td>3    </td></tr>\n",
       "\t<tr><td>6    </td><td>3.440</td><td>4    </td></tr>\n",
       "\t<tr><td>6    </td><td>3.440</td><td>4    </td></tr>\n",
       "\t<tr><td>6    </td><td>3.460</td><td>3    </td></tr>\n",
       "\t<tr><td>8    </td><td>3.520</td><td>3    </td></tr>\n",
       "\t<tr><td>8    </td><td>3.570</td><td>3    </td></tr>\n",
       "\t<tr><td>8    </td><td>3.570</td><td>5    </td></tr>\n",
       "\t<tr><td>8    </td><td>3.730</td><td>3    </td></tr>\n",
       "\t<tr><td>8    </td><td>3.780</td><td>3    </td></tr>\n",
       "\t<tr><td>8    </td><td>3.840</td><td>3    </td></tr>\n",
       "\t<tr><td>8    </td><td>3.845</td><td>3    </td></tr>\n",
       "\t<tr><td>8    </td><td>4.070</td><td>3    </td></tr>\n",
       "\t<tr><td>8    </td><td>5.250</td><td>3    </td></tr>\n",
       "\t<tr><td>8    </td><td>5.345</td><td>3    </td></tr>\n",
       "\t<tr><td>8    </td><td>5.424</td><td>3    </td></tr>\n",
       "</tbody>\n",
       "</table>\n"
      ],
      "text/latex": [
       "\\begin{tabular}{r|lll}\n",
       " cyl & wt & gear\\\\\n",
       "\\hline\n",
       "\t 4     & 1.513 & 5    \\\\\n",
       "\t 4     & 1.615 & 4    \\\\\n",
       "\t 4     & 1.835 & 4    \\\\\n",
       "\t 4     & 1.935 & 4    \\\\\n",
       "\t 4     & 2.140 & 5    \\\\\n",
       "\t 4     & 2.200 & 4    \\\\\n",
       "\t 4     & 2.320 & 4    \\\\\n",
       "\t 4     & 2.465 & 3    \\\\\n",
       "\t 6     & 2.620 & 4    \\\\\n",
       "\t 6     & 2.770 & 5    \\\\\n",
       "\t 4     & 2.780 & 4    \\\\\n",
       "\t 6     & 2.875 & 4    \\\\\n",
       "\t 4     & 3.150 & 4    \\\\\n",
       "\t 8     & 3.170 & 5    \\\\\n",
       "\t 4     & 3.190 & 4    \\\\\n",
       "\t 6     & 3.215 & 3    \\\\\n",
       "\t 8     & 3.435 & 3    \\\\\n",
       "\t 8     & 3.440 & 3    \\\\\n",
       "\t 6     & 3.440 & 4    \\\\\n",
       "\t 6     & 3.440 & 4    \\\\\n",
       "\t 6     & 3.460 & 3    \\\\\n",
       "\t 8     & 3.520 & 3    \\\\\n",
       "\t 8     & 3.570 & 3    \\\\\n",
       "\t 8     & 3.570 & 5    \\\\\n",
       "\t 8     & 3.730 & 3    \\\\\n",
       "\t 8     & 3.780 & 3    \\\\\n",
       "\t 8     & 3.840 & 3    \\\\\n",
       "\t 8     & 3.845 & 3    \\\\\n",
       "\t 8     & 4.070 & 3    \\\\\n",
       "\t 8     & 5.250 & 3    \\\\\n",
       "\t 8     & 5.345 & 3    \\\\\n",
       "\t 8     & 5.424 & 3    \\\\\n",
       "\\end{tabular}\n"
      ],
      "text/plain": [
       "   cyl wt    gear\n",
       "1  4   1.513 5   \n",
       "2  4   1.615 4   \n",
       "3  4   1.835 4   \n",
       "4  4   1.935 4   \n",
       "5  4   2.140 5   \n",
       "6  4   2.200 4   \n",
       "7  4   2.320 4   \n",
       "8  4   2.465 3   \n",
       "9  6   2.620 4   \n",
       "10 6   2.770 5   \n",
       "11 4   2.780 4   \n",
       "12 6   2.875 4   \n",
       "13 4   3.150 4   \n",
       "14 8   3.170 5   \n",
       "15 4   3.190 4   \n",
       "16 6   3.215 3   \n",
       "17 8   3.435 3   \n",
       "18 8   3.440 3   \n",
       "19 6   3.440 4   \n",
       "20 6   3.440 4   \n",
       "21 6   3.460 3   \n",
       "22 8   3.520 3   \n",
       "23 8   3.570 3   \n",
       "24 8   3.570 5   \n",
       "25 8   3.730 3   \n",
       "26 8   3.780 3   \n",
       "27 8   3.840 3   \n",
       "28 8   3.845 3   \n",
       "29 8   4.070 3   \n",
       "30 8   5.250 3   \n",
       "31 8   5.345 3   \n",
       "32 8   5.424 3   "
      ]
     },
     "metadata": {},
     "output_type": "display_data"
    }
   ],
   "source": [
    "mynewdata %>% select(cyl, wt, gear) %>% arrange(wt,de) #arrange can be used to reorder rows"
   ]
  },
  {
   "cell_type": "code",
   "execution_count": 69,
   "metadata": {
    "collapsed": false,
    "run_control": {
     "frozen": false,
     "read_only": false
    }
   },
   "outputs": [
    {
     "data": {
      "text/html": [
       "<table>\n",
       "<thead><tr><th scope=col>cyl</th><th scope=col>wt</th><th scope=col>gear</th></tr></thead>\n",
       "<tbody>\n",
       "\t<tr><td>8    </td><td>5.424</td><td>3    </td></tr>\n",
       "\t<tr><td>8    </td><td>5.345</td><td>3    </td></tr>\n",
       "\t<tr><td>8    </td><td>5.250</td><td>3    </td></tr>\n",
       "\t<tr><td>8    </td><td>4.070</td><td>3    </td></tr>\n",
       "\t<tr><td>8    </td><td>3.845</td><td>3    </td></tr>\n",
       "\t<tr><td>8    </td><td>3.840</td><td>3    </td></tr>\n",
       "\t<tr><td>8    </td><td>3.780</td><td>3    </td></tr>\n",
       "\t<tr><td>8    </td><td>3.730</td><td>3    </td></tr>\n",
       "\t<tr><td>8    </td><td>3.570</td><td>3    </td></tr>\n",
       "\t<tr><td>8    </td><td>3.570</td><td>5    </td></tr>\n",
       "\t<tr><td>8    </td><td>3.520</td><td>3    </td></tr>\n",
       "\t<tr><td>6    </td><td>3.460</td><td>3    </td></tr>\n",
       "\t<tr><td>8    </td><td>3.440</td><td>3    </td></tr>\n",
       "\t<tr><td>6    </td><td>3.440</td><td>4    </td></tr>\n",
       "\t<tr><td>6    </td><td>3.440</td><td>4    </td></tr>\n",
       "\t<tr><td>8    </td><td>3.435</td><td>3    </td></tr>\n",
       "\t<tr><td>6    </td><td>3.215</td><td>3    </td></tr>\n",
       "\t<tr><td>4    </td><td>3.190</td><td>4    </td></tr>\n",
       "\t<tr><td>8    </td><td>3.170</td><td>5    </td></tr>\n",
       "\t<tr><td>4    </td><td>3.150</td><td>4    </td></tr>\n",
       "\t<tr><td>6    </td><td>2.875</td><td>4    </td></tr>\n",
       "\t<tr><td>4    </td><td>2.780</td><td>4    </td></tr>\n",
       "\t<tr><td>6    </td><td>2.770</td><td>5    </td></tr>\n",
       "\t<tr><td>6    </td><td>2.620</td><td>4    </td></tr>\n",
       "\t<tr><td>4    </td><td>2.465</td><td>3    </td></tr>\n",
       "\t<tr><td>4    </td><td>2.320</td><td>4    </td></tr>\n",
       "\t<tr><td>4    </td><td>2.200</td><td>4    </td></tr>\n",
       "\t<tr><td>4    </td><td>2.140</td><td>5    </td></tr>\n",
       "\t<tr><td>4    </td><td>1.935</td><td>4    </td></tr>\n",
       "\t<tr><td>4    </td><td>1.835</td><td>4    </td></tr>\n",
       "\t<tr><td>4    </td><td>1.615</td><td>4    </td></tr>\n",
       "\t<tr><td>4    </td><td>1.513</td><td>5    </td></tr>\n",
       "</tbody>\n",
       "</table>\n"
      ],
      "text/latex": [
       "\\begin{tabular}{r|lll}\n",
       " cyl & wt & gear\\\\\n",
       "\\hline\n",
       "\t 8     & 5.424 & 3    \\\\\n",
       "\t 8     & 5.345 & 3    \\\\\n",
       "\t 8     & 5.250 & 3    \\\\\n",
       "\t 8     & 4.070 & 3    \\\\\n",
       "\t 8     & 3.845 & 3    \\\\\n",
       "\t 8     & 3.840 & 3    \\\\\n",
       "\t 8     & 3.780 & 3    \\\\\n",
       "\t 8     & 3.730 & 3    \\\\\n",
       "\t 8     & 3.570 & 3    \\\\\n",
       "\t 8     & 3.570 & 5    \\\\\n",
       "\t 8     & 3.520 & 3    \\\\\n",
       "\t 6     & 3.460 & 3    \\\\\n",
       "\t 8     & 3.440 & 3    \\\\\n",
       "\t 6     & 3.440 & 4    \\\\\n",
       "\t 6     & 3.440 & 4    \\\\\n",
       "\t 8     & 3.435 & 3    \\\\\n",
       "\t 6     & 3.215 & 3    \\\\\n",
       "\t 4     & 3.190 & 4    \\\\\n",
       "\t 8     & 3.170 & 5    \\\\\n",
       "\t 4     & 3.150 & 4    \\\\\n",
       "\t 6     & 2.875 & 4    \\\\\n",
       "\t 4     & 2.780 & 4    \\\\\n",
       "\t 6     & 2.770 & 5    \\\\\n",
       "\t 6     & 2.620 & 4    \\\\\n",
       "\t 4     & 2.465 & 3    \\\\\n",
       "\t 4     & 2.320 & 4    \\\\\n",
       "\t 4     & 2.200 & 4    \\\\\n",
       "\t 4     & 2.140 & 5    \\\\\n",
       "\t 4     & 1.935 & 4    \\\\\n",
       "\t 4     & 1.835 & 4    \\\\\n",
       "\t 4     & 1.615 & 4    \\\\\n",
       "\t 4     & 1.513 & 5    \\\\\n",
       "\\end{tabular}\n"
      ],
      "text/plain": [
       "   cyl wt    gear\n",
       "1  8   5.424 3   \n",
       "2  8   5.345 3   \n",
       "3  8   5.250 3   \n",
       "4  8   4.070 3   \n",
       "5  8   3.845 3   \n",
       "6  8   3.840 3   \n",
       "7  8   3.780 3   \n",
       "8  8   3.730 3   \n",
       "9  8   3.570 3   \n",
       "10 8   3.570 5   \n",
       "11 8   3.520 3   \n",
       "12 6   3.460 3   \n",
       "13 8   3.440 3   \n",
       "14 6   3.440 4   \n",
       "15 6   3.440 4   \n",
       "16 8   3.435 3   \n",
       "17 6   3.215 3   \n",
       "18 4   3.190 4   \n",
       "19 8   3.170 5   \n",
       "20 4   3.150 4   \n",
       "21 6   2.875 4   \n",
       "22 4   2.780 4   \n",
       "23 6   2.770 5   \n",
       "24 6   2.620 4   \n",
       "25 4   2.465 3   \n",
       "26 4   2.320 4   \n",
       "27 4   2.200 4   \n",
       "28 4   2.140 5   \n",
       "29 4   1.935 4   \n",
       "30 4   1.835 4   \n",
       "31 4   1.615 4   \n",
       "32 4   1.513 5   "
      ]
     },
     "metadata": {},
     "output_type": "display_data"
    }
   ],
   "source": [
    "mynewdata%>%select(cyl, wt, gear)%>%arrange(desc(wt)) #for descending"
   ]
  },
  {
   "cell_type": "code",
   "execution_count": 71,
   "metadata": {
    "collapsed": false,
    "run_control": {
     "frozen": false,
     "read_only": false
    }
   },
   "outputs": [
    {
     "data": {
      "text/html": [
       "<table>\n",
       "<thead><tr><th scope=col>mpg</th><th scope=col>cyl</th><th scope=col>newvariable</th></tr></thead>\n",
       "<tbody>\n",
       "\t<tr><td>21.0 </td><td>6    </td><td>126.0</td></tr>\n",
       "\t<tr><td>21.0 </td><td>6    </td><td>126.0</td></tr>\n",
       "\t<tr><td>22.8 </td><td>4    </td><td> 91.2</td></tr>\n",
       "\t<tr><td>21.4 </td><td>6    </td><td>128.4</td></tr>\n",
       "\t<tr><td>18.7 </td><td>8    </td><td>149.6</td></tr>\n",
       "\t<tr><td>18.1 </td><td>6    </td><td>108.6</td></tr>\n",
       "\t<tr><td>14.3 </td><td>8    </td><td>114.4</td></tr>\n",
       "\t<tr><td>24.4 </td><td>4    </td><td> 97.6</td></tr>\n",
       "\t<tr><td>22.8 </td><td>4    </td><td> 91.2</td></tr>\n",
       "\t<tr><td>19.2 </td><td>6    </td><td>115.2</td></tr>\n",
       "\t<tr><td>17.8 </td><td>6    </td><td>106.8</td></tr>\n",
       "\t<tr><td>16.4 </td><td>8    </td><td>131.2</td></tr>\n",
       "\t<tr><td>17.3 </td><td>8    </td><td>138.4</td></tr>\n",
       "\t<tr><td>15.2 </td><td>8    </td><td>121.6</td></tr>\n",
       "\t<tr><td>10.4 </td><td>8    </td><td> 83.2</td></tr>\n",
       "\t<tr><td>10.4 </td><td>8    </td><td> 83.2</td></tr>\n",
       "\t<tr><td>14.7 </td><td>8    </td><td>117.6</td></tr>\n",
       "\t<tr><td>32.4 </td><td>4    </td><td>129.6</td></tr>\n",
       "\t<tr><td>30.4 </td><td>4    </td><td>121.6</td></tr>\n",
       "\t<tr><td>33.9 </td><td>4    </td><td>135.6</td></tr>\n",
       "\t<tr><td>21.5 </td><td>4    </td><td> 86.0</td></tr>\n",
       "\t<tr><td>15.5 </td><td>8    </td><td>124.0</td></tr>\n",
       "\t<tr><td>15.2 </td><td>8    </td><td>121.6</td></tr>\n",
       "\t<tr><td>13.3 </td><td>8    </td><td>106.4</td></tr>\n",
       "\t<tr><td>19.2 </td><td>8    </td><td>153.6</td></tr>\n",
       "\t<tr><td>27.3 </td><td>4    </td><td>109.2</td></tr>\n",
       "\t<tr><td>26.0 </td><td>4    </td><td>104.0</td></tr>\n",
       "\t<tr><td>30.4 </td><td>4    </td><td>121.6</td></tr>\n",
       "\t<tr><td>15.8 </td><td>8    </td><td>126.4</td></tr>\n",
       "\t<tr><td>19.7 </td><td>6    </td><td>118.2</td></tr>\n",
       "\t<tr><td>15.0 </td><td>8    </td><td>120.0</td></tr>\n",
       "\t<tr><td>21.4 </td><td>4    </td><td> 85.6</td></tr>\n",
       "</tbody>\n",
       "</table>\n"
      ],
      "text/latex": [
       "\\begin{tabular}{r|lll}\n",
       " mpg & cyl & newvariable\\\\\n",
       "\\hline\n",
       "\t 21.0  & 6     & 126.0\\\\\n",
       "\t 21.0  & 6     & 126.0\\\\\n",
       "\t 22.8  & 4     &  91.2\\\\\n",
       "\t 21.4  & 6     & 128.4\\\\\n",
       "\t 18.7  & 8     & 149.6\\\\\n",
       "\t 18.1  & 6     & 108.6\\\\\n",
       "\t 14.3  & 8     & 114.4\\\\\n",
       "\t 24.4  & 4     &  97.6\\\\\n",
       "\t 22.8  & 4     &  91.2\\\\\n",
       "\t 19.2  & 6     & 115.2\\\\\n",
       "\t 17.8  & 6     & 106.8\\\\\n",
       "\t 16.4  & 8     & 131.2\\\\\n",
       "\t 17.3  & 8     & 138.4\\\\\n",
       "\t 15.2  & 8     & 121.6\\\\\n",
       "\t 10.4  & 8     &  83.2\\\\\n",
       "\t 10.4  & 8     &  83.2\\\\\n",
       "\t 14.7  & 8     & 117.6\\\\\n",
       "\t 32.4  & 4     & 129.6\\\\\n",
       "\t 30.4  & 4     & 121.6\\\\\n",
       "\t 33.9  & 4     & 135.6\\\\\n",
       "\t 21.5  & 4     &  86.0\\\\\n",
       "\t 15.5  & 8     & 124.0\\\\\n",
       "\t 15.2  & 8     & 121.6\\\\\n",
       "\t 13.3  & 8     & 106.4\\\\\n",
       "\t 19.2  & 8     & 153.6\\\\\n",
       "\t 27.3  & 4     & 109.2\\\\\n",
       "\t 26.0  & 4     & 104.0\\\\\n",
       "\t 30.4  & 4     & 121.6\\\\\n",
       "\t 15.8  & 8     & 126.4\\\\\n",
       "\t 19.7  & 6     & 118.2\\\\\n",
       "\t 15.0  & 8     & 120.0\\\\\n",
       "\t 21.4  & 4     &  85.6\\\\\n",
       "\\end{tabular}\n"
      ],
      "text/plain": [
       "   mpg  cyl newvariable\n",
       "1  21.0 6   126.0      \n",
       "2  21.0 6   126.0      \n",
       "3  22.8 4    91.2      \n",
       "4  21.4 6   128.4      \n",
       "5  18.7 8   149.6      \n",
       "6  18.1 6   108.6      \n",
       "7  14.3 8   114.4      \n",
       "8  24.4 4    97.6      \n",
       "9  22.8 4    91.2      \n",
       "10 19.2 6   115.2      \n",
       "11 17.8 6   106.8      \n",
       "12 16.4 8   131.2      \n",
       "13 17.3 8   138.4      \n",
       "14 15.2 8   121.6      \n",
       "15 10.4 8    83.2      \n",
       "16 10.4 8    83.2      \n",
       "17 14.7 8   117.6      \n",
       "18 32.4 4   129.6      \n",
       "19 30.4 4   121.6      \n",
       "20 33.9 4   135.6      \n",
       "21 21.5 4    86.0      \n",
       "22 15.5 8   124.0      \n",
       "23 15.2 8   121.6      \n",
       "24 13.3 8   106.4      \n",
       "25 19.2 8   153.6      \n",
       "26 27.3 4   109.2      \n",
       "27 26.0 4   104.0      \n",
       "28 30.4 4   121.6      \n",
       "29 15.8 8   126.4      \n",
       "30 19.7 6   118.2      \n",
       "31 15.0 8   120.0      \n",
       "32 21.4 4    85.6      "
      ]
     },
     "metadata": {},
     "output_type": "display_data"
    }
   ],
   "source": [
    "mynewdata %>% select(mpg, cyl) %>% mutate(newvariable = mpg*cyl)"
   ]
  },
  {
   "cell_type": "code",
   "execution_count": 75,
   "metadata": {
    "collapsed": false,
    "run_control": {
     "frozen": false,
     "read_only": false
    }
   },
   "outputs": [
    {
     "data": {
      "text/html": [
       "7"
      ],
      "text/latex": [
       "7"
      ],
      "text/markdown": [
       "7"
      ],
      "text/plain": [
       "[1] 7"
      ]
     },
     "metadata": {},
     "output_type": "display_data"
    }
   ],
   "source": [
    "df <- c(5,8,9,6,7,NA)\n",
    "\n",
    "mean(df,na.rm=TRUE)"
   ]
  },
  {
   "cell_type": "code",
   "execution_count": 76,
   "metadata": {
    "collapsed": false,
    "run_control": {
     "frozen": false,
     "read_only": false
    }
   },
   "outputs": [
    {
     "data": {
      "text/html": [
       "<table>\n",
       "<thead><tr><th scope=col>Species</th><th scope=col>Average</th></tr></thead>\n",
       "<tbody>\n",
       "\t<tr><td>setosa    </td><td>5.006     </td></tr>\n",
       "\t<tr><td>versicolor</td><td>5.936     </td></tr>\n",
       "\t<tr><td>virginica </td><td>6.588     </td></tr>\n",
       "</tbody>\n",
       "</table>\n"
      ],
      "text/latex": [
       "\\begin{tabular}{r|ll}\n",
       " Species & Average\\\\\n",
       "\\hline\n",
       "\t setosa     & 5.006     \\\\\n",
       "\t versicolor & 5.936     \\\\\n",
       "\t virginica  & 6.588     \\\\\n",
       "\\end{tabular}\n"
      ],
      "text/plain": [
       "  Species    Average\n",
       "1 setosa     5.006  \n",
       "2 versicolor 5.936  \n",
       "3 virginica  6.588  "
      ]
     },
     "metadata": {},
     "output_type": "display_data"
    }
   ],
   "source": [
    "myirisdata %>% group_by(Species) %>% summarise(Average = mean(Sepal.Length, na.rm = TRUE))"
   ]
  },
  {
   "cell_type": "code",
   "execution_count": 77,
   "metadata": {
    "collapsed": false,
    "run_control": {
     "frozen": false,
     "read_only": false
    },
    "scrolled": true
   },
   "outputs": [
    {
     "data": {
      "text/html": [
       "<table>\n",
       "<thead><tr><th scope=col>Sepal.Length</th><th scope=col>Sepal.Width</th><th scope=col>Petal.Length</th><th scope=col>Petal.Width</th><th scope=col>Species</th></tr></thead>\n",
       "<tbody>\n",
       "\t<tr><td>5.1   </td><td>3.5   </td><td>1.4   </td><td>0.2   </td><td>setosa</td></tr>\n",
       "\t<tr><td>4.9   </td><td>3.0   </td><td>1.4   </td><td>0.2   </td><td>setosa</td></tr>\n",
       "\t<tr><td>4.7   </td><td>3.2   </td><td>1.3   </td><td>0.2   </td><td>setosa</td></tr>\n",
       "\t<tr><td>4.6   </td><td>3.1   </td><td>1.5   </td><td>0.2   </td><td>setosa</td></tr>\n",
       "\t<tr><td>5.0   </td><td>3.6   </td><td>1.4   </td><td>0.2   </td><td>setosa</td></tr>\n",
       "\t<tr><td>5.4   </td><td>3.9   </td><td>1.7   </td><td>0.4   </td><td>setosa</td></tr>\n",
       "\t<tr><td>4.6   </td><td>3.4   </td><td>1.4   </td><td>0.3   </td><td>setosa</td></tr>\n",
       "\t<tr><td>5.0   </td><td>3.4   </td><td>1.5   </td><td>0.2   </td><td>setosa</td></tr>\n",
       "\t<tr><td>4.4   </td><td>2.9   </td><td>1.4   </td><td>0.2   </td><td>setosa</td></tr>\n",
       "\t<tr><td>4.9   </td><td>3.1   </td><td>1.5   </td><td>0.1   </td><td>setosa</td></tr>\n",
       "\t<tr><td>5.4   </td><td>3.7   </td><td>1.5   </td><td>0.2   </td><td>setosa</td></tr>\n",
       "\t<tr><td>4.8   </td><td>3.4   </td><td>1.6   </td><td>0.2   </td><td>setosa</td></tr>\n",
       "\t<tr><td>4.8   </td><td>3.0   </td><td>1.4   </td><td>0.1   </td><td>setosa</td></tr>\n",
       "\t<tr><td>4.3   </td><td>3.0   </td><td>1.1   </td><td>0.1   </td><td>setosa</td></tr>\n",
       "\t<tr><td>5.8   </td><td>4.0   </td><td>1.2   </td><td>0.2   </td><td>setosa</td></tr>\n",
       "\t<tr><td>5.7   </td><td>4.4   </td><td>1.5   </td><td>0.4   </td><td>setosa</td></tr>\n",
       "\t<tr><td>5.4   </td><td>3.9   </td><td>1.3   </td><td>0.4   </td><td>setosa</td></tr>\n",
       "\t<tr><td>5.1   </td><td>3.5   </td><td>1.4   </td><td>0.3   </td><td>setosa</td></tr>\n",
       "\t<tr><td>5.7   </td><td>3.8   </td><td>1.7   </td><td>0.3   </td><td>setosa</td></tr>\n",
       "\t<tr><td>5.1   </td><td>3.8   </td><td>1.5   </td><td>0.3   </td><td>setosa</td></tr>\n",
       "\t<tr><td>5.4   </td><td>3.4   </td><td>1.7   </td><td>0.2   </td><td>setosa</td></tr>\n",
       "\t<tr><td>5.1   </td><td>3.7   </td><td>1.5   </td><td>0.4   </td><td>setosa</td></tr>\n",
       "\t<tr><td>4.6   </td><td>3.6   </td><td>1.0   </td><td>0.2   </td><td>setosa</td></tr>\n",
       "\t<tr><td>5.1   </td><td>3.3   </td><td>1.7   </td><td>0.5   </td><td>setosa</td></tr>\n",
       "\t<tr><td>4.8   </td><td>3.4   </td><td>1.9   </td><td>0.2   </td><td>setosa</td></tr>\n",
       "\t<tr><td>5.0   </td><td>3.0   </td><td>1.6   </td><td>0.2   </td><td>setosa</td></tr>\n",
       "\t<tr><td>5.0   </td><td>3.4   </td><td>1.6   </td><td>0.4   </td><td>setosa</td></tr>\n",
       "\t<tr><td>5.2   </td><td>3.5   </td><td>1.5   </td><td>0.2   </td><td>setosa</td></tr>\n",
       "\t<tr><td>5.2   </td><td>3.4   </td><td>1.4   </td><td>0.2   </td><td>setosa</td></tr>\n",
       "\t<tr><td>4.7   </td><td>3.2   </td><td>1.6   </td><td>0.2   </td><td>setosa</td></tr>\n",
       "\t<tr><td>...</td><td>...</td><td>...</td><td>...</td><td>...</td></tr>\n",
       "\t<tr><td>6.9      </td><td>3.2      </td><td>5.7      </td><td>2.3      </td><td>virginica</td></tr>\n",
       "\t<tr><td>5.6      </td><td>2.8      </td><td>4.9      </td><td>2.0      </td><td>virginica</td></tr>\n",
       "\t<tr><td>7.7      </td><td>2.8      </td><td>6.7      </td><td>2.0      </td><td>virginica</td></tr>\n",
       "\t<tr><td>6.3      </td><td>2.7      </td><td>4.9      </td><td>1.8      </td><td>virginica</td></tr>\n",
       "\t<tr><td>6.7      </td><td>3.3      </td><td>5.7      </td><td>2.1      </td><td>virginica</td></tr>\n",
       "\t<tr><td>7.2      </td><td>3.2      </td><td>6.0      </td><td>1.8      </td><td>virginica</td></tr>\n",
       "\t<tr><td>6.2      </td><td>2.8      </td><td>4.8      </td><td>1.8      </td><td>virginica</td></tr>\n",
       "\t<tr><td>6.1      </td><td>3.0      </td><td>4.9      </td><td>1.8      </td><td>virginica</td></tr>\n",
       "\t<tr><td>6.4      </td><td>2.8      </td><td>5.6      </td><td>2.1      </td><td>virginica</td></tr>\n",
       "\t<tr><td>7.2      </td><td>3.0      </td><td>5.8      </td><td>1.6      </td><td>virginica</td></tr>\n",
       "\t<tr><td>7.4      </td><td>2.8      </td><td>6.1      </td><td>1.9      </td><td>virginica</td></tr>\n",
       "\t<tr><td>7.9      </td><td>3.8      </td><td>6.4      </td><td>2.0      </td><td>virginica</td></tr>\n",
       "\t<tr><td>6.4      </td><td>2.8      </td><td>5.6      </td><td>2.2      </td><td>virginica</td></tr>\n",
       "\t<tr><td>6.3      </td><td>2.8      </td><td>5.1      </td><td>1.5      </td><td>virginica</td></tr>\n",
       "\t<tr><td>6.1      </td><td>2.6      </td><td>5.6      </td><td>1.4      </td><td>virginica</td></tr>\n",
       "\t<tr><td>7.7      </td><td>3.0      </td><td>6.1      </td><td>2.3      </td><td>virginica</td></tr>\n",
       "\t<tr><td>6.3      </td><td>3.4      </td><td>5.6      </td><td>2.4      </td><td>virginica</td></tr>\n",
       "\t<tr><td>6.4      </td><td>3.1      </td><td>5.5      </td><td>1.8      </td><td>virginica</td></tr>\n",
       "\t<tr><td>6.0      </td><td>3.0      </td><td>4.8      </td><td>1.8      </td><td>virginica</td></tr>\n",
       "\t<tr><td>6.9      </td><td>3.1      </td><td>5.4      </td><td>2.1      </td><td>virginica</td></tr>\n",
       "\t<tr><td>6.7      </td><td>3.1      </td><td>5.6      </td><td>2.4      </td><td>virginica</td></tr>\n",
       "\t<tr><td>6.9      </td><td>3.1      </td><td>5.1      </td><td>2.3      </td><td>virginica</td></tr>\n",
       "\t<tr><td>5.8      </td><td>2.7      </td><td>5.1      </td><td>1.9      </td><td>virginica</td></tr>\n",
       "\t<tr><td>6.8      </td><td>3.2      </td><td>5.9      </td><td>2.3      </td><td>virginica</td></tr>\n",
       "\t<tr><td>6.7      </td><td>3.3      </td><td>5.7      </td><td>2.5      </td><td>virginica</td></tr>\n",
       "\t<tr><td>6.7      </td><td>3.0      </td><td>5.2      </td><td>2.3      </td><td>virginica</td></tr>\n",
       "\t<tr><td>6.3      </td><td>2.5      </td><td>5.0      </td><td>1.9      </td><td>virginica</td></tr>\n",
       "\t<tr><td>6.5      </td><td>3.0      </td><td>5.2      </td><td>2.0      </td><td>virginica</td></tr>\n",
       "\t<tr><td>6.2      </td><td>3.4      </td><td>5.4      </td><td>2.3      </td><td>virginica</td></tr>\n",
       "\t<tr><td>5.9      </td><td>3.0      </td><td>5.1      </td><td>1.8      </td><td>virginica</td></tr>\n",
       "</tbody>\n",
       "</table>\n"
      ],
      "text/latex": [
       "\\begin{tabular}{r|lllll}\n",
       " Sepal.Length & Sepal.Width & Petal.Length & Petal.Width & Species\\\\\n",
       "\\hline\n",
       "\t 5.1    & 3.5    & 1.4    & 0.2    & setosa\\\\\n",
       "\t 4.9    & 3.0    & 1.4    & 0.2    & setosa\\\\\n",
       "\t 4.7    & 3.2    & 1.3    & 0.2    & setosa\\\\\n",
       "\t 4.6    & 3.1    & 1.5    & 0.2    & setosa\\\\\n",
       "\t 5.0    & 3.6    & 1.4    & 0.2    & setosa\\\\\n",
       "\t 5.4    & 3.9    & 1.7    & 0.4    & setosa\\\\\n",
       "\t 4.6    & 3.4    & 1.4    & 0.3    & setosa\\\\\n",
       "\t 5.0    & 3.4    & 1.5    & 0.2    & setosa\\\\\n",
       "\t 4.4    & 2.9    & 1.4    & 0.2    & setosa\\\\\n",
       "\t 4.9    & 3.1    & 1.5    & 0.1    & setosa\\\\\n",
       "\t 5.4    & 3.7    & 1.5    & 0.2    & setosa\\\\\n",
       "\t 4.8    & 3.4    & 1.6    & 0.2    & setosa\\\\\n",
       "\t 4.8    & 3.0    & 1.4    & 0.1    & setosa\\\\\n",
       "\t 4.3    & 3.0    & 1.1    & 0.1    & setosa\\\\\n",
       "\t 5.8    & 4.0    & 1.2    & 0.2    & setosa\\\\\n",
       "\t 5.7    & 4.4    & 1.5    & 0.4    & setosa\\\\\n",
       "\t 5.4    & 3.9    & 1.3    & 0.4    & setosa\\\\\n",
       "\t 5.1    & 3.5    & 1.4    & 0.3    & setosa\\\\\n",
       "\t 5.7    & 3.8    & 1.7    & 0.3    & setosa\\\\\n",
       "\t 5.1    & 3.8    & 1.5    & 0.3    & setosa\\\\\n",
       "\t 5.4    & 3.4    & 1.7    & 0.2    & setosa\\\\\n",
       "\t 5.1    & 3.7    & 1.5    & 0.4    & setosa\\\\\n",
       "\t 4.6    & 3.6    & 1.0    & 0.2    & setosa\\\\\n",
       "\t 5.1    & 3.3    & 1.7    & 0.5    & setosa\\\\\n",
       "\t 4.8    & 3.4    & 1.9    & 0.2    & setosa\\\\\n",
       "\t 5.0    & 3.0    & 1.6    & 0.2    & setosa\\\\\n",
       "\t 5.0    & 3.4    & 1.6    & 0.4    & setosa\\\\\n",
       "\t 5.2    & 3.5    & 1.5    & 0.2    & setosa\\\\\n",
       "\t 5.2    & 3.4    & 1.4    & 0.2    & setosa\\\\\n",
       "\t 4.7    & 3.2    & 1.6    & 0.2    & setosa\\\\\n",
       "\t ... & ... & ... & ... & ...\\\\\n",
       "\t 6.9       & 3.2       & 5.7       & 2.3       & virginica\\\\\n",
       "\t 5.6       & 2.8       & 4.9       & 2.0       & virginica\\\\\n",
       "\t 7.7       & 2.8       & 6.7       & 2.0       & virginica\\\\\n",
       "\t 6.3       & 2.7       & 4.9       & 1.8       & virginica\\\\\n",
       "\t 6.7       & 3.3       & 5.7       & 2.1       & virginica\\\\\n",
       "\t 7.2       & 3.2       & 6.0       & 1.8       & virginica\\\\\n",
       "\t 6.2       & 2.8       & 4.8       & 1.8       & virginica\\\\\n",
       "\t 6.1       & 3.0       & 4.9       & 1.8       & virginica\\\\\n",
       "\t 6.4       & 2.8       & 5.6       & 2.1       & virginica\\\\\n",
       "\t 7.2       & 3.0       & 5.8       & 1.6       & virginica\\\\\n",
       "\t 7.4       & 2.8       & 6.1       & 1.9       & virginica\\\\\n",
       "\t 7.9       & 3.8       & 6.4       & 2.0       & virginica\\\\\n",
       "\t 6.4       & 2.8       & 5.6       & 2.2       & virginica\\\\\n",
       "\t 6.3       & 2.8       & 5.1       & 1.5       & virginica\\\\\n",
       "\t 6.1       & 2.6       & 5.6       & 1.4       & virginica\\\\\n",
       "\t 7.7       & 3.0       & 6.1       & 2.3       & virginica\\\\\n",
       "\t 6.3       & 3.4       & 5.6       & 2.4       & virginica\\\\\n",
       "\t 6.4       & 3.1       & 5.5       & 1.8       & virginica\\\\\n",
       "\t 6.0       & 3.0       & 4.8       & 1.8       & virginica\\\\\n",
       "\t 6.9       & 3.1       & 5.4       & 2.1       & virginica\\\\\n",
       "\t 6.7       & 3.1       & 5.6       & 2.4       & virginica\\\\\n",
       "\t 6.9       & 3.1       & 5.1       & 2.3       & virginica\\\\\n",
       "\t 5.8       & 2.7       & 5.1       & 1.9       & virginica\\\\\n",
       "\t 6.8       & 3.2       & 5.9       & 2.3       & virginica\\\\\n",
       "\t 6.7       & 3.3       & 5.7       & 2.5       & virginica\\\\\n",
       "\t 6.7       & 3.0       & 5.2       & 2.3       & virginica\\\\\n",
       "\t 6.3       & 2.5       & 5.0       & 1.9       & virginica\\\\\n",
       "\t 6.5       & 3.0       & 5.2       & 2.0       & virginica\\\\\n",
       "\t 6.2       & 3.4       & 5.4       & 2.3       & virginica\\\\\n",
       "\t 5.9       & 3.0       & 5.1       & 1.8       & virginica\\\\\n",
       "\\end{tabular}\n"
      ],
      "text/plain": [
       "    Sepal.Length Sepal.Width Petal.Length Petal.Width Species  \n",
       "1   5.1          3.5         1.4          0.2         setosa   \n",
       "2   4.9          3.0         1.4          0.2         setosa   \n",
       "3   4.7          3.2         1.3          0.2         setosa   \n",
       "4   4.6          3.1         1.5          0.2         setosa   \n",
       "5   5.0          3.6         1.4          0.2         setosa   \n",
       "6   5.4          3.9         1.7          0.4         setosa   \n",
       "7   4.6          3.4         1.4          0.3         setosa   \n",
       "8   5.0          3.4         1.5          0.2         setosa   \n",
       "9   4.4          2.9         1.4          0.2         setosa   \n",
       "10  4.9          3.1         1.5          0.1         setosa   \n",
       "11  5.4          3.7         1.5          0.2         setosa   \n",
       "12  4.8          3.4         1.6          0.2         setosa   \n",
       "13  4.8          3.0         1.4          0.1         setosa   \n",
       "14  4.3          3.0         1.1          0.1         setosa   \n",
       "15  5.8          4.0         1.2          0.2         setosa   \n",
       "16  5.7          4.4         1.5          0.4         setosa   \n",
       "17  5.4          3.9         1.3          0.4         setosa   \n",
       "18  5.1          3.5         1.4          0.3         setosa   \n",
       "19  5.7          3.8         1.7          0.3         setosa   \n",
       "20  5.1          3.8         1.5          0.3         setosa   \n",
       "21  5.4          3.4         1.7          0.2         setosa   \n",
       "22  5.1          3.7         1.5          0.4         setosa   \n",
       "23  4.6          3.6         1.0          0.2         setosa   \n",
       "24  5.1          3.3         1.7          0.5         setosa   \n",
       "25  4.8          3.4         1.9          0.2         setosa   \n",
       "26  5.0          3.0         1.6          0.2         setosa   \n",
       "27  5.0          3.4         1.6          0.4         setosa   \n",
       "28  5.2          3.5         1.5          0.2         setosa   \n",
       "29  5.2          3.4         1.4          0.2         setosa   \n",
       "30  4.7          3.2         1.6          0.2         setosa   \n",
       "... ...          ...         ...          ...         ...      \n",
       "121 6.9          3.2         5.7          2.3         virginica\n",
       "122 5.6          2.8         4.9          2.0         virginica\n",
       "123 7.7          2.8         6.7          2.0         virginica\n",
       "124 6.3          2.7         4.9          1.8         virginica\n",
       "125 6.7          3.3         5.7          2.1         virginica\n",
       "126 7.2          3.2         6.0          1.8         virginica\n",
       "127 6.2          2.8         4.8          1.8         virginica\n",
       "128 6.1          3.0         4.9          1.8         virginica\n",
       "129 6.4          2.8         5.6          2.1         virginica\n",
       "130 7.2          3.0         5.8          1.6         virginica\n",
       "131 7.4          2.8         6.1          1.9         virginica\n",
       "132 7.9          3.8         6.4          2.0         virginica\n",
       "133 6.4          2.8         5.6          2.2         virginica\n",
       "134 6.3          2.8         5.1          1.5         virginica\n",
       "135 6.1          2.6         5.6          1.4         virginica\n",
       "136 7.7          3.0         6.1          2.3         virginica\n",
       "137 6.3          3.4         5.6          2.4         virginica\n",
       "138 6.4          3.1         5.5          1.8         virginica\n",
       "139 6.0          3.0         4.8          1.8         virginica\n",
       "140 6.9          3.1         5.4          2.1         virginica\n",
       "141 6.7          3.1         5.6          2.4         virginica\n",
       "142 6.9          3.1         5.1          2.3         virginica\n",
       "143 5.8          2.7         5.1          1.9         virginica\n",
       "144 6.8          3.2         5.9          2.3         virginica\n",
       "145 6.7          3.3         5.7          2.5         virginica\n",
       "146 6.7          3.0         5.2          2.3         virginica\n",
       "147 6.3          2.5         5.0          1.9         virginica\n",
       "148 6.5          3.0         5.2          2.0         virginica\n",
       "149 6.2          3.4         5.4          2.3         virginica\n",
       "150 5.9          3.0         5.1          1.8         virginica"
      ]
     },
     "metadata": {},
     "output_type": "display_data"
    }
   ],
   "source": [
    "myirisdata\n"
   ]
  },
  {
   "cell_type": "code",
   "execution_count": 9,
   "metadata": {
    "collapsed": true
   },
   "outputs": [],
   "source": [
    "data(\"airquality\")\n",
    "mydata <- airquality\n",
    "data(iris)\n",
    "myiris <- iris"
   ]
  },
  {
   "cell_type": "code",
   "execution_count": 85,
   "metadata": {
    "collapsed": false,
    "run_control": {
     "frozen": false,
     "read_only": false
    }
   },
   "outputs": [
    {
     "name": "stderr",
     "output_type": "stream",
     "text": [
      "Installing package into 'C:/Users/Suman/Documents/R/win-library/3.3'\n",
      "(as 'lib' is unspecified)\n"
     ]
    },
    {
     "name": "stdout",
     "output_type": "stream",
     "text": [
      "package 'data.table' successfully unpacked and MD5 sums checked\n",
      "\n",
      "The downloaded binary packages are in\n",
      "\tC:\\Users\\Suman\\AppData\\Local\\Temp\\RtmpqwPk3R\\downloaded_packages\n"
     ]
    }
   ],
   "source": [
    "install.packages(\"data.table\",repos='http://cran.us.r-project.org')"
   ]
  },
  {
   "cell_type": "code",
   "execution_count": 5,
   "metadata": {
    "collapsed": false,
    "run_control": {
     "frozen": false,
     "read_only": false
    },
    "scrolled": true
   },
   "outputs": [],
   "source": [
    "library(data.table)"
   ]
  },
  {
   "cell_type": "code",
   "execution_count": 11,
   "metadata": {
    "collapsed": false,
    "run_control": {
     "frozen": false,
     "read_only": false
    },
    "scrolled": false
   },
   "outputs": [
    {
     "data": {
      "text/html": [
       "<table>\n",
       "<thead><tr><th scope=col>Ozone</th><th scope=col>Solar.R</th><th scope=col>Wind</th><th scope=col>Temp</th><th scope=col>Month</th><th scope=col>Day</th></tr></thead>\n",
       "<tbody>\n",
       "\t<tr><td> 41 </td><td>190 </td><td> 7.4</td><td>67  </td><td>5   </td><td> 1  </td></tr>\n",
       "\t<tr><td> 36 </td><td>118 </td><td> 8.0</td><td>72  </td><td>5   </td><td> 2  </td></tr>\n",
       "\t<tr><td> 12 </td><td>149 </td><td>12.6</td><td>74  </td><td>5   </td><td> 3  </td></tr>\n",
       "\t<tr><td> 18 </td><td>313 </td><td>11.5</td><td>62  </td><td>5   </td><td> 4  </td></tr>\n",
       "\t<tr><td> NA </td><td> NA </td><td>14.3</td><td>56  </td><td>5   </td><td> 5  </td></tr>\n",
       "\t<tr><td> 28 </td><td> NA </td><td>14.9</td><td>66  </td><td>5   </td><td> 6  </td></tr>\n",
       "\t<tr><td> 23 </td><td>299 </td><td> 8.6</td><td>65  </td><td>5   </td><td> 7  </td></tr>\n",
       "\t<tr><td> 19 </td><td> 99 </td><td>13.8</td><td>59  </td><td>5   </td><td> 8  </td></tr>\n",
       "\t<tr><td>  8 </td><td> 19 </td><td>20.1</td><td>61  </td><td>5   </td><td> 9  </td></tr>\n",
       "\t<tr><td> NA </td><td>194 </td><td> 8.6</td><td>69  </td><td>5   </td><td>10  </td></tr>\n",
       "\t<tr><td>  7 </td><td> NA </td><td> 6.9</td><td>74  </td><td>5   </td><td>11  </td></tr>\n",
       "\t<tr><td> 16 </td><td>256 </td><td> 9.7</td><td>69  </td><td>5   </td><td>12  </td></tr>\n",
       "\t<tr><td> 11 </td><td>290 </td><td> 9.2</td><td>66  </td><td>5   </td><td>13  </td></tr>\n",
       "\t<tr><td> 14 </td><td>274 </td><td>10.9</td><td>68  </td><td>5   </td><td>14  </td></tr>\n",
       "\t<tr><td> 18 </td><td> 65 </td><td>13.2</td><td>58  </td><td>5   </td><td>15  </td></tr>\n",
       "\t<tr><td> 14 </td><td>334 </td><td>11.5</td><td>64  </td><td>5   </td><td>16  </td></tr>\n",
       "\t<tr><td> 34 </td><td>307 </td><td>12.0</td><td>66  </td><td>5   </td><td>17  </td></tr>\n",
       "\t<tr><td>  6 </td><td> 78 </td><td>18.4</td><td>57  </td><td>5   </td><td>18  </td></tr>\n",
       "\t<tr><td> 30 </td><td>322 </td><td>11.5</td><td>68  </td><td>5   </td><td>19  </td></tr>\n",
       "\t<tr><td> 11 </td><td> 44 </td><td> 9.7</td><td>62  </td><td>5   </td><td>20  </td></tr>\n",
       "\t<tr><td>  1 </td><td>  8 </td><td> 9.7</td><td>59  </td><td>5   </td><td>21  </td></tr>\n",
       "\t<tr><td> 11 </td><td>320 </td><td>16.6</td><td>73  </td><td>5   </td><td>22  </td></tr>\n",
       "\t<tr><td>  4 </td><td> 25 </td><td> 9.7</td><td>61  </td><td>5   </td><td>23  </td></tr>\n",
       "\t<tr><td> 32 </td><td> 92 </td><td>12.0</td><td>61  </td><td>5   </td><td>24  </td></tr>\n",
       "\t<tr><td> NA </td><td> 66 </td><td>16.6</td><td>57  </td><td>5   </td><td>25  </td></tr>\n",
       "\t<tr><td> NA </td><td>266 </td><td>14.9</td><td>58  </td><td>5   </td><td>26  </td></tr>\n",
       "\t<tr><td> NA </td><td> NA </td><td> 8.0</td><td>57  </td><td>5   </td><td>27  </td></tr>\n",
       "\t<tr><td> 23 </td><td> 13 </td><td>12.0</td><td>67  </td><td>5   </td><td>28  </td></tr>\n",
       "\t<tr><td> 45 </td><td>252 </td><td>14.9</td><td>81  </td><td>5   </td><td>29  </td></tr>\n",
       "\t<tr><td>115 </td><td>223 </td><td> 5.7</td><td>79  </td><td>5   </td><td>30  </td></tr>\n",
       "\t<tr><td>...</td><td>...</td><td>...</td><td>...</td><td>...</td><td>...</td></tr>\n",
       "\t<tr><td>96  </td><td>167 </td><td> 6.9</td><td>91  </td><td>9   </td><td> 1  </td></tr>\n",
       "\t<tr><td>78  </td><td>197 </td><td> 5.1</td><td>92  </td><td>9   </td><td> 2  </td></tr>\n",
       "\t<tr><td>73  </td><td>183 </td><td> 2.8</td><td>93  </td><td>9   </td><td> 3  </td></tr>\n",
       "\t<tr><td>91  </td><td>189 </td><td> 4.6</td><td>93  </td><td>9   </td><td> 4  </td></tr>\n",
       "\t<tr><td>47  </td><td> 95 </td><td> 7.4</td><td>87  </td><td>9   </td><td> 5  </td></tr>\n",
       "\t<tr><td>32  </td><td> 92 </td><td>15.5</td><td>84  </td><td>9   </td><td> 6  </td></tr>\n",
       "\t<tr><td>20  </td><td>252 </td><td>10.9</td><td>80  </td><td>9   </td><td> 7  </td></tr>\n",
       "\t<tr><td>23  </td><td>220 </td><td>10.3</td><td>78  </td><td>9   </td><td> 8  </td></tr>\n",
       "\t<tr><td>21  </td><td>230 </td><td>10.9</td><td>75  </td><td>9   </td><td> 9  </td></tr>\n",
       "\t<tr><td>24  </td><td>259 </td><td> 9.7</td><td>73  </td><td>9   </td><td>10  </td></tr>\n",
       "\t<tr><td>44  </td><td>236 </td><td>14.9</td><td>81  </td><td>9   </td><td>11  </td></tr>\n",
       "\t<tr><td>21  </td><td>259 </td><td>15.5</td><td>76  </td><td>9   </td><td>12  </td></tr>\n",
       "\t<tr><td>28  </td><td>238 </td><td> 6.3</td><td>77  </td><td>9   </td><td>13  </td></tr>\n",
       "\t<tr><td> 9  </td><td> 24 </td><td>10.9</td><td>71  </td><td>9   </td><td>14  </td></tr>\n",
       "\t<tr><td>13  </td><td>112 </td><td>11.5</td><td>71  </td><td>9   </td><td>15  </td></tr>\n",
       "\t<tr><td>46  </td><td>237 </td><td> 6.9</td><td>78  </td><td>9   </td><td>16  </td></tr>\n",
       "\t<tr><td>18  </td><td>224 </td><td>13.8</td><td>67  </td><td>9   </td><td>17  </td></tr>\n",
       "\t<tr><td>13  </td><td> 27 </td><td>10.3</td><td>76  </td><td>9   </td><td>18  </td></tr>\n",
       "\t<tr><td>24  </td><td>238 </td><td>10.3</td><td>68  </td><td>9   </td><td>19  </td></tr>\n",
       "\t<tr><td>16  </td><td>201 </td><td> 8.0</td><td>82  </td><td>9   </td><td>20  </td></tr>\n",
       "\t<tr><td>13  </td><td>238 </td><td>12.6</td><td>64  </td><td>9   </td><td>21  </td></tr>\n",
       "\t<tr><td>23  </td><td> 14 </td><td> 9.2</td><td>71  </td><td>9   </td><td>22  </td></tr>\n",
       "\t<tr><td>36  </td><td>139 </td><td>10.3</td><td>81  </td><td>9   </td><td>23  </td></tr>\n",
       "\t<tr><td> 7  </td><td> 49 </td><td>10.3</td><td>69  </td><td>9   </td><td>24  </td></tr>\n",
       "\t<tr><td>14  </td><td> 20 </td><td>16.6</td><td>63  </td><td>9   </td><td>25  </td></tr>\n",
       "\t<tr><td>30  </td><td>193 </td><td> 6.9</td><td>70  </td><td>9   </td><td>26  </td></tr>\n",
       "\t<tr><td>NA  </td><td>145 </td><td>13.2</td><td>77  </td><td>9   </td><td>27  </td></tr>\n",
       "\t<tr><td>14  </td><td>191 </td><td>14.3</td><td>75  </td><td>9   </td><td>28  </td></tr>\n",
       "\t<tr><td>18  </td><td>131 </td><td> 8.0</td><td>76  </td><td>9   </td><td>29  </td></tr>\n",
       "\t<tr><td>20  </td><td>223 </td><td>11.5</td><td>68  </td><td>9   </td><td>30  </td></tr>\n",
       "</tbody>\n",
       "</table>\n"
      ],
      "text/latex": [
       "\\begin{tabular}{r|llllll}\n",
       " Ozone & Solar.R & Wind & Temp & Month & Day\\\\\n",
       "\\hline\n",
       "\t  41  & 190  &  7.4 & 67   & 5    &  1  \\\\\n",
       "\t  36  & 118  &  8.0 & 72   & 5    &  2  \\\\\n",
       "\t  12  & 149  & 12.6 & 74   & 5    &  3  \\\\\n",
       "\t  18  & 313  & 11.5 & 62   & 5    &  4  \\\\\n",
       "\t  NA  &  NA  & 14.3 & 56   & 5    &  5  \\\\\n",
       "\t  28  &  NA  & 14.9 & 66   & 5    &  6  \\\\\n",
       "\t  23  & 299  &  8.6 & 65   & 5    &  7  \\\\\n",
       "\t  19  &  99  & 13.8 & 59   & 5    &  8  \\\\\n",
       "\t   8  &  19  & 20.1 & 61   & 5    &  9  \\\\\n",
       "\t  NA  & 194  &  8.6 & 69   & 5    & 10  \\\\\n",
       "\t   7  &  NA  &  6.9 & 74   & 5    & 11  \\\\\n",
       "\t  16  & 256  &  9.7 & 69   & 5    & 12  \\\\\n",
       "\t  11  & 290  &  9.2 & 66   & 5    & 13  \\\\\n",
       "\t  14  & 274  & 10.9 & 68   & 5    & 14  \\\\\n",
       "\t  18  &  65  & 13.2 & 58   & 5    & 15  \\\\\n",
       "\t  14  & 334  & 11.5 & 64   & 5    & 16  \\\\\n",
       "\t  34  & 307  & 12.0 & 66   & 5    & 17  \\\\\n",
       "\t   6  &  78  & 18.4 & 57   & 5    & 18  \\\\\n",
       "\t  30  & 322  & 11.5 & 68   & 5    & 19  \\\\\n",
       "\t  11  &  44  &  9.7 & 62   & 5    & 20  \\\\\n",
       "\t   1  &   8  &  9.7 & 59   & 5    & 21  \\\\\n",
       "\t  11  & 320  & 16.6 & 73   & 5    & 22  \\\\\n",
       "\t   4  &  25  &  9.7 & 61   & 5    & 23  \\\\\n",
       "\t  32  &  92  & 12.0 & 61   & 5    & 24  \\\\\n",
       "\t  NA  &  66  & 16.6 & 57   & 5    & 25  \\\\\n",
       "\t  NA  & 266  & 14.9 & 58   & 5    & 26  \\\\\n",
       "\t  NA  &  NA  &  8.0 & 57   & 5    & 27  \\\\\n",
       "\t  23  &  13  & 12.0 & 67   & 5    & 28  \\\\\n",
       "\t  45  & 252  & 14.9 & 81   & 5    & 29  \\\\\n",
       "\t 115  & 223  &  5.7 & 79   & 5    & 30  \\\\\n",
       "\t ... & ... & ... & ... & ... & ...\\\\\n",
       "\t 96   & 167  &  6.9 & 91   & 9    &  1  \\\\\n",
       "\t 78   & 197  &  5.1 & 92   & 9    &  2  \\\\\n",
       "\t 73   & 183  &  2.8 & 93   & 9    &  3  \\\\\n",
       "\t 91   & 189  &  4.6 & 93   & 9    &  4  \\\\\n",
       "\t 47   &  95  &  7.4 & 87   & 9    &  5  \\\\\n",
       "\t 32   &  92  & 15.5 & 84   & 9    &  6  \\\\\n",
       "\t 20   & 252  & 10.9 & 80   & 9    &  7  \\\\\n",
       "\t 23   & 220  & 10.3 & 78   & 9    &  8  \\\\\n",
       "\t 21   & 230  & 10.9 & 75   & 9    &  9  \\\\\n",
       "\t 24   & 259  &  9.7 & 73   & 9    & 10  \\\\\n",
       "\t 44   & 236  & 14.9 & 81   & 9    & 11  \\\\\n",
       "\t 21   & 259  & 15.5 & 76   & 9    & 12  \\\\\n",
       "\t 28   & 238  &  6.3 & 77   & 9    & 13  \\\\\n",
       "\t  9   &  24  & 10.9 & 71   & 9    & 14  \\\\\n",
       "\t 13   & 112  & 11.5 & 71   & 9    & 15  \\\\\n",
       "\t 46   & 237  &  6.9 & 78   & 9    & 16  \\\\\n",
       "\t 18   & 224  & 13.8 & 67   & 9    & 17  \\\\\n",
       "\t 13   &  27  & 10.3 & 76   & 9    & 18  \\\\\n",
       "\t 24   & 238  & 10.3 & 68   & 9    & 19  \\\\\n",
       "\t 16   & 201  &  8.0 & 82   & 9    & 20  \\\\\n",
       "\t 13   & 238  & 12.6 & 64   & 9    & 21  \\\\\n",
       "\t 23   &  14  &  9.2 & 71   & 9    & 22  \\\\\n",
       "\t 36   & 139  & 10.3 & 81   & 9    & 23  \\\\\n",
       "\t  7   &  49  & 10.3 & 69   & 9    & 24  \\\\\n",
       "\t 14   &  20  & 16.6 & 63   & 9    & 25  \\\\\n",
       "\t 30   & 193  &  6.9 & 70   & 9    & 26  \\\\\n",
       "\t NA   & 145  & 13.2 & 77   & 9    & 27  \\\\\n",
       "\t 14   & 191  & 14.3 & 75   & 9    & 28  \\\\\n",
       "\t 18   & 131  &  8.0 & 76   & 9    & 29  \\\\\n",
       "\t 20   & 223  & 11.5 & 68   & 9    & 30  \\\\\n",
       "\\end{tabular}\n"
      ],
      "text/plain": [
       "    Ozone Solar.R Wind Temp Month Day\n",
       "1    41   190      7.4 67   5      1 \n",
       "2    36   118      8.0 72   5      2 \n",
       "3    12   149     12.6 74   5      3 \n",
       "4    18   313     11.5 62   5      4 \n",
       "5    NA    NA     14.3 56   5      5 \n",
       "6    28    NA     14.9 66   5      6 \n",
       "7    23   299      8.6 65   5      7 \n",
       "8    19    99     13.8 59   5      8 \n",
       "9     8    19     20.1 61   5      9 \n",
       "10   NA   194      8.6 69   5     10 \n",
       "11    7    NA      6.9 74   5     11 \n",
       "12   16   256      9.7 69   5     12 \n",
       "13   11   290      9.2 66   5     13 \n",
       "14   14   274     10.9 68   5     14 \n",
       "15   18    65     13.2 58   5     15 \n",
       "16   14   334     11.5 64   5     16 \n",
       "17   34   307     12.0 66   5     17 \n",
       "18    6    78     18.4 57   5     18 \n",
       "19   30   322     11.5 68   5     19 \n",
       "20   11    44      9.7 62   5     20 \n",
       "21    1     8      9.7 59   5     21 \n",
       "22   11   320     16.6 73   5     22 \n",
       "23    4    25      9.7 61   5     23 \n",
       "24   32    92     12.0 61   5     24 \n",
       "25   NA    66     16.6 57   5     25 \n",
       "26   NA   266     14.9 58   5     26 \n",
       "27   NA    NA      8.0 57   5     27 \n",
       "28   23    13     12.0 67   5     28 \n",
       "29   45   252     14.9 81   5     29 \n",
       "30  115   223      5.7 79   5     30 \n",
       "... ...   ...     ...  ...  ...   ...\n",
       "124 96    167      6.9 91   9      1 \n",
       "125 78    197      5.1 92   9      2 \n",
       "126 73    183      2.8 93   9      3 \n",
       "127 91    189      4.6 93   9      4 \n",
       "128 47     95      7.4 87   9      5 \n",
       "129 32     92     15.5 84   9      6 \n",
       "130 20    252     10.9 80   9      7 \n",
       "131 23    220     10.3 78   9      8 \n",
       "132 21    230     10.9 75   9      9 \n",
       "133 24    259      9.7 73   9     10 \n",
       "134 44    236     14.9 81   9     11 \n",
       "135 21    259     15.5 76   9     12 \n",
       "136 28    238      6.3 77   9     13 \n",
       "137  9     24     10.9 71   9     14 \n",
       "138 13    112     11.5 71   9     15 \n",
       "139 46    237      6.9 78   9     16 \n",
       "140 18    224     13.8 67   9     17 \n",
       "141 13     27     10.3 76   9     18 \n",
       "142 24    238     10.3 68   9     19 \n",
       "143 16    201      8.0 82   9     20 \n",
       "144 13    238     12.6 64   9     21 \n",
       "145 23     14      9.2 71   9     22 \n",
       "146 36    139     10.3 81   9     23 \n",
       "147  7     49     10.3 69   9     24 \n",
       "148 14     20     16.6 63   9     25 \n",
       "149 30    193      6.9 70   9     26 \n",
       "150 NA    145     13.2 77   9     27 \n",
       "151 14    191     14.3 75   9     28 \n",
       "152 18    131      8.0 76   9     29 \n",
       "153 20    223     11.5 68   9     30 "
      ]
     },
     "metadata": {},
     "output_type": "display_data"
    }
   ],
   "source": [
    "mydata <- data.table(mydata) \n",
    "mydata # in a form of data table \n",
    "\n",
    "myiris <- data.table(myiris) "
   ]
  },
  {
   "cell_type": "code",
   "execution_count": null,
   "metadata": {
    "collapsed": true
   },
   "outputs": [],
   "source": [
    "mydata[2:4,]\n",
    "airquality[2:4,]"
   ]
  },
  {
   "cell_type": "code",
   "execution_count": 15,
   "metadata": {
    "collapsed": false
   },
   "outputs": [
    {
     "data": {
      "text/html": [
       "<table>\n",
       "<thead><tr><th scope=col>Sepal.Length</th><th scope=col>Sepal.Width</th><th scope=col>Petal.Length</th><th scope=col>Petal.Width</th><th scope=col>Species</th></tr></thead>\n",
       "<tbody>\n",
       "\t<tr><td>5.1   </td><td>3.5   </td><td>1.4   </td><td>0.2   </td><td>setosa</td></tr>\n",
       "\t<tr><td>4.9   </td><td>3.0   </td><td>1.4   </td><td>0.2   </td><td>setosa</td></tr>\n",
       "\t<tr><td>4.7   </td><td>3.2   </td><td>1.3   </td><td>0.2   </td><td>setosa</td></tr>\n",
       "\t<tr><td>4.6   </td><td>3.1   </td><td>1.5   </td><td>0.2   </td><td>setosa</td></tr>\n",
       "\t<tr><td>5.0   </td><td>3.6   </td><td>1.4   </td><td>0.2   </td><td>setosa</td></tr>\n",
       "\t<tr><td>5.4   </td><td>3.9   </td><td>1.7   </td><td>0.4   </td><td>setosa</td></tr>\n",
       "\t<tr><td>4.6   </td><td>3.4   </td><td>1.4   </td><td>0.3   </td><td>setosa</td></tr>\n",
       "\t<tr><td>5.0   </td><td>3.4   </td><td>1.5   </td><td>0.2   </td><td>setosa</td></tr>\n",
       "\t<tr><td>4.4   </td><td>2.9   </td><td>1.4   </td><td>0.2   </td><td>setosa</td></tr>\n",
       "\t<tr><td>4.9   </td><td>3.1   </td><td>1.5   </td><td>0.1   </td><td>setosa</td></tr>\n",
       "\t<tr><td>5.4   </td><td>3.7   </td><td>1.5   </td><td>0.2   </td><td>setosa</td></tr>\n",
       "\t<tr><td>4.8   </td><td>3.4   </td><td>1.6   </td><td>0.2   </td><td>setosa</td></tr>\n",
       "\t<tr><td>4.8   </td><td>3.0   </td><td>1.4   </td><td>0.1   </td><td>setosa</td></tr>\n",
       "\t<tr><td>4.3   </td><td>3.0   </td><td>1.1   </td><td>0.1   </td><td>setosa</td></tr>\n",
       "\t<tr><td>5.8   </td><td>4.0   </td><td>1.2   </td><td>0.2   </td><td>setosa</td></tr>\n",
       "\t<tr><td>5.7   </td><td>4.4   </td><td>1.5   </td><td>0.4   </td><td>setosa</td></tr>\n",
       "\t<tr><td>5.4   </td><td>3.9   </td><td>1.3   </td><td>0.4   </td><td>setosa</td></tr>\n",
       "\t<tr><td>5.1   </td><td>3.5   </td><td>1.4   </td><td>0.3   </td><td>setosa</td></tr>\n",
       "\t<tr><td>5.7   </td><td>3.8   </td><td>1.7   </td><td>0.3   </td><td>setosa</td></tr>\n",
       "\t<tr><td>5.1   </td><td>3.8   </td><td>1.5   </td><td>0.3   </td><td>setosa</td></tr>\n",
       "\t<tr><td>5.4   </td><td>3.4   </td><td>1.7   </td><td>0.2   </td><td>setosa</td></tr>\n",
       "\t<tr><td>5.1   </td><td>3.7   </td><td>1.5   </td><td>0.4   </td><td>setosa</td></tr>\n",
       "\t<tr><td>4.6   </td><td>3.6   </td><td>1.0   </td><td>0.2   </td><td>setosa</td></tr>\n",
       "\t<tr><td>5.1   </td><td>3.3   </td><td>1.7   </td><td>0.5   </td><td>setosa</td></tr>\n",
       "\t<tr><td>4.8   </td><td>3.4   </td><td>1.9   </td><td>0.2   </td><td>setosa</td></tr>\n",
       "\t<tr><td>5.0   </td><td>3.0   </td><td>1.6   </td><td>0.2   </td><td>setosa</td></tr>\n",
       "\t<tr><td>5.0   </td><td>3.4   </td><td>1.6   </td><td>0.4   </td><td>setosa</td></tr>\n",
       "\t<tr><td>5.2   </td><td>3.5   </td><td>1.5   </td><td>0.2   </td><td>setosa</td></tr>\n",
       "\t<tr><td>5.2   </td><td>3.4   </td><td>1.4   </td><td>0.2   </td><td>setosa</td></tr>\n",
       "\t<tr><td>4.7   </td><td>3.2   </td><td>1.6   </td><td>0.2   </td><td>setosa</td></tr>\n",
       "\t<tr><td>4.8   </td><td>3.1   </td><td>1.6   </td><td>0.2   </td><td>setosa</td></tr>\n",
       "\t<tr><td>5.4   </td><td>3.4   </td><td>1.5   </td><td>0.4   </td><td>setosa</td></tr>\n",
       "\t<tr><td>5.2   </td><td>4.1   </td><td>1.5   </td><td>0.1   </td><td>setosa</td></tr>\n",
       "\t<tr><td>5.5   </td><td>4.2   </td><td>1.4   </td><td>0.2   </td><td>setosa</td></tr>\n",
       "\t<tr><td>4.9   </td><td>3.1   </td><td>1.5   </td><td>0.2   </td><td>setosa</td></tr>\n",
       "\t<tr><td>5.0   </td><td>3.2   </td><td>1.2   </td><td>0.2   </td><td>setosa</td></tr>\n",
       "\t<tr><td>5.5   </td><td>3.5   </td><td>1.3   </td><td>0.2   </td><td>setosa</td></tr>\n",
       "\t<tr><td>4.9   </td><td>3.6   </td><td>1.4   </td><td>0.1   </td><td>setosa</td></tr>\n",
       "\t<tr><td>4.4   </td><td>3.0   </td><td>1.3   </td><td>0.2   </td><td>setosa</td></tr>\n",
       "\t<tr><td>5.1   </td><td>3.4   </td><td>1.5   </td><td>0.2   </td><td>setosa</td></tr>\n",
       "\t<tr><td>5.0   </td><td>3.5   </td><td>1.3   </td><td>0.3   </td><td>setosa</td></tr>\n",
       "\t<tr><td>4.5   </td><td>2.3   </td><td>1.3   </td><td>0.3   </td><td>setosa</td></tr>\n",
       "\t<tr><td>4.4   </td><td>3.2   </td><td>1.3   </td><td>0.2   </td><td>setosa</td></tr>\n",
       "\t<tr><td>5.0   </td><td>3.5   </td><td>1.6   </td><td>0.6   </td><td>setosa</td></tr>\n",
       "\t<tr><td>5.1   </td><td>3.8   </td><td>1.9   </td><td>0.4   </td><td>setosa</td></tr>\n",
       "\t<tr><td>4.8   </td><td>3.0   </td><td>1.4   </td><td>0.3   </td><td>setosa</td></tr>\n",
       "\t<tr><td>5.1   </td><td>3.8   </td><td>1.6   </td><td>0.2   </td><td>setosa</td></tr>\n",
       "\t<tr><td>4.6   </td><td>3.2   </td><td>1.4   </td><td>0.2   </td><td>setosa</td></tr>\n",
       "\t<tr><td>5.3   </td><td>3.7   </td><td>1.5   </td><td>0.2   </td><td>setosa</td></tr>\n",
       "\t<tr><td>5.0   </td><td>3.3   </td><td>1.4   </td><td>0.2   </td><td>setosa</td></tr>\n",
       "</tbody>\n",
       "</table>\n"
      ],
      "text/latex": [
       "\\begin{tabular}{r|lllll}\n",
       " Sepal.Length & Sepal.Width & Petal.Length & Petal.Width & Species\\\\\n",
       "\\hline\n",
       "\t 5.1    & 3.5    & 1.4    & 0.2    & setosa\\\\\n",
       "\t 4.9    & 3.0    & 1.4    & 0.2    & setosa\\\\\n",
       "\t 4.7    & 3.2    & 1.3    & 0.2    & setosa\\\\\n",
       "\t 4.6    & 3.1    & 1.5    & 0.2    & setosa\\\\\n",
       "\t 5.0    & 3.6    & 1.4    & 0.2    & setosa\\\\\n",
       "\t 5.4    & 3.9    & 1.7    & 0.4    & setosa\\\\\n",
       "\t 4.6    & 3.4    & 1.4    & 0.3    & setosa\\\\\n",
       "\t 5.0    & 3.4    & 1.5    & 0.2    & setosa\\\\\n",
       "\t 4.4    & 2.9    & 1.4    & 0.2    & setosa\\\\\n",
       "\t 4.9    & 3.1    & 1.5    & 0.1    & setosa\\\\\n",
       "\t 5.4    & 3.7    & 1.5    & 0.2    & setosa\\\\\n",
       "\t 4.8    & 3.4    & 1.6    & 0.2    & setosa\\\\\n",
       "\t 4.8    & 3.0    & 1.4    & 0.1    & setosa\\\\\n",
       "\t 4.3    & 3.0    & 1.1    & 0.1    & setosa\\\\\n",
       "\t 5.8    & 4.0    & 1.2    & 0.2    & setosa\\\\\n",
       "\t 5.7    & 4.4    & 1.5    & 0.4    & setosa\\\\\n",
       "\t 5.4    & 3.9    & 1.3    & 0.4    & setosa\\\\\n",
       "\t 5.1    & 3.5    & 1.4    & 0.3    & setosa\\\\\n",
       "\t 5.7    & 3.8    & 1.7    & 0.3    & setosa\\\\\n",
       "\t 5.1    & 3.8    & 1.5    & 0.3    & setosa\\\\\n",
       "\t 5.4    & 3.4    & 1.7    & 0.2    & setosa\\\\\n",
       "\t 5.1    & 3.7    & 1.5    & 0.4    & setosa\\\\\n",
       "\t 4.6    & 3.6    & 1.0    & 0.2    & setosa\\\\\n",
       "\t 5.1    & 3.3    & 1.7    & 0.5    & setosa\\\\\n",
       "\t 4.8    & 3.4    & 1.9    & 0.2    & setosa\\\\\n",
       "\t 5.0    & 3.0    & 1.6    & 0.2    & setosa\\\\\n",
       "\t 5.0    & 3.4    & 1.6    & 0.4    & setosa\\\\\n",
       "\t 5.2    & 3.5    & 1.5    & 0.2    & setosa\\\\\n",
       "\t 5.2    & 3.4    & 1.4    & 0.2    & setosa\\\\\n",
       "\t 4.7    & 3.2    & 1.6    & 0.2    & setosa\\\\\n",
       "\t 4.8    & 3.1    & 1.6    & 0.2    & setosa\\\\\n",
       "\t 5.4    & 3.4    & 1.5    & 0.4    & setosa\\\\\n",
       "\t 5.2    & 4.1    & 1.5    & 0.1    & setosa\\\\\n",
       "\t 5.5    & 4.2    & 1.4    & 0.2    & setosa\\\\\n",
       "\t 4.9    & 3.1    & 1.5    & 0.2    & setosa\\\\\n",
       "\t 5.0    & 3.2    & 1.2    & 0.2    & setosa\\\\\n",
       "\t 5.5    & 3.5    & 1.3    & 0.2    & setosa\\\\\n",
       "\t 4.9    & 3.6    & 1.4    & 0.1    & setosa\\\\\n",
       "\t 4.4    & 3.0    & 1.3    & 0.2    & setosa\\\\\n",
       "\t 5.1    & 3.4    & 1.5    & 0.2    & setosa\\\\\n",
       "\t 5.0    & 3.5    & 1.3    & 0.3    & setosa\\\\\n",
       "\t 4.5    & 2.3    & 1.3    & 0.3    & setosa\\\\\n",
       "\t 4.4    & 3.2    & 1.3    & 0.2    & setosa\\\\\n",
       "\t 5.0    & 3.5    & 1.6    & 0.6    & setosa\\\\\n",
       "\t 5.1    & 3.8    & 1.9    & 0.4    & setosa\\\\\n",
       "\t 4.8    & 3.0    & 1.4    & 0.3    & setosa\\\\\n",
       "\t 5.1    & 3.8    & 1.6    & 0.2    & setosa\\\\\n",
       "\t 4.6    & 3.2    & 1.4    & 0.2    & setosa\\\\\n",
       "\t 5.3    & 3.7    & 1.5    & 0.2    & setosa\\\\\n",
       "\t 5.0    & 3.3    & 1.4    & 0.2    & setosa\\\\\n",
       "\\end{tabular}\n"
      ],
      "text/plain": [
       "   Sepal.Length Sepal.Width Petal.Length Petal.Width Species\n",
       "1  5.1          3.5         1.4          0.2         setosa \n",
       "2  4.9          3.0         1.4          0.2         setosa \n",
       "3  4.7          3.2         1.3          0.2         setosa \n",
       "4  4.6          3.1         1.5          0.2         setosa \n",
       "5  5.0          3.6         1.4          0.2         setosa \n",
       "6  5.4          3.9         1.7          0.4         setosa \n",
       "7  4.6          3.4         1.4          0.3         setosa \n",
       "8  5.0          3.4         1.5          0.2         setosa \n",
       "9  4.4          2.9         1.4          0.2         setosa \n",
       "10 4.9          3.1         1.5          0.1         setosa \n",
       "11 5.4          3.7         1.5          0.2         setosa \n",
       "12 4.8          3.4         1.6          0.2         setosa \n",
       "13 4.8          3.0         1.4          0.1         setosa \n",
       "14 4.3          3.0         1.1          0.1         setosa \n",
       "15 5.8          4.0         1.2          0.2         setosa \n",
       "16 5.7          4.4         1.5          0.4         setosa \n",
       "17 5.4          3.9         1.3          0.4         setosa \n",
       "18 5.1          3.5         1.4          0.3         setosa \n",
       "19 5.7          3.8         1.7          0.3         setosa \n",
       "20 5.1          3.8         1.5          0.3         setosa \n",
       "21 5.4          3.4         1.7          0.2         setosa \n",
       "22 5.1          3.7         1.5          0.4         setosa \n",
       "23 4.6          3.6         1.0          0.2         setosa \n",
       "24 5.1          3.3         1.7          0.5         setosa \n",
       "25 4.8          3.4         1.9          0.2         setosa \n",
       "26 5.0          3.0         1.6          0.2         setosa \n",
       "27 5.0          3.4         1.6          0.4         setosa \n",
       "28 5.2          3.5         1.5          0.2         setosa \n",
       "29 5.2          3.4         1.4          0.2         setosa \n",
       "30 4.7          3.2         1.6          0.2         setosa \n",
       "31 4.8          3.1         1.6          0.2         setosa \n",
       "32 5.4          3.4         1.5          0.4         setosa \n",
       "33 5.2          4.1         1.5          0.1         setosa \n",
       "34 5.5          4.2         1.4          0.2         setosa \n",
       "35 4.9          3.1         1.5          0.2         setosa \n",
       "36 5.0          3.2         1.2          0.2         setosa \n",
       "37 5.5          3.5         1.3          0.2         setosa \n",
       "38 4.9          3.6         1.4          0.1         setosa \n",
       "39 4.4          3.0         1.3          0.2         setosa \n",
       "40 5.1          3.4         1.5          0.2         setosa \n",
       "41 5.0          3.5         1.3          0.3         setosa \n",
       "42 4.5          2.3         1.3          0.3         setosa \n",
       "43 4.4          3.2         1.3          0.2         setosa \n",
       "44 5.0          3.5         1.6          0.6         setosa \n",
       "45 5.1          3.8         1.9          0.4         setosa \n",
       "46 4.8          3.0         1.4          0.3         setosa \n",
       "47 5.1          3.8         1.6          0.2         setosa \n",
       "48 4.6          3.2         1.4          0.2         setosa \n",
       "49 5.3          3.7         1.5          0.2         setosa \n",
       "50 5.0          3.3         1.4          0.2         setosa "
      ]
     },
     "metadata": {},
     "output_type": "display_data"
    }
   ],
   "source": [
    "myiris[Species == 'setosa']"
   ]
  },
  {
   "cell_type": "code",
   "execution_count": 17,
   "metadata": {
    "collapsed": false,
    "run_control": {
     "frozen": false,
     "read_only": false
    }
   },
   "outputs": [
    {
     "data": {
      "text/html": [
       "<table>\n",
       "<thead><tr><th scope=col>Sepal.Length</th><th scope=col>Sepal.Width</th><th scope=col>Petal.Length</th><th scope=col>Petal.Width</th><th scope=col>Species</th></tr></thead>\n",
       "<tbody>\n",
       "\t<tr><td>5.1   </td><td>3.5   </td><td>1.4   </td><td>0.2   </td><td>setosa</td></tr>\n",
       "\t<tr><td>4.9   </td><td>3.0   </td><td>1.4   </td><td>0.2   </td><td>setosa</td></tr>\n",
       "\t<tr><td>4.7   </td><td>3.2   </td><td>1.3   </td><td>0.2   </td><td>setosa</td></tr>\n",
       "\t<tr><td>4.6   </td><td>3.1   </td><td>1.5   </td><td>0.2   </td><td>setosa</td></tr>\n",
       "\t<tr><td>5.0   </td><td>3.6   </td><td>1.4   </td><td>0.2   </td><td>setosa</td></tr>\n",
       "\t<tr><td>5.4   </td><td>3.9   </td><td>1.7   </td><td>0.4   </td><td>setosa</td></tr>\n",
       "\t<tr><td>4.6   </td><td>3.4   </td><td>1.4   </td><td>0.3   </td><td>setosa</td></tr>\n",
       "\t<tr><td>5.0   </td><td>3.4   </td><td>1.5   </td><td>0.2   </td><td>setosa</td></tr>\n",
       "\t<tr><td>4.4   </td><td>2.9   </td><td>1.4   </td><td>0.2   </td><td>setosa</td></tr>\n",
       "\t<tr><td>4.9   </td><td>3.1   </td><td>1.5   </td><td>0.1   </td><td>setosa</td></tr>\n",
       "\t<tr><td>5.4   </td><td>3.7   </td><td>1.5   </td><td>0.2   </td><td>setosa</td></tr>\n",
       "\t<tr><td>4.8   </td><td>3.4   </td><td>1.6   </td><td>0.2   </td><td>setosa</td></tr>\n",
       "\t<tr><td>4.8   </td><td>3.0   </td><td>1.4   </td><td>0.1   </td><td>setosa</td></tr>\n",
       "\t<tr><td>4.3   </td><td>3.0   </td><td>1.1   </td><td>0.1   </td><td>setosa</td></tr>\n",
       "\t<tr><td>5.8   </td><td>4.0   </td><td>1.2   </td><td>0.2   </td><td>setosa</td></tr>\n",
       "\t<tr><td>5.7   </td><td>4.4   </td><td>1.5   </td><td>0.4   </td><td>setosa</td></tr>\n",
       "\t<tr><td>5.4   </td><td>3.9   </td><td>1.3   </td><td>0.4   </td><td>setosa</td></tr>\n",
       "\t<tr><td>5.1   </td><td>3.5   </td><td>1.4   </td><td>0.3   </td><td>setosa</td></tr>\n",
       "\t<tr><td>5.7   </td><td>3.8   </td><td>1.7   </td><td>0.3   </td><td>setosa</td></tr>\n",
       "\t<tr><td>5.1   </td><td>3.8   </td><td>1.5   </td><td>0.3   </td><td>setosa</td></tr>\n",
       "\t<tr><td>5.4   </td><td>3.4   </td><td>1.7   </td><td>0.2   </td><td>setosa</td></tr>\n",
       "\t<tr><td>5.1   </td><td>3.7   </td><td>1.5   </td><td>0.4   </td><td>setosa</td></tr>\n",
       "\t<tr><td>4.6   </td><td>3.6   </td><td>1.0   </td><td>0.2   </td><td>setosa</td></tr>\n",
       "\t<tr><td>5.1   </td><td>3.3   </td><td>1.7   </td><td>0.5   </td><td>setosa</td></tr>\n",
       "\t<tr><td>4.8   </td><td>3.4   </td><td>1.9   </td><td>0.2   </td><td>setosa</td></tr>\n",
       "\t<tr><td>5.0   </td><td>3.0   </td><td>1.6   </td><td>0.2   </td><td>setosa</td></tr>\n",
       "\t<tr><td>5.0   </td><td>3.4   </td><td>1.6   </td><td>0.4   </td><td>setosa</td></tr>\n",
       "\t<tr><td>5.2   </td><td>3.5   </td><td>1.5   </td><td>0.2   </td><td>setosa</td></tr>\n",
       "\t<tr><td>5.2   </td><td>3.4   </td><td>1.4   </td><td>0.2   </td><td>setosa</td></tr>\n",
       "\t<tr><td>4.7   </td><td>3.2   </td><td>1.6   </td><td>0.2   </td><td>setosa</td></tr>\n",
       "\t<tr><td>4.8   </td><td>3.1   </td><td>1.6   </td><td>0.2   </td><td>setosa</td></tr>\n",
       "\t<tr><td>5.4   </td><td>3.4   </td><td>1.5   </td><td>0.4   </td><td>setosa</td></tr>\n",
       "\t<tr><td>5.2   </td><td>4.1   </td><td>1.5   </td><td>0.1   </td><td>setosa</td></tr>\n",
       "\t<tr><td>5.5   </td><td>4.2   </td><td>1.4   </td><td>0.2   </td><td>setosa</td></tr>\n",
       "\t<tr><td>4.9   </td><td>3.1   </td><td>1.5   </td><td>0.2   </td><td>setosa</td></tr>\n",
       "\t<tr><td>5.0   </td><td>3.2   </td><td>1.2   </td><td>0.2   </td><td>setosa</td></tr>\n",
       "\t<tr><td>5.5   </td><td>3.5   </td><td>1.3   </td><td>0.2   </td><td>setosa</td></tr>\n",
       "\t<tr><td>4.9   </td><td>3.6   </td><td>1.4   </td><td>0.1   </td><td>setosa</td></tr>\n",
       "\t<tr><td>4.4   </td><td>3.0   </td><td>1.3   </td><td>0.2   </td><td>setosa</td></tr>\n",
       "\t<tr><td>5.1   </td><td>3.4   </td><td>1.5   </td><td>0.2   </td><td>setosa</td></tr>\n",
       "\t<tr><td>5.0   </td><td>3.5   </td><td>1.3   </td><td>0.3   </td><td>setosa</td></tr>\n",
       "\t<tr><td>4.5   </td><td>2.3   </td><td>1.3   </td><td>0.3   </td><td>setosa</td></tr>\n",
       "\t<tr><td>4.4   </td><td>3.2   </td><td>1.3   </td><td>0.2   </td><td>setosa</td></tr>\n",
       "\t<tr><td>5.0   </td><td>3.5   </td><td>1.6   </td><td>0.6   </td><td>setosa</td></tr>\n",
       "\t<tr><td>5.1   </td><td>3.8   </td><td>1.9   </td><td>0.4   </td><td>setosa</td></tr>\n",
       "\t<tr><td>4.8   </td><td>3.0   </td><td>1.4   </td><td>0.3   </td><td>setosa</td></tr>\n",
       "\t<tr><td>5.1   </td><td>3.8   </td><td>1.6   </td><td>0.2   </td><td>setosa</td></tr>\n",
       "\t<tr><td>4.6   </td><td>3.2   </td><td>1.4   </td><td>0.2   </td><td>setosa</td></tr>\n",
       "\t<tr><td>5.3   </td><td>3.7   </td><td>1.5   </td><td>0.2   </td><td>setosa</td></tr>\n",
       "\t<tr><td>5.0   </td><td>3.3   </td><td>1.4   </td><td>0.2   </td><td>setosa</td></tr>\n",
       "</tbody>\n",
       "</table>\n"
      ],
      "text/latex": [
       "\\begin{tabular}{r|lllll}\n",
       " Sepal.Length & Sepal.Width & Petal.Length & Petal.Width & Species\\\\\n",
       "\\hline\n",
       "\t 5.1    & 3.5    & 1.4    & 0.2    & setosa\\\\\n",
       "\t 4.9    & 3.0    & 1.4    & 0.2    & setosa\\\\\n",
       "\t 4.7    & 3.2    & 1.3    & 0.2    & setosa\\\\\n",
       "\t 4.6    & 3.1    & 1.5    & 0.2    & setosa\\\\\n",
       "\t 5.0    & 3.6    & 1.4    & 0.2    & setosa\\\\\n",
       "\t 5.4    & 3.9    & 1.7    & 0.4    & setosa\\\\\n",
       "\t 4.6    & 3.4    & 1.4    & 0.3    & setosa\\\\\n",
       "\t 5.0    & 3.4    & 1.5    & 0.2    & setosa\\\\\n",
       "\t 4.4    & 2.9    & 1.4    & 0.2    & setosa\\\\\n",
       "\t 4.9    & 3.1    & 1.5    & 0.1    & setosa\\\\\n",
       "\t 5.4    & 3.7    & 1.5    & 0.2    & setosa\\\\\n",
       "\t 4.8    & 3.4    & 1.6    & 0.2    & setosa\\\\\n",
       "\t 4.8    & 3.0    & 1.4    & 0.1    & setosa\\\\\n",
       "\t 4.3    & 3.0    & 1.1    & 0.1    & setosa\\\\\n",
       "\t 5.8    & 4.0    & 1.2    & 0.2    & setosa\\\\\n",
       "\t 5.7    & 4.4    & 1.5    & 0.4    & setosa\\\\\n",
       "\t 5.4    & 3.9    & 1.3    & 0.4    & setosa\\\\\n",
       "\t 5.1    & 3.5    & 1.4    & 0.3    & setosa\\\\\n",
       "\t 5.7    & 3.8    & 1.7    & 0.3    & setosa\\\\\n",
       "\t 5.1    & 3.8    & 1.5    & 0.3    & setosa\\\\\n",
       "\t 5.4    & 3.4    & 1.7    & 0.2    & setosa\\\\\n",
       "\t 5.1    & 3.7    & 1.5    & 0.4    & setosa\\\\\n",
       "\t 4.6    & 3.6    & 1.0    & 0.2    & setosa\\\\\n",
       "\t 5.1    & 3.3    & 1.7    & 0.5    & setosa\\\\\n",
       "\t 4.8    & 3.4    & 1.9    & 0.2    & setosa\\\\\n",
       "\t 5.0    & 3.0    & 1.6    & 0.2    & setosa\\\\\n",
       "\t 5.0    & 3.4    & 1.6    & 0.4    & setosa\\\\\n",
       "\t 5.2    & 3.5    & 1.5    & 0.2    & setosa\\\\\n",
       "\t 5.2    & 3.4    & 1.4    & 0.2    & setosa\\\\\n",
       "\t 4.7    & 3.2    & 1.6    & 0.2    & setosa\\\\\n",
       "\t 4.8    & 3.1    & 1.6    & 0.2    & setosa\\\\\n",
       "\t 5.4    & 3.4    & 1.5    & 0.4    & setosa\\\\\n",
       "\t 5.2    & 4.1    & 1.5    & 0.1    & setosa\\\\\n",
       "\t 5.5    & 4.2    & 1.4    & 0.2    & setosa\\\\\n",
       "\t 4.9    & 3.1    & 1.5    & 0.2    & setosa\\\\\n",
       "\t 5.0    & 3.2    & 1.2    & 0.2    & setosa\\\\\n",
       "\t 5.5    & 3.5    & 1.3    & 0.2    & setosa\\\\\n",
       "\t 4.9    & 3.6    & 1.4    & 0.1    & setosa\\\\\n",
       "\t 4.4    & 3.0    & 1.3    & 0.2    & setosa\\\\\n",
       "\t 5.1    & 3.4    & 1.5    & 0.2    & setosa\\\\\n",
       "\t 5.0    & 3.5    & 1.3    & 0.3    & setosa\\\\\n",
       "\t 4.5    & 2.3    & 1.3    & 0.3    & setosa\\\\\n",
       "\t 4.4    & 3.2    & 1.3    & 0.2    & setosa\\\\\n",
       "\t 5.0    & 3.5    & 1.6    & 0.6    & setosa\\\\\n",
       "\t 5.1    & 3.8    & 1.9    & 0.4    & setosa\\\\\n",
       "\t 4.8    & 3.0    & 1.4    & 0.3    & setosa\\\\\n",
       "\t 5.1    & 3.8    & 1.6    & 0.2    & setosa\\\\\n",
       "\t 4.6    & 3.2    & 1.4    & 0.2    & setosa\\\\\n",
       "\t 5.3    & 3.7    & 1.5    & 0.2    & setosa\\\\\n",
       "\t 5.0    & 3.3    & 1.4    & 0.2    & setosa\\\\\n",
       "\\end{tabular}\n"
      ],
      "text/plain": [
       "   Sepal.Length Sepal.Width Petal.Length Petal.Width Species\n",
       "1  5.1          3.5         1.4          0.2         setosa \n",
       "2  4.9          3.0         1.4          0.2         setosa \n",
       "3  4.7          3.2         1.3          0.2         setosa \n",
       "4  4.6          3.1         1.5          0.2         setosa \n",
       "5  5.0          3.6         1.4          0.2         setosa \n",
       "6  5.4          3.9         1.7          0.4         setosa \n",
       "7  4.6          3.4         1.4          0.3         setosa \n",
       "8  5.0          3.4         1.5          0.2         setosa \n",
       "9  4.4          2.9         1.4          0.2         setosa \n",
       "10 4.9          3.1         1.5          0.1         setosa \n",
       "11 5.4          3.7         1.5          0.2         setosa \n",
       "12 4.8          3.4         1.6          0.2         setosa \n",
       "13 4.8          3.0         1.4          0.1         setosa \n",
       "14 4.3          3.0         1.1          0.1         setosa \n",
       "15 5.8          4.0         1.2          0.2         setosa \n",
       "16 5.7          4.4         1.5          0.4         setosa \n",
       "17 5.4          3.9         1.3          0.4         setosa \n",
       "18 5.1          3.5         1.4          0.3         setosa \n",
       "19 5.7          3.8         1.7          0.3         setosa \n",
       "20 5.1          3.8         1.5          0.3         setosa \n",
       "21 5.4          3.4         1.7          0.2         setosa \n",
       "22 5.1          3.7         1.5          0.4         setosa \n",
       "23 4.6          3.6         1.0          0.2         setosa \n",
       "24 5.1          3.3         1.7          0.5         setosa \n",
       "25 4.8          3.4         1.9          0.2         setosa \n",
       "26 5.0          3.0         1.6          0.2         setosa \n",
       "27 5.0          3.4         1.6          0.4         setosa \n",
       "28 5.2          3.5         1.5          0.2         setosa \n",
       "29 5.2          3.4         1.4          0.2         setosa \n",
       "30 4.7          3.2         1.6          0.2         setosa \n",
       "31 4.8          3.1         1.6          0.2         setosa \n",
       "32 5.4          3.4         1.5          0.4         setosa \n",
       "33 5.2          4.1         1.5          0.1         setosa \n",
       "34 5.5          4.2         1.4          0.2         setosa \n",
       "35 4.9          3.1         1.5          0.2         setosa \n",
       "36 5.0          3.2         1.2          0.2         setosa \n",
       "37 5.5          3.5         1.3          0.2         setosa \n",
       "38 4.9          3.6         1.4          0.1         setosa \n",
       "39 4.4          3.0         1.3          0.2         setosa \n",
       "40 5.1          3.4         1.5          0.2         setosa \n",
       "41 5.0          3.5         1.3          0.3         setosa \n",
       "42 4.5          2.3         1.3          0.3         setosa \n",
       "43 4.4          3.2         1.3          0.2         setosa \n",
       "44 5.0          3.5         1.6          0.6         setosa \n",
       "45 5.1          3.8         1.9          0.4         setosa \n",
       "46 4.8          3.0         1.4          0.3         setosa \n",
       "47 5.1          3.8         1.6          0.2         setosa \n",
       "48 4.6          3.2         1.4          0.2         setosa \n",
       "49 5.3          3.7         1.5          0.2         setosa \n",
       "50 5.0          3.3         1.4          0.2         setosa "
      ]
     },
     "metadata": {},
     "output_type": "display_data"
    }
   ],
   "source": [
    "subset(iris,iris$Species == 'setosa')"
   ]
  },
  {
   "cell_type": "code",
   "execution_count": 18,
   "metadata": {
    "collapsed": false
   },
   "outputs": [
    {
     "data": {
      "text/html": [
       "<table>\n",
       "<thead><tr><th scope=col>Sepal.Length</th><th scope=col>Sepal.Width</th><th scope=col>Petal.Length</th><th scope=col>Petal.Width</th><th scope=col>Species</th></tr></thead>\n",
       "<tbody>\n",
       "\t<tr><td>5.1   </td><td>3.5   </td><td>1.4   </td><td>0.2   </td><td>setosa</td></tr>\n",
       "\t<tr><td>4.9   </td><td>3.0   </td><td>1.4   </td><td>0.2   </td><td>setosa</td></tr>\n",
       "\t<tr><td>4.7   </td><td>3.2   </td><td>1.3   </td><td>0.2   </td><td>setosa</td></tr>\n",
       "\t<tr><td>4.6   </td><td>3.1   </td><td>1.5   </td><td>0.2   </td><td>setosa</td></tr>\n",
       "\t<tr><td>5.0   </td><td>3.6   </td><td>1.4   </td><td>0.2   </td><td>setosa</td></tr>\n",
       "\t<tr><td>5.4   </td><td>3.9   </td><td>1.7   </td><td>0.4   </td><td>setosa</td></tr>\n",
       "\t<tr><td>4.6   </td><td>3.4   </td><td>1.4   </td><td>0.3   </td><td>setosa</td></tr>\n",
       "\t<tr><td>5.0   </td><td>3.4   </td><td>1.5   </td><td>0.2   </td><td>setosa</td></tr>\n",
       "\t<tr><td>4.4   </td><td>2.9   </td><td>1.4   </td><td>0.2   </td><td>setosa</td></tr>\n",
       "\t<tr><td>4.9   </td><td>3.1   </td><td>1.5   </td><td>0.1   </td><td>setosa</td></tr>\n",
       "\t<tr><td>5.4   </td><td>3.7   </td><td>1.5   </td><td>0.2   </td><td>setosa</td></tr>\n",
       "\t<tr><td>4.8   </td><td>3.4   </td><td>1.6   </td><td>0.2   </td><td>setosa</td></tr>\n",
       "\t<tr><td>4.8   </td><td>3.0   </td><td>1.4   </td><td>0.1   </td><td>setosa</td></tr>\n",
       "\t<tr><td>4.3   </td><td>3.0   </td><td>1.1   </td><td>0.1   </td><td>setosa</td></tr>\n",
       "\t<tr><td>5.8   </td><td>4.0   </td><td>1.2   </td><td>0.2   </td><td>setosa</td></tr>\n",
       "\t<tr><td>5.7   </td><td>4.4   </td><td>1.5   </td><td>0.4   </td><td>setosa</td></tr>\n",
       "\t<tr><td>5.4   </td><td>3.9   </td><td>1.3   </td><td>0.4   </td><td>setosa</td></tr>\n",
       "\t<tr><td>5.1   </td><td>3.5   </td><td>1.4   </td><td>0.3   </td><td>setosa</td></tr>\n",
       "\t<tr><td>5.7   </td><td>3.8   </td><td>1.7   </td><td>0.3   </td><td>setosa</td></tr>\n",
       "\t<tr><td>5.1   </td><td>3.8   </td><td>1.5   </td><td>0.3   </td><td>setosa</td></tr>\n",
       "\t<tr><td>5.4   </td><td>3.4   </td><td>1.7   </td><td>0.2   </td><td>setosa</td></tr>\n",
       "\t<tr><td>5.1   </td><td>3.7   </td><td>1.5   </td><td>0.4   </td><td>setosa</td></tr>\n",
       "\t<tr><td>4.6   </td><td>3.6   </td><td>1.0   </td><td>0.2   </td><td>setosa</td></tr>\n",
       "\t<tr><td>5.1   </td><td>3.3   </td><td>1.7   </td><td>0.5   </td><td>setosa</td></tr>\n",
       "\t<tr><td>4.8   </td><td>3.4   </td><td>1.9   </td><td>0.2   </td><td>setosa</td></tr>\n",
       "\t<tr><td>5.0   </td><td>3.0   </td><td>1.6   </td><td>0.2   </td><td>setosa</td></tr>\n",
       "\t<tr><td>5.0   </td><td>3.4   </td><td>1.6   </td><td>0.4   </td><td>setosa</td></tr>\n",
       "\t<tr><td>5.2   </td><td>3.5   </td><td>1.5   </td><td>0.2   </td><td>setosa</td></tr>\n",
       "\t<tr><td>5.2   </td><td>3.4   </td><td>1.4   </td><td>0.2   </td><td>setosa</td></tr>\n",
       "\t<tr><td>4.7   </td><td>3.2   </td><td>1.6   </td><td>0.2   </td><td>setosa</td></tr>\n",
       "\t<tr><td>...</td><td>...</td><td>...</td><td>...</td><td>...</td></tr>\n",
       "\t<tr><td>6.9      </td><td>3.2      </td><td>5.7      </td><td>2.3      </td><td>virginica</td></tr>\n",
       "\t<tr><td>5.6      </td><td>2.8      </td><td>4.9      </td><td>2.0      </td><td>virginica</td></tr>\n",
       "\t<tr><td>7.7      </td><td>2.8      </td><td>6.7      </td><td>2.0      </td><td>virginica</td></tr>\n",
       "\t<tr><td>6.3      </td><td>2.7      </td><td>4.9      </td><td>1.8      </td><td>virginica</td></tr>\n",
       "\t<tr><td>6.7      </td><td>3.3      </td><td>5.7      </td><td>2.1      </td><td>virginica</td></tr>\n",
       "\t<tr><td>7.2      </td><td>3.2      </td><td>6.0      </td><td>1.8      </td><td>virginica</td></tr>\n",
       "\t<tr><td>6.2      </td><td>2.8      </td><td>4.8      </td><td>1.8      </td><td>virginica</td></tr>\n",
       "\t<tr><td>6.1      </td><td>3.0      </td><td>4.9      </td><td>1.8      </td><td>virginica</td></tr>\n",
       "\t<tr><td>6.4      </td><td>2.8      </td><td>5.6      </td><td>2.1      </td><td>virginica</td></tr>\n",
       "\t<tr><td>7.2      </td><td>3.0      </td><td>5.8      </td><td>1.6      </td><td>virginica</td></tr>\n",
       "\t<tr><td>7.4      </td><td>2.8      </td><td>6.1      </td><td>1.9      </td><td>virginica</td></tr>\n",
       "\t<tr><td>7.9      </td><td>3.8      </td><td>6.4      </td><td>2.0      </td><td>virginica</td></tr>\n",
       "\t<tr><td>6.4      </td><td>2.8      </td><td>5.6      </td><td>2.2      </td><td>virginica</td></tr>\n",
       "\t<tr><td>6.3      </td><td>2.8      </td><td>5.1      </td><td>1.5      </td><td>virginica</td></tr>\n",
       "\t<tr><td>6.1      </td><td>2.6      </td><td>5.6      </td><td>1.4      </td><td>virginica</td></tr>\n",
       "\t<tr><td>7.7      </td><td>3.0      </td><td>6.1      </td><td>2.3      </td><td>virginica</td></tr>\n",
       "\t<tr><td>6.3      </td><td>3.4      </td><td>5.6      </td><td>2.4      </td><td>virginica</td></tr>\n",
       "\t<tr><td>6.4      </td><td>3.1      </td><td>5.5      </td><td>1.8      </td><td>virginica</td></tr>\n",
       "\t<tr><td>6.0      </td><td>3.0      </td><td>4.8      </td><td>1.8      </td><td>virginica</td></tr>\n",
       "\t<tr><td>6.9      </td><td>3.1      </td><td>5.4      </td><td>2.1      </td><td>virginica</td></tr>\n",
       "\t<tr><td>6.7      </td><td>3.1      </td><td>5.6      </td><td>2.4      </td><td>virginica</td></tr>\n",
       "\t<tr><td>6.9      </td><td>3.1      </td><td>5.1      </td><td>2.3      </td><td>virginica</td></tr>\n",
       "\t<tr><td>5.8      </td><td>2.7      </td><td>5.1      </td><td>1.9      </td><td>virginica</td></tr>\n",
       "\t<tr><td>6.8      </td><td>3.2      </td><td>5.9      </td><td>2.3      </td><td>virginica</td></tr>\n",
       "\t<tr><td>6.7      </td><td>3.3      </td><td>5.7      </td><td>2.5      </td><td>virginica</td></tr>\n",
       "\t<tr><td>6.7      </td><td>3.0      </td><td>5.2      </td><td>2.3      </td><td>virginica</td></tr>\n",
       "\t<tr><td>6.3      </td><td>2.5      </td><td>5.0      </td><td>1.9      </td><td>virginica</td></tr>\n",
       "\t<tr><td>6.5      </td><td>3.0      </td><td>5.2      </td><td>2.0      </td><td>virginica</td></tr>\n",
       "\t<tr><td>6.2      </td><td>3.4      </td><td>5.4      </td><td>2.3      </td><td>virginica</td></tr>\n",
       "\t<tr><td>5.9      </td><td>3.0      </td><td>5.1      </td><td>1.8      </td><td>virginica</td></tr>\n",
       "</tbody>\n",
       "</table>\n"
      ],
      "text/latex": [
       "\\begin{tabular}{r|lllll}\n",
       " Sepal.Length & Sepal.Width & Petal.Length & Petal.Width & Species\\\\\n",
       "\\hline\n",
       "\t 5.1    & 3.5    & 1.4    & 0.2    & setosa\\\\\n",
       "\t 4.9    & 3.0    & 1.4    & 0.2    & setosa\\\\\n",
       "\t 4.7    & 3.2    & 1.3    & 0.2    & setosa\\\\\n",
       "\t 4.6    & 3.1    & 1.5    & 0.2    & setosa\\\\\n",
       "\t 5.0    & 3.6    & 1.4    & 0.2    & setosa\\\\\n",
       "\t 5.4    & 3.9    & 1.7    & 0.4    & setosa\\\\\n",
       "\t 4.6    & 3.4    & 1.4    & 0.3    & setosa\\\\\n",
       "\t 5.0    & 3.4    & 1.5    & 0.2    & setosa\\\\\n",
       "\t 4.4    & 2.9    & 1.4    & 0.2    & setosa\\\\\n",
       "\t 4.9    & 3.1    & 1.5    & 0.1    & setosa\\\\\n",
       "\t 5.4    & 3.7    & 1.5    & 0.2    & setosa\\\\\n",
       "\t 4.8    & 3.4    & 1.6    & 0.2    & setosa\\\\\n",
       "\t 4.8    & 3.0    & 1.4    & 0.1    & setosa\\\\\n",
       "\t 4.3    & 3.0    & 1.1    & 0.1    & setosa\\\\\n",
       "\t 5.8    & 4.0    & 1.2    & 0.2    & setosa\\\\\n",
       "\t 5.7    & 4.4    & 1.5    & 0.4    & setosa\\\\\n",
       "\t 5.4    & 3.9    & 1.3    & 0.4    & setosa\\\\\n",
       "\t 5.1    & 3.5    & 1.4    & 0.3    & setosa\\\\\n",
       "\t 5.7    & 3.8    & 1.7    & 0.3    & setosa\\\\\n",
       "\t 5.1    & 3.8    & 1.5    & 0.3    & setosa\\\\\n",
       "\t 5.4    & 3.4    & 1.7    & 0.2    & setosa\\\\\n",
       "\t 5.1    & 3.7    & 1.5    & 0.4    & setosa\\\\\n",
       "\t 4.6    & 3.6    & 1.0    & 0.2    & setosa\\\\\n",
       "\t 5.1    & 3.3    & 1.7    & 0.5    & setosa\\\\\n",
       "\t 4.8    & 3.4    & 1.9    & 0.2    & setosa\\\\\n",
       "\t 5.0    & 3.0    & 1.6    & 0.2    & setosa\\\\\n",
       "\t 5.0    & 3.4    & 1.6    & 0.4    & setosa\\\\\n",
       "\t 5.2    & 3.5    & 1.5    & 0.2    & setosa\\\\\n",
       "\t 5.2    & 3.4    & 1.4    & 0.2    & setosa\\\\\n",
       "\t 4.7    & 3.2    & 1.6    & 0.2    & setosa\\\\\n",
       "\t ... & ... & ... & ... & ...\\\\\n",
       "\t 6.9       & 3.2       & 5.7       & 2.3       & virginica\\\\\n",
       "\t 5.6       & 2.8       & 4.9       & 2.0       & virginica\\\\\n",
       "\t 7.7       & 2.8       & 6.7       & 2.0       & virginica\\\\\n",
       "\t 6.3       & 2.7       & 4.9       & 1.8       & virginica\\\\\n",
       "\t 6.7       & 3.3       & 5.7       & 2.1       & virginica\\\\\n",
       "\t 7.2       & 3.2       & 6.0       & 1.8       & virginica\\\\\n",
       "\t 6.2       & 2.8       & 4.8       & 1.8       & virginica\\\\\n",
       "\t 6.1       & 3.0       & 4.9       & 1.8       & virginica\\\\\n",
       "\t 6.4       & 2.8       & 5.6       & 2.1       & virginica\\\\\n",
       "\t 7.2       & 3.0       & 5.8       & 1.6       & virginica\\\\\n",
       "\t 7.4       & 2.8       & 6.1       & 1.9       & virginica\\\\\n",
       "\t 7.9       & 3.8       & 6.4       & 2.0       & virginica\\\\\n",
       "\t 6.4       & 2.8       & 5.6       & 2.2       & virginica\\\\\n",
       "\t 6.3       & 2.8       & 5.1       & 1.5       & virginica\\\\\n",
       "\t 6.1       & 2.6       & 5.6       & 1.4       & virginica\\\\\n",
       "\t 7.7       & 3.0       & 6.1       & 2.3       & virginica\\\\\n",
       "\t 6.3       & 3.4       & 5.6       & 2.4       & virginica\\\\\n",
       "\t 6.4       & 3.1       & 5.5       & 1.8       & virginica\\\\\n",
       "\t 6.0       & 3.0       & 4.8       & 1.8       & virginica\\\\\n",
       "\t 6.9       & 3.1       & 5.4       & 2.1       & virginica\\\\\n",
       "\t 6.7       & 3.1       & 5.6       & 2.4       & virginica\\\\\n",
       "\t 6.9       & 3.1       & 5.1       & 2.3       & virginica\\\\\n",
       "\t 5.8       & 2.7       & 5.1       & 1.9       & virginica\\\\\n",
       "\t 6.8       & 3.2       & 5.9       & 2.3       & virginica\\\\\n",
       "\t 6.7       & 3.3       & 5.7       & 2.5       & virginica\\\\\n",
       "\t 6.7       & 3.0       & 5.2       & 2.3       & virginica\\\\\n",
       "\t 6.3       & 2.5       & 5.0       & 1.9       & virginica\\\\\n",
       "\t 6.5       & 3.0       & 5.2       & 2.0       & virginica\\\\\n",
       "\t 6.2       & 3.4       & 5.4       & 2.3       & virginica\\\\\n",
       "\t 5.9       & 3.0       & 5.1       & 1.8       & virginica\\\\\n",
       "\\end{tabular}\n"
      ],
      "text/plain": [
       "    Sepal.Length Sepal.Width Petal.Length Petal.Width Species  \n",
       "1   5.1          3.5         1.4          0.2         setosa   \n",
       "2   4.9          3.0         1.4          0.2         setosa   \n",
       "3   4.7          3.2         1.3          0.2         setosa   \n",
       "4   4.6          3.1         1.5          0.2         setosa   \n",
       "5   5.0          3.6         1.4          0.2         setosa   \n",
       "6   5.4          3.9         1.7          0.4         setosa   \n",
       "7   4.6          3.4         1.4          0.3         setosa   \n",
       "8   5.0          3.4         1.5          0.2         setosa   \n",
       "9   4.4          2.9         1.4          0.2         setosa   \n",
       "10  4.9          3.1         1.5          0.1         setosa   \n",
       "11  5.4          3.7         1.5          0.2         setosa   \n",
       "12  4.8          3.4         1.6          0.2         setosa   \n",
       "13  4.8          3.0         1.4          0.1         setosa   \n",
       "14  4.3          3.0         1.1          0.1         setosa   \n",
       "15  5.8          4.0         1.2          0.2         setosa   \n",
       "16  5.7          4.4         1.5          0.4         setosa   \n",
       "17  5.4          3.9         1.3          0.4         setosa   \n",
       "18  5.1          3.5         1.4          0.3         setosa   \n",
       "19  5.7          3.8         1.7          0.3         setosa   \n",
       "20  5.1          3.8         1.5          0.3         setosa   \n",
       "21  5.4          3.4         1.7          0.2         setosa   \n",
       "22  5.1          3.7         1.5          0.4         setosa   \n",
       "23  4.6          3.6         1.0          0.2         setosa   \n",
       "24  5.1          3.3         1.7          0.5         setosa   \n",
       "25  4.8          3.4         1.9          0.2         setosa   \n",
       "26  5.0          3.0         1.6          0.2         setosa   \n",
       "27  5.0          3.4         1.6          0.4         setosa   \n",
       "28  5.2          3.5         1.5          0.2         setosa   \n",
       "29  5.2          3.4         1.4          0.2         setosa   \n",
       "30  4.7          3.2         1.6          0.2         setosa   \n",
       "... ...          ...         ...          ...         ...      \n",
       "71  6.9          3.2         5.7          2.3         virginica\n",
       "72  5.6          2.8         4.9          2.0         virginica\n",
       "73  7.7          2.8         6.7          2.0         virginica\n",
       "74  6.3          2.7         4.9          1.8         virginica\n",
       "75  6.7          3.3         5.7          2.1         virginica\n",
       "76  7.2          3.2         6.0          1.8         virginica\n",
       "77  6.2          2.8         4.8          1.8         virginica\n",
       "78  6.1          3.0         4.9          1.8         virginica\n",
       "79  6.4          2.8         5.6          2.1         virginica\n",
       "80  7.2          3.0         5.8          1.6         virginica\n",
       "81  7.4          2.8         6.1          1.9         virginica\n",
       "82  7.9          3.8         6.4          2.0         virginica\n",
       "83  6.4          2.8         5.6          2.2         virginica\n",
       "84  6.3          2.8         5.1          1.5         virginica\n",
       "85  6.1          2.6         5.6          1.4         virginica\n",
       "86  7.7          3.0         6.1          2.3         virginica\n",
       "87  6.3          3.4         5.6          2.4         virginica\n",
       "88  6.4          3.1         5.5          1.8         virginica\n",
       "89  6.0          3.0         4.8          1.8         virginica\n",
       "90  6.9          3.1         5.4          2.1         virginica\n",
       "91  6.7          3.1         5.6          2.4         virginica\n",
       "92  6.9          3.1         5.1          2.3         virginica\n",
       "93  5.8          2.7         5.1          1.9         virginica\n",
       "94  6.8          3.2         5.9          2.3         virginica\n",
       "95  6.7          3.3         5.7          2.5         virginica\n",
       "96  6.7          3.0         5.2          2.3         virginica\n",
       "97  6.3          2.5         5.0          1.9         virginica\n",
       "98  6.5          3.0         5.2          2.0         virginica\n",
       "99  6.2          3.4         5.4          2.3         virginica\n",
       "100 5.9          3.0         5.1          1.8         virginica"
      ]
     },
     "metadata": {},
     "output_type": "display_data"
    }
   ],
   "source": [
    "myiris[Species %in% c('setosa', 'virginica')] "
   ]
  },
  {
   "cell_type": "code",
   "execution_count": null,
   "metadata": {
    "collapsed": true
   },
   "outputs": [],
   "source": [
    "mydata[,Temp] # #select columns. Returns a vector"
   ]
  },
  {
   "cell_type": "code",
   "execution_count": null,
   "metadata": {
    "collapsed": true
   },
   "outputs": [],
   "source": [
    "airquality[,c(\"Wind\",\"Temp\")]"
   ]
  },
  {
   "cell_type": "code",
   "execution_count": 33,
   "metadata": {
    "collapsed": false
   },
   "outputs": [
    {
     "data": {
      "text/html": [
       "<table>\n",
       "<thead><tr><th scope=col>Temp</th><th scope=col>Month</th></tr></thead>\n",
       "<tbody>\n",
       "\t<tr><td>67</td><td>5 </td></tr>\n",
       "\t<tr><td>72</td><td>5 </td></tr>\n",
       "\t<tr><td>74</td><td>5 </td></tr>\n",
       "\t<tr><td>62</td><td>5 </td></tr>\n",
       "\t<tr><td>56</td><td>5 </td></tr>\n",
       "\t<tr><td>66</td><td>5 </td></tr>\n",
       "\t<tr><td>65</td><td>5 </td></tr>\n",
       "\t<tr><td>59</td><td>5 </td></tr>\n",
       "\t<tr><td>61</td><td>5 </td></tr>\n",
       "\t<tr><td>69</td><td>5 </td></tr>\n",
       "\t<tr><td>74</td><td>5 </td></tr>\n",
       "\t<tr><td>69</td><td>5 </td></tr>\n",
       "\t<tr><td>66</td><td>5 </td></tr>\n",
       "\t<tr><td>68</td><td>5 </td></tr>\n",
       "\t<tr><td>58</td><td>5 </td></tr>\n",
       "\t<tr><td>64</td><td>5 </td></tr>\n",
       "\t<tr><td>66</td><td>5 </td></tr>\n",
       "\t<tr><td>57</td><td>5 </td></tr>\n",
       "\t<tr><td>68</td><td>5 </td></tr>\n",
       "\t<tr><td>62</td><td>5 </td></tr>\n",
       "\t<tr><td>59</td><td>5 </td></tr>\n",
       "\t<tr><td>73</td><td>5 </td></tr>\n",
       "\t<tr><td>61</td><td>5 </td></tr>\n",
       "\t<tr><td>61</td><td>5 </td></tr>\n",
       "\t<tr><td>57</td><td>5 </td></tr>\n",
       "\t<tr><td>58</td><td>5 </td></tr>\n",
       "\t<tr><td>57</td><td>5 </td></tr>\n",
       "\t<tr><td>67</td><td>5 </td></tr>\n",
       "\t<tr><td>81</td><td>5 </td></tr>\n",
       "\t<tr><td>79</td><td>5 </td></tr>\n",
       "\t<tr><td>...</td><td>...</td></tr>\n",
       "\t<tr><td>91</td><td>9 </td></tr>\n",
       "\t<tr><td>92</td><td>9 </td></tr>\n",
       "\t<tr><td>93</td><td>9 </td></tr>\n",
       "\t<tr><td>93</td><td>9 </td></tr>\n",
       "\t<tr><td>87</td><td>9 </td></tr>\n",
       "\t<tr><td>84</td><td>9 </td></tr>\n",
       "\t<tr><td>80</td><td>9 </td></tr>\n",
       "\t<tr><td>78</td><td>9 </td></tr>\n",
       "\t<tr><td>75</td><td>9 </td></tr>\n",
       "\t<tr><td>73</td><td>9 </td></tr>\n",
       "\t<tr><td>81</td><td>9 </td></tr>\n",
       "\t<tr><td>76</td><td>9 </td></tr>\n",
       "\t<tr><td>77</td><td>9 </td></tr>\n",
       "\t<tr><td>71</td><td>9 </td></tr>\n",
       "\t<tr><td>71</td><td>9 </td></tr>\n",
       "\t<tr><td>78</td><td>9 </td></tr>\n",
       "\t<tr><td>67</td><td>9 </td></tr>\n",
       "\t<tr><td>76</td><td>9 </td></tr>\n",
       "\t<tr><td>68</td><td>9 </td></tr>\n",
       "\t<tr><td>82</td><td>9 </td></tr>\n",
       "\t<tr><td>64</td><td>9 </td></tr>\n",
       "\t<tr><td>71</td><td>9 </td></tr>\n",
       "\t<tr><td>81</td><td>9 </td></tr>\n",
       "\t<tr><td>69</td><td>9 </td></tr>\n",
       "\t<tr><td>63</td><td>9 </td></tr>\n",
       "\t<tr><td>70</td><td>9 </td></tr>\n",
       "\t<tr><td>77</td><td>9 </td></tr>\n",
       "\t<tr><td>75</td><td>9 </td></tr>\n",
       "\t<tr><td>76</td><td>9 </td></tr>\n",
       "\t<tr><td>68</td><td>9 </td></tr>\n",
       "</tbody>\n",
       "</table>\n"
      ],
      "text/latex": [
       "\\begin{tabular}{r|ll}\n",
       " Temp & Month\\\\\n",
       "\\hline\n",
       "\t 67 & 5 \\\\\n",
       "\t 72 & 5 \\\\\n",
       "\t 74 & 5 \\\\\n",
       "\t 62 & 5 \\\\\n",
       "\t 56 & 5 \\\\\n",
       "\t 66 & 5 \\\\\n",
       "\t 65 & 5 \\\\\n",
       "\t 59 & 5 \\\\\n",
       "\t 61 & 5 \\\\\n",
       "\t 69 & 5 \\\\\n",
       "\t 74 & 5 \\\\\n",
       "\t 69 & 5 \\\\\n",
       "\t 66 & 5 \\\\\n",
       "\t 68 & 5 \\\\\n",
       "\t 58 & 5 \\\\\n",
       "\t 64 & 5 \\\\\n",
       "\t 66 & 5 \\\\\n",
       "\t 57 & 5 \\\\\n",
       "\t 68 & 5 \\\\\n",
       "\t 62 & 5 \\\\\n",
       "\t 59 & 5 \\\\\n",
       "\t 73 & 5 \\\\\n",
       "\t 61 & 5 \\\\\n",
       "\t 61 & 5 \\\\\n",
       "\t 57 & 5 \\\\\n",
       "\t 58 & 5 \\\\\n",
       "\t 57 & 5 \\\\\n",
       "\t 67 & 5 \\\\\n",
       "\t 81 & 5 \\\\\n",
       "\t 79 & 5 \\\\\n",
       "\t ... & ...\\\\\n",
       "\t 91 & 9 \\\\\n",
       "\t 92 & 9 \\\\\n",
       "\t 93 & 9 \\\\\n",
       "\t 93 & 9 \\\\\n",
       "\t 87 & 9 \\\\\n",
       "\t 84 & 9 \\\\\n",
       "\t 80 & 9 \\\\\n",
       "\t 78 & 9 \\\\\n",
       "\t 75 & 9 \\\\\n",
       "\t 73 & 9 \\\\\n",
       "\t 81 & 9 \\\\\n",
       "\t 76 & 9 \\\\\n",
       "\t 77 & 9 \\\\\n",
       "\t 71 & 9 \\\\\n",
       "\t 71 & 9 \\\\\n",
       "\t 78 & 9 \\\\\n",
       "\t 67 & 9 \\\\\n",
       "\t 76 & 9 \\\\\n",
       "\t 68 & 9 \\\\\n",
       "\t 82 & 9 \\\\\n",
       "\t 64 & 9 \\\\\n",
       "\t 71 & 9 \\\\\n",
       "\t 81 & 9 \\\\\n",
       "\t 69 & 9 \\\\\n",
       "\t 63 & 9 \\\\\n",
       "\t 70 & 9 \\\\\n",
       "\t 77 & 9 \\\\\n",
       "\t 75 & 9 \\\\\n",
       "\t 76 & 9 \\\\\n",
       "\t 68 & 9 \\\\\n",
       "\\end{tabular}\n"
      ],
      "text/plain": [
       "    Temp Month\n",
       "1   67   5    \n",
       "2   72   5    \n",
       "3   74   5    \n",
       "4   62   5    \n",
       "5   56   5    \n",
       "6   66   5    \n",
       "7   65   5    \n",
       "8   59   5    \n",
       "9   61   5    \n",
       "10  69   5    \n",
       "11  74   5    \n",
       "12  69   5    \n",
       "13  66   5    \n",
       "14  68   5    \n",
       "15  58   5    \n",
       "16  64   5    \n",
       "17  66   5    \n",
       "18  57   5    \n",
       "19  68   5    \n",
       "20  62   5    \n",
       "21  59   5    \n",
       "22  73   5    \n",
       "23  61   5    \n",
       "24  61   5    \n",
       "25  57   5    \n",
       "26  58   5    \n",
       "27  57   5    \n",
       "28  67   5    \n",
       "29  81   5    \n",
       "30  79   5    \n",
       "... ...  ...  \n",
       "124 91   9    \n",
       "125 92   9    \n",
       "126 93   9    \n",
       "127 93   9    \n",
       "128 87   9    \n",
       "129 84   9    \n",
       "130 80   9    \n",
       "131 78   9    \n",
       "132 75   9    \n",
       "133 73   9    \n",
       "134 81   9    \n",
       "135 76   9    \n",
       "136 77   9    \n",
       "137 71   9    \n",
       "138 71   9    \n",
       "139 78   9    \n",
       "140 67   9    \n",
       "141 76   9    \n",
       "142 68   9    \n",
       "143 82   9    \n",
       "144 64   9    \n",
       "145 71   9    \n",
       "146 81   9    \n",
       "147 69   9    \n",
       "148 63   9    \n",
       "149 70   9    \n",
       "150 77   9    \n",
       "151 75   9    \n",
       "152 76   9    \n",
       "153 68   9    "
      ]
     },
     "metadata": {},
     "output_type": "display_data"
    }
   ],
   "source": [
    "mydata[,.(Temp,Month)]"
   ]
  },
  {
   "cell_type": "code",
   "execution_count": 26,
   "metadata": {
    "collapsed": false
   },
   "outputs": [
    {
     "data": {
      "text/plain": [
       "[1] NA"
      ]
     },
     "metadata": {},
     "output_type": "display_data"
    }
   ],
   "source": [
    "mydata[,sum(Ozone, na.rm = TRUE)]"
   ]
  },
  {
   "cell_type": "code",
   "execution_count": 30,
   "metadata": {
    "collapsed": false
   },
   "outputs": [
    {
     "name": "stderr",
     "output_type": "stream",
     "text": [
      "------------------------------------------------------------------------------\n",
      "data.table + dplyr code now lives in dtplyr.\n",
      "Please library(dtplyr)!\n",
      "------------------------------------------------------------------------------\n",
      "\n",
      "Attaching package: 'dplyr'\n",
      "\n",
      "The following objects are masked from 'package:data.table':\n",
      "\n",
      "    between, last\n",
      "\n",
      "The following objects are masked from 'package:stats':\n",
      "\n",
      "    filter, lag\n",
      "\n",
      "The following objects are masked from 'package:base':\n",
      "\n",
      "    intersect, setdiff, setequal, union\n",
      "\n"
     ]
    },
    {
     "name": "stdout",
     "output_type": "stream",
     "text": [
      "  [1] 5.1 4.9 4.7 4.6 5.0 5.4 4.6 5.0 4.4 4.9 5.4 4.8 4.8 4.3 5.8 5.7 5.4 5.1\n",
      " [19] 5.7 5.1 5.4 5.1 4.6 5.1 4.8 5.0 5.0 5.2 5.2 4.7 4.8 5.4 5.2 5.5 4.9 5.0\n",
      " [37] 5.5 4.9 4.4 5.1 5.0 4.5 4.4 5.0 5.1 4.8 5.1 4.6 5.3 5.0 7.0 6.4 6.9 5.5\n",
      " [55] 6.5 5.7 6.3 4.9 6.6 5.2 5.0 5.9 6.0 6.1 5.6 6.7 5.6 5.8 6.2 5.6 5.9 6.1\n",
      " [73] 6.3 6.1 6.4 6.6 6.8 6.7 6.0 5.7 5.5 5.5 5.8 6.0 5.4 6.0 6.7 6.3 5.6 5.5\n",
      " [91] 5.5 6.1 5.8 5.0 5.6 5.7 5.7 6.2 5.1 5.7 6.3 5.8 7.1 6.3 6.5 7.6 4.9 7.3\n",
      "[109] 6.7 7.2 6.5 6.4 6.8 5.7 5.8 6.4 6.5 7.7 7.7 6.0 6.9 5.6 7.7 6.3 6.7 7.2\n",
      "[127] 6.2 6.1 6.4 7.2 7.4 7.9 6.4 6.3 6.1 7.7 6.3 6.4 6.0 6.9 6.7 6.9 5.8 6.8\n",
      "[145] 6.7 6.7 6.3 6.5 6.2 5.9\n"
     ]
    },
    {
     "data": {
      "text/plain": [
       "NULL"
      ]
     },
     "metadata": {},
     "output_type": "display_data"
    },
    {
     "data": {
      "image/png": "[encoded data removed]",
      "text/plain": [
       "plot without title"
      ]
     },
     "metadata": {},
     "output_type": "display_data"
    }
   ],
   "source": [
    "library(dplyr)\n",
    "myiris[,{print(Sepal.Length) %>% plot(Sepal.Width)}]"
   ]
  },
  {
   "cell_type": "code",
   "execution_count": 34,
   "metadata": {
    "collapsed": false
   },
   "outputs": [
    {
     "data": {
      "text/html": [
       "<table>\n",
       "<thead><tr><th scope=col>Species</th><th scope=col>sepalsum</th></tr></thead>\n",
       "<tbody>\n",
       "\t<tr><td>setosa    </td><td>250.3     </td></tr>\n",
       "\t<tr><td>versicolor</td><td>296.8     </td></tr>\n",
       "\t<tr><td>virginica </td><td>329.4     </td></tr>\n",
       "</tbody>\n",
       "</table>\n"
      ],
      "text/latex": [
       "\\begin{tabular}{r|ll}\n",
       " Species & sepalsum\\\\\n",
       "\\hline\n",
       "\t setosa     & 250.3     \\\\\n",
       "\t versicolor & 296.8     \\\\\n",
       "\t virginica  & 329.4     \\\\\n",
       "\\end{tabular}\n"
      ],
      "text/plain": [
       "  Species    sepalsum\n",
       "1 setosa     250.3   \n",
       "2 versicolor 296.8   \n",
       "3 virginica  329.4   "
      ]
     },
     "metadata": {},
     "output_type": "display_data"
    }
   ],
   "source": [
    "myiris[,.(sepalsum = sum(Sepal.Length)), by=Species] #grouping by a variable"
   ]
  },
  {
   "cell_type": "code",
   "execution_count": 39,
   "metadata": {
    "collapsed": true
   },
   "outputs": [],
   "source": [
    "setkey(myiris, Species) #select a column for computation, hence need to set the key on column"
   ]
  },
  {
   "cell_type": "code",
   "execution_count": 42,
   "metadata": {
    "collapsed": false
   },
   "outputs": [
    {
     "data": {
      "text/html": [
       "<table>\n",
       "<thead><tr><th scope=col>Sepal.Length</th><th scope=col>Sepal.Width</th><th scope=col>Petal.Length</th><th scope=col>Petal.Width</th><th scope=col>Species</th></tr></thead>\n",
       "<tbody>\n",
       "\t<tr><td>5.1   </td><td>3.5   </td><td>1.4   </td><td>0.2   </td><td>setosa</td></tr>\n",
       "\t<tr><td>4.9   </td><td>3.0   </td><td>1.4   </td><td>0.2   </td><td>setosa</td></tr>\n",
       "\t<tr><td>4.7   </td><td>3.2   </td><td>1.3   </td><td>0.2   </td><td>setosa</td></tr>\n",
       "\t<tr><td>4.6   </td><td>3.1   </td><td>1.5   </td><td>0.2   </td><td>setosa</td></tr>\n",
       "\t<tr><td>5.0   </td><td>3.6   </td><td>1.4   </td><td>0.2   </td><td>setosa</td></tr>\n",
       "\t<tr><td>5.4   </td><td>3.9   </td><td>1.7   </td><td>0.4   </td><td>setosa</td></tr>\n",
       "\t<tr><td>4.6   </td><td>3.4   </td><td>1.4   </td><td>0.3   </td><td>setosa</td></tr>\n",
       "\t<tr><td>5.0   </td><td>3.4   </td><td>1.5   </td><td>0.2   </td><td>setosa</td></tr>\n",
       "\t<tr><td>4.4   </td><td>2.9   </td><td>1.4   </td><td>0.2   </td><td>setosa</td></tr>\n",
       "\t<tr><td>4.9   </td><td>3.1   </td><td>1.5   </td><td>0.1   </td><td>setosa</td></tr>\n",
       "\t<tr><td>5.4   </td><td>3.7   </td><td>1.5   </td><td>0.2   </td><td>setosa</td></tr>\n",
       "\t<tr><td>4.8   </td><td>3.4   </td><td>1.6   </td><td>0.2   </td><td>setosa</td></tr>\n",
       "\t<tr><td>4.8   </td><td>3.0   </td><td>1.4   </td><td>0.1   </td><td>setosa</td></tr>\n",
       "\t<tr><td>4.3   </td><td>3.0   </td><td>1.1   </td><td>0.1   </td><td>setosa</td></tr>\n",
       "\t<tr><td>5.8   </td><td>4.0   </td><td>1.2   </td><td>0.2   </td><td>setosa</td></tr>\n",
       "\t<tr><td>5.7   </td><td>4.4   </td><td>1.5   </td><td>0.4   </td><td>setosa</td></tr>\n",
       "\t<tr><td>5.4   </td><td>3.9   </td><td>1.3   </td><td>0.4   </td><td>setosa</td></tr>\n",
       "\t<tr><td>5.1   </td><td>3.5   </td><td>1.4   </td><td>0.3   </td><td>setosa</td></tr>\n",
       "\t<tr><td>5.7   </td><td>3.8   </td><td>1.7   </td><td>0.3   </td><td>setosa</td></tr>\n",
       "\t<tr><td>5.1   </td><td>3.8   </td><td>1.5   </td><td>0.3   </td><td>setosa</td></tr>\n",
       "\t<tr><td>5.4   </td><td>3.4   </td><td>1.7   </td><td>0.2   </td><td>setosa</td></tr>\n",
       "\t<tr><td>5.1   </td><td>3.7   </td><td>1.5   </td><td>0.4   </td><td>setosa</td></tr>\n",
       "\t<tr><td>4.6   </td><td>3.6   </td><td>1.0   </td><td>0.2   </td><td>setosa</td></tr>\n",
       "\t<tr><td>5.1   </td><td>3.3   </td><td>1.7   </td><td>0.5   </td><td>setosa</td></tr>\n",
       "\t<tr><td>4.8   </td><td>3.4   </td><td>1.9   </td><td>0.2   </td><td>setosa</td></tr>\n",
       "\t<tr><td>5.0   </td><td>3.0   </td><td>1.6   </td><td>0.2   </td><td>setosa</td></tr>\n",
       "\t<tr><td>5.0   </td><td>3.4   </td><td>1.6   </td><td>0.4   </td><td>setosa</td></tr>\n",
       "\t<tr><td>5.2   </td><td>3.5   </td><td>1.5   </td><td>0.2   </td><td>setosa</td></tr>\n",
       "\t<tr><td>5.2   </td><td>3.4   </td><td>1.4   </td><td>0.2   </td><td>setosa</td></tr>\n",
       "\t<tr><td>4.7   </td><td>3.2   </td><td>1.6   </td><td>0.2   </td><td>setosa</td></tr>\n",
       "\t<tr><td>4.8   </td><td>3.1   </td><td>1.6   </td><td>0.2   </td><td>setosa</td></tr>\n",
       "\t<tr><td>5.4   </td><td>3.4   </td><td>1.5   </td><td>0.4   </td><td>setosa</td></tr>\n",
       "\t<tr><td>5.2   </td><td>4.1   </td><td>1.5   </td><td>0.1   </td><td>setosa</td></tr>\n",
       "\t<tr><td>5.5   </td><td>4.2   </td><td>1.4   </td><td>0.2   </td><td>setosa</td></tr>\n",
       "\t<tr><td>4.9   </td><td>3.1   </td><td>1.5   </td><td>0.2   </td><td>setosa</td></tr>\n",
       "\t<tr><td>5.0   </td><td>3.2   </td><td>1.2   </td><td>0.2   </td><td>setosa</td></tr>\n",
       "\t<tr><td>5.5   </td><td>3.5   </td><td>1.3   </td><td>0.2   </td><td>setosa</td></tr>\n",
       "\t<tr><td>4.9   </td><td>3.6   </td><td>1.4   </td><td>0.1   </td><td>setosa</td></tr>\n",
       "\t<tr><td>4.4   </td><td>3.0   </td><td>1.3   </td><td>0.2   </td><td>setosa</td></tr>\n",
       "\t<tr><td>5.1   </td><td>3.4   </td><td>1.5   </td><td>0.2   </td><td>setosa</td></tr>\n",
       "\t<tr><td>5.0   </td><td>3.5   </td><td>1.3   </td><td>0.3   </td><td>setosa</td></tr>\n",
       "\t<tr><td>4.5   </td><td>2.3   </td><td>1.3   </td><td>0.3   </td><td>setosa</td></tr>\n",
       "\t<tr><td>4.4   </td><td>3.2   </td><td>1.3   </td><td>0.2   </td><td>setosa</td></tr>\n",
       "\t<tr><td>5.0   </td><td>3.5   </td><td>1.6   </td><td>0.6   </td><td>setosa</td></tr>\n",
       "\t<tr><td>5.1   </td><td>3.8   </td><td>1.9   </td><td>0.4   </td><td>setosa</td></tr>\n",
       "\t<tr><td>4.8   </td><td>3.0   </td><td>1.4   </td><td>0.3   </td><td>setosa</td></tr>\n",
       "\t<tr><td>5.1   </td><td>3.8   </td><td>1.6   </td><td>0.2   </td><td>setosa</td></tr>\n",
       "\t<tr><td>4.6   </td><td>3.2   </td><td>1.4   </td><td>0.2   </td><td>setosa</td></tr>\n",
       "\t<tr><td>5.3   </td><td>3.7   </td><td>1.5   </td><td>0.2   </td><td>setosa</td></tr>\n",
       "\t<tr><td>5.0   </td><td>3.3   </td><td>1.4   </td><td>0.2   </td><td>setosa</td></tr>\n",
       "</tbody>\n",
       "</table>\n"
      ],
      "text/latex": [
       "\\begin{tabular}{r|lllll}\n",
       " Sepal.Length & Sepal.Width & Petal.Length & Petal.Width & Species\\\\\n",
       "\\hline\n",
       "\t 5.1    & 3.5    & 1.4    & 0.2    & setosa\\\\\n",
       "\t 4.9    & 3.0    & 1.4    & 0.2    & setosa\\\\\n",
       "\t 4.7    & 3.2    & 1.3    & 0.2    & setosa\\\\\n",
       "\t 4.6    & 3.1    & 1.5    & 0.2    & setosa\\\\\n",
       "\t 5.0    & 3.6    & 1.4    & 0.2    & setosa\\\\\n",
       "\t 5.4    & 3.9    & 1.7    & 0.4    & setosa\\\\\n",
       "\t 4.6    & 3.4    & 1.4    & 0.3    & setosa\\\\\n",
       "\t 5.0    & 3.4    & 1.5    & 0.2    & setosa\\\\\n",
       "\t 4.4    & 2.9    & 1.4    & 0.2    & setosa\\\\\n",
       "\t 4.9    & 3.1    & 1.5    & 0.1    & setosa\\\\\n",
       "\t 5.4    & 3.7    & 1.5    & 0.2    & setosa\\\\\n",
       "\t 4.8    & 3.4    & 1.6    & 0.2    & setosa\\\\\n",
       "\t 4.8    & 3.0    & 1.4    & 0.1    & setosa\\\\\n",
       "\t 4.3    & 3.0    & 1.1    & 0.1    & setosa\\\\\n",
       "\t 5.8    & 4.0    & 1.2    & 0.2    & setosa\\\\\n",
       "\t 5.7    & 4.4    & 1.5    & 0.4    & setosa\\\\\n",
       "\t 5.4    & 3.9    & 1.3    & 0.4    & setosa\\\\\n",
       "\t 5.1    & 3.5    & 1.4    & 0.3    & setosa\\\\\n",
       "\t 5.7    & 3.8    & 1.7    & 0.3    & setosa\\\\\n",
       "\t 5.1    & 3.8    & 1.5    & 0.3    & setosa\\\\\n",
       "\t 5.4    & 3.4    & 1.7    & 0.2    & setosa\\\\\n",
       "\t 5.1    & 3.7    & 1.5    & 0.4    & setosa\\\\\n",
       "\t 4.6    & 3.6    & 1.0    & 0.2    & setosa\\\\\n",
       "\t 5.1    & 3.3    & 1.7    & 0.5    & setosa\\\\\n",
       "\t 4.8    & 3.4    & 1.9    & 0.2    & setosa\\\\\n",
       "\t 5.0    & 3.0    & 1.6    & 0.2    & setosa\\\\\n",
       "\t 5.0    & 3.4    & 1.6    & 0.4    & setosa\\\\\n",
       "\t 5.2    & 3.5    & 1.5    & 0.2    & setosa\\\\\n",
       "\t 5.2    & 3.4    & 1.4    & 0.2    & setosa\\\\\n",
       "\t 4.7    & 3.2    & 1.6    & 0.2    & setosa\\\\\n",
       "\t 4.8    & 3.1    & 1.6    & 0.2    & setosa\\\\\n",
       "\t 5.4    & 3.4    & 1.5    & 0.4    & setosa\\\\\n",
       "\t 5.2    & 4.1    & 1.5    & 0.1    & setosa\\\\\n",
       "\t 5.5    & 4.2    & 1.4    & 0.2    & setosa\\\\\n",
       "\t 4.9    & 3.1    & 1.5    & 0.2    & setosa\\\\\n",
       "\t 5.0    & 3.2    & 1.2    & 0.2    & setosa\\\\\n",
       "\t 5.5    & 3.5    & 1.3    & 0.2    & setosa\\\\\n",
       "\t 4.9    & 3.6    & 1.4    & 0.1    & setosa\\\\\n",
       "\t 4.4    & 3.0    & 1.3    & 0.2    & setosa\\\\\n",
       "\t 5.1    & 3.4    & 1.5    & 0.2    & setosa\\\\\n",
       "\t 5.0    & 3.5    & 1.3    & 0.3    & setosa\\\\\n",
       "\t 4.5    & 2.3    & 1.3    & 0.3    & setosa\\\\\n",
       "\t 4.4    & 3.2    & 1.3    & 0.2    & setosa\\\\\n",
       "\t 5.0    & 3.5    & 1.6    & 0.6    & setosa\\\\\n",
       "\t 5.1    & 3.8    & 1.9    & 0.4    & setosa\\\\\n",
       "\t 4.8    & 3.0    & 1.4    & 0.3    & setosa\\\\\n",
       "\t 5.1    & 3.8    & 1.6    & 0.2    & setosa\\\\\n",
       "\t 4.6    & 3.2    & 1.4    & 0.2    & setosa\\\\\n",
       "\t 5.3    & 3.7    & 1.5    & 0.2    & setosa\\\\\n",
       "\t 5.0    & 3.3    & 1.4    & 0.2    & setosa\\\\\n",
       "\\end{tabular}\n"
      ],
      "text/plain": [
       "   Sepal.Length Sepal.Width Petal.Length Petal.Width Species\n",
       "1  5.1          3.5         1.4          0.2         setosa \n",
       "2  4.9          3.0         1.4          0.2         setosa \n",
       "3  4.7          3.2         1.3          0.2         setosa \n",
       "4  4.6          3.1         1.5          0.2         setosa \n",
       "5  5.0          3.6         1.4          0.2         setosa \n",
       "6  5.4          3.9         1.7          0.4         setosa \n",
       "7  4.6          3.4         1.4          0.3         setosa \n",
       "8  5.0          3.4         1.5          0.2         setosa \n",
       "9  4.4          2.9         1.4          0.2         setosa \n",
       "10 4.9          3.1         1.5          0.1         setosa \n",
       "11 5.4          3.7         1.5          0.2         setosa \n",
       "12 4.8          3.4         1.6          0.2         setosa \n",
       "13 4.8          3.0         1.4          0.1         setosa \n",
       "14 4.3          3.0         1.1          0.1         setosa \n",
       "15 5.8          4.0         1.2          0.2         setosa \n",
       "16 5.7          4.4         1.5          0.4         setosa \n",
       "17 5.4          3.9         1.3          0.4         setosa \n",
       "18 5.1          3.5         1.4          0.3         setosa \n",
       "19 5.7          3.8         1.7          0.3         setosa \n",
       "20 5.1          3.8         1.5          0.3         setosa \n",
       "21 5.4          3.4         1.7          0.2         setosa \n",
       "22 5.1          3.7         1.5          0.4         setosa \n",
       "23 4.6          3.6         1.0          0.2         setosa \n",
       "24 5.1          3.3         1.7          0.5         setosa \n",
       "25 4.8          3.4         1.9          0.2         setosa \n",
       "26 5.0          3.0         1.6          0.2         setosa \n",
       "27 5.0          3.4         1.6          0.4         setosa \n",
       "28 5.2          3.5         1.5          0.2         setosa \n",
       "29 5.2          3.4         1.4          0.2         setosa \n",
       "30 4.7          3.2         1.6          0.2         setosa \n",
       "31 4.8          3.1         1.6          0.2         setosa \n",
       "32 5.4          3.4         1.5          0.4         setosa \n",
       "33 5.2          4.1         1.5          0.1         setosa \n",
       "34 5.5          4.2         1.4          0.2         setosa \n",
       "35 4.9          3.1         1.5          0.2         setosa \n",
       "36 5.0          3.2         1.2          0.2         setosa \n",
       "37 5.5          3.5         1.3          0.2         setosa \n",
       "38 4.9          3.6         1.4          0.1         setosa \n",
       "39 4.4          3.0         1.3          0.2         setosa \n",
       "40 5.1          3.4         1.5          0.2         setosa \n",
       "41 5.0          3.5         1.3          0.3         setosa \n",
       "42 4.5          2.3         1.3          0.3         setosa \n",
       "43 4.4          3.2         1.3          0.2         setosa \n",
       "44 5.0          3.5         1.6          0.6         setosa \n",
       "45 5.1          3.8         1.9          0.4         setosa \n",
       "46 4.8          3.0         1.4          0.3         setosa \n",
       "47 5.1          3.8         1.6          0.2         setosa \n",
       "48 4.6          3.2         1.4          0.2         setosa \n",
       "49 5.3          3.7         1.5          0.2         setosa \n",
       "50 5.0          3.3         1.4          0.2         setosa "
      ]
     },
     "metadata": {},
     "output_type": "display_data"
    },
    {
     "data": {
      "text/html": [
       "<table>\n",
       "<thead><tr><th scope=col>Sepal.Length</th><th scope=col>Sepal.Width</th><th scope=col>Petal.Length</th><th scope=col>Petal.Width</th><th scope=col>Species</th></tr></thead>\n",
       "<tbody>\n",
       "\t<tr><td>5.1   </td><td>3.5   </td><td>1.4   </td><td>0.2   </td><td>setosa</td></tr>\n",
       "\t<tr><td>4.9   </td><td>3.0   </td><td>1.4   </td><td>0.2   </td><td>setosa</td></tr>\n",
       "\t<tr><td>4.7   </td><td>3.2   </td><td>1.3   </td><td>0.2   </td><td>setosa</td></tr>\n",
       "\t<tr><td>4.6   </td><td>3.1   </td><td>1.5   </td><td>0.2   </td><td>setosa</td></tr>\n",
       "\t<tr><td>5.0   </td><td>3.6   </td><td>1.4   </td><td>0.2   </td><td>setosa</td></tr>\n",
       "\t<tr><td>5.4   </td><td>3.9   </td><td>1.7   </td><td>0.4   </td><td>setosa</td></tr>\n",
       "\t<tr><td>4.6   </td><td>3.4   </td><td>1.4   </td><td>0.3   </td><td>setosa</td></tr>\n",
       "\t<tr><td>5.0   </td><td>3.4   </td><td>1.5   </td><td>0.2   </td><td>setosa</td></tr>\n",
       "\t<tr><td>4.4   </td><td>2.9   </td><td>1.4   </td><td>0.2   </td><td>setosa</td></tr>\n",
       "\t<tr><td>4.9   </td><td>3.1   </td><td>1.5   </td><td>0.1   </td><td>setosa</td></tr>\n",
       "\t<tr><td>5.4   </td><td>3.7   </td><td>1.5   </td><td>0.2   </td><td>setosa</td></tr>\n",
       "\t<tr><td>4.8   </td><td>3.4   </td><td>1.6   </td><td>0.2   </td><td>setosa</td></tr>\n",
       "\t<tr><td>4.8   </td><td>3.0   </td><td>1.4   </td><td>0.1   </td><td>setosa</td></tr>\n",
       "\t<tr><td>4.3   </td><td>3.0   </td><td>1.1   </td><td>0.1   </td><td>setosa</td></tr>\n",
       "\t<tr><td>5.8   </td><td>4.0   </td><td>1.2   </td><td>0.2   </td><td>setosa</td></tr>\n",
       "\t<tr><td>5.7   </td><td>4.4   </td><td>1.5   </td><td>0.4   </td><td>setosa</td></tr>\n",
       "\t<tr><td>5.4   </td><td>3.9   </td><td>1.3   </td><td>0.4   </td><td>setosa</td></tr>\n",
       "\t<tr><td>5.1   </td><td>3.5   </td><td>1.4   </td><td>0.3   </td><td>setosa</td></tr>\n",
       "\t<tr><td>5.7   </td><td>3.8   </td><td>1.7   </td><td>0.3   </td><td>setosa</td></tr>\n",
       "\t<tr><td>5.1   </td><td>3.8   </td><td>1.5   </td><td>0.3   </td><td>setosa</td></tr>\n",
       "\t<tr><td>5.4   </td><td>3.4   </td><td>1.7   </td><td>0.2   </td><td>setosa</td></tr>\n",
       "\t<tr><td>5.1   </td><td>3.7   </td><td>1.5   </td><td>0.4   </td><td>setosa</td></tr>\n",
       "\t<tr><td>4.6   </td><td>3.6   </td><td>1.0   </td><td>0.2   </td><td>setosa</td></tr>\n",
       "\t<tr><td>5.1   </td><td>3.3   </td><td>1.7   </td><td>0.5   </td><td>setosa</td></tr>\n",
       "\t<tr><td>4.8   </td><td>3.4   </td><td>1.9   </td><td>0.2   </td><td>setosa</td></tr>\n",
       "\t<tr><td>5.0   </td><td>3.0   </td><td>1.6   </td><td>0.2   </td><td>setosa</td></tr>\n",
       "\t<tr><td>5.0   </td><td>3.4   </td><td>1.6   </td><td>0.4   </td><td>setosa</td></tr>\n",
       "\t<tr><td>5.2   </td><td>3.5   </td><td>1.5   </td><td>0.2   </td><td>setosa</td></tr>\n",
       "\t<tr><td>5.2   </td><td>3.4   </td><td>1.4   </td><td>0.2   </td><td>setosa</td></tr>\n",
       "\t<tr><td>4.7   </td><td>3.2   </td><td>1.6   </td><td>0.2   </td><td>setosa</td></tr>\n",
       "\t<tr><td>...</td><td>...</td><td>...</td><td>...</td><td>...</td></tr>\n",
       "\t<tr><td>6.9      </td><td>3.2      </td><td>5.7      </td><td>2.3      </td><td>virginica</td></tr>\n",
       "\t<tr><td>5.6      </td><td>2.8      </td><td>4.9      </td><td>2.0      </td><td>virginica</td></tr>\n",
       "\t<tr><td>7.7      </td><td>2.8      </td><td>6.7      </td><td>2.0      </td><td>virginica</td></tr>\n",
       "\t<tr><td>6.3      </td><td>2.7      </td><td>4.9      </td><td>1.8      </td><td>virginica</td></tr>\n",
       "\t<tr><td>6.7      </td><td>3.3      </td><td>5.7      </td><td>2.1      </td><td>virginica</td></tr>\n",
       "\t<tr><td>7.2      </td><td>3.2      </td><td>6.0      </td><td>1.8      </td><td>virginica</td></tr>\n",
       "\t<tr><td>6.2      </td><td>2.8      </td><td>4.8      </td><td>1.8      </td><td>virginica</td></tr>\n",
       "\t<tr><td>6.1      </td><td>3.0      </td><td>4.9      </td><td>1.8      </td><td>virginica</td></tr>\n",
       "\t<tr><td>6.4      </td><td>2.8      </td><td>5.6      </td><td>2.1      </td><td>virginica</td></tr>\n",
       "\t<tr><td>7.2      </td><td>3.0      </td><td>5.8      </td><td>1.6      </td><td>virginica</td></tr>\n",
       "\t<tr><td>7.4      </td><td>2.8      </td><td>6.1      </td><td>1.9      </td><td>virginica</td></tr>\n",
       "\t<tr><td>7.9      </td><td>3.8      </td><td>6.4      </td><td>2.0      </td><td>virginica</td></tr>\n",
       "\t<tr><td>6.4      </td><td>2.8      </td><td>5.6      </td><td>2.2      </td><td>virginica</td></tr>\n",
       "\t<tr><td>6.3      </td><td>2.8      </td><td>5.1      </td><td>1.5      </td><td>virginica</td></tr>\n",
       "\t<tr><td>6.1      </td><td>2.6      </td><td>5.6      </td><td>1.4      </td><td>virginica</td></tr>\n",
       "\t<tr><td>7.7      </td><td>3.0      </td><td>6.1      </td><td>2.3      </td><td>virginica</td></tr>\n",
       "\t<tr><td>6.3      </td><td>3.4      </td><td>5.6      </td><td>2.4      </td><td>virginica</td></tr>\n",
       "\t<tr><td>6.4      </td><td>3.1      </td><td>5.5      </td><td>1.8      </td><td>virginica</td></tr>\n",
       "\t<tr><td>6.0      </td><td>3.0      </td><td>4.8      </td><td>1.8      </td><td>virginica</td></tr>\n",
       "\t<tr><td>6.9      </td><td>3.1      </td><td>5.4      </td><td>2.1      </td><td>virginica</td></tr>\n",
       "\t<tr><td>6.7      </td><td>3.1      </td><td>5.6      </td><td>2.4      </td><td>virginica</td></tr>\n",
       "\t<tr><td>6.9      </td><td>3.1      </td><td>5.1      </td><td>2.3      </td><td>virginica</td></tr>\n",
       "\t<tr><td>5.8      </td><td>2.7      </td><td>5.1      </td><td>1.9      </td><td>virginica</td></tr>\n",
       "\t<tr><td>6.8      </td><td>3.2      </td><td>5.9      </td><td>2.3      </td><td>virginica</td></tr>\n",
       "\t<tr><td>6.7      </td><td>3.3      </td><td>5.7      </td><td>2.5      </td><td>virginica</td></tr>\n",
       "\t<tr><td>6.7      </td><td>3.0      </td><td>5.2      </td><td>2.3      </td><td>virginica</td></tr>\n",
       "\t<tr><td>6.3      </td><td>2.5      </td><td>5.0      </td><td>1.9      </td><td>virginica</td></tr>\n",
       "\t<tr><td>6.5      </td><td>3.0      </td><td>5.2      </td><td>2.0      </td><td>virginica</td></tr>\n",
       "\t<tr><td>6.2      </td><td>3.4      </td><td>5.4      </td><td>2.3      </td><td>virginica</td></tr>\n",
       "\t<tr><td>5.9      </td><td>3.0      </td><td>5.1      </td><td>1.8      </td><td>virginica</td></tr>\n",
       "</tbody>\n",
       "</table>\n"
      ],
      "text/latex": [
       "\\begin{tabular}{r|lllll}\n",
       " Sepal.Length & Sepal.Width & Petal.Length & Petal.Width & Species\\\\\n",
       "\\hline\n",
       "\t 5.1    & 3.5    & 1.4    & 0.2    & setosa\\\\\n",
       "\t 4.9    & 3.0    & 1.4    & 0.2    & setosa\\\\\n",
       "\t 4.7    & 3.2    & 1.3    & 0.2    & setosa\\\\\n",
       "\t 4.6    & 3.1    & 1.5    & 0.2    & setosa\\\\\n",
       "\t 5.0    & 3.6    & 1.4    & 0.2    & setosa\\\\\n",
       "\t 5.4    & 3.9    & 1.7    & 0.4    & setosa\\\\\n",
       "\t 4.6    & 3.4    & 1.4    & 0.3    & setosa\\\\\n",
       "\t 5.0    & 3.4    & 1.5    & 0.2    & setosa\\\\\n",
       "\t 4.4    & 2.9    & 1.4    & 0.2    & setosa\\\\\n",
       "\t 4.9    & 3.1    & 1.5    & 0.1    & setosa\\\\\n",
       "\t 5.4    & 3.7    & 1.5    & 0.2    & setosa\\\\\n",
       "\t 4.8    & 3.4    & 1.6    & 0.2    & setosa\\\\\n",
       "\t 4.8    & 3.0    & 1.4    & 0.1    & setosa\\\\\n",
       "\t 4.3    & 3.0    & 1.1    & 0.1    & setosa\\\\\n",
       "\t 5.8    & 4.0    & 1.2    & 0.2    & setosa\\\\\n",
       "\t 5.7    & 4.4    & 1.5    & 0.4    & setosa\\\\\n",
       "\t 5.4    & 3.9    & 1.3    & 0.4    & setosa\\\\\n",
       "\t 5.1    & 3.5    & 1.4    & 0.3    & setosa\\\\\n",
       "\t 5.7    & 3.8    & 1.7    & 0.3    & setosa\\\\\n",
       "\t 5.1    & 3.8    & 1.5    & 0.3    & setosa\\\\\n",
       "\t 5.4    & 3.4    & 1.7    & 0.2    & setosa\\\\\n",
       "\t 5.1    & 3.7    & 1.5    & 0.4    & setosa\\\\\n",
       "\t 4.6    & 3.6    & 1.0    & 0.2    & setosa\\\\\n",
       "\t 5.1    & 3.3    & 1.7    & 0.5    & setosa\\\\\n",
       "\t 4.8    & 3.4    & 1.9    & 0.2    & setosa\\\\\n",
       "\t 5.0    & 3.0    & 1.6    & 0.2    & setosa\\\\\n",
       "\t 5.0    & 3.4    & 1.6    & 0.4    & setosa\\\\\n",
       "\t 5.2    & 3.5    & 1.5    & 0.2    & setosa\\\\\n",
       "\t 5.2    & 3.4    & 1.4    & 0.2    & setosa\\\\\n",
       "\t 4.7    & 3.2    & 1.6    & 0.2    & setosa\\\\\n",
       "\t ... & ... & ... & ... & ...\\\\\n",
       "\t 6.9       & 3.2       & 5.7       & 2.3       & virginica\\\\\n",
       "\t 5.6       & 2.8       & 4.9       & 2.0       & virginica\\\\\n",
       "\t 7.7       & 2.8       & 6.7       & 2.0       & virginica\\\\\n",
       "\t 6.3       & 2.7       & 4.9       & 1.8       & virginica\\\\\n",
       "\t 6.7       & 3.3       & 5.7       & 2.1       & virginica\\\\\n",
       "\t 7.2       & 3.2       & 6.0       & 1.8       & virginica\\\\\n",
       "\t 6.2       & 2.8       & 4.8       & 1.8       & virginica\\\\\n",
       "\t 6.1       & 3.0       & 4.9       & 1.8       & virginica\\\\\n",
       "\t 6.4       & 2.8       & 5.6       & 2.1       & virginica\\\\\n",
       "\t 7.2       & 3.0       & 5.8       & 1.6       & virginica\\\\\n",
       "\t 7.4       & 2.8       & 6.1       & 1.9       & virginica\\\\\n",
       "\t 7.9       & 3.8       & 6.4       & 2.0       & virginica\\\\\n",
       "\t 6.4       & 2.8       & 5.6       & 2.2       & virginica\\\\\n",
       "\t 6.3       & 2.8       & 5.1       & 1.5       & virginica\\\\\n",
       "\t 6.1       & 2.6       & 5.6       & 1.4       & virginica\\\\\n",
       "\t 7.7       & 3.0       & 6.1       & 2.3       & virginica\\\\\n",
       "\t 6.3       & 3.4       & 5.6       & 2.4       & virginica\\\\\n",
       "\t 6.4       & 3.1       & 5.5       & 1.8       & virginica\\\\\n",
       "\t 6.0       & 3.0       & 4.8       & 1.8       & virginica\\\\\n",
       "\t 6.9       & 3.1       & 5.4       & 2.1       & virginica\\\\\n",
       "\t 6.7       & 3.1       & 5.6       & 2.4       & virginica\\\\\n",
       "\t 6.9       & 3.1       & 5.1       & 2.3       & virginica\\\\\n",
       "\t 5.8       & 2.7       & 5.1       & 1.9       & virginica\\\\\n",
       "\t 6.8       & 3.2       & 5.9       & 2.3       & virginica\\\\\n",
       "\t 6.7       & 3.3       & 5.7       & 2.5       & virginica\\\\\n",
       "\t 6.7       & 3.0       & 5.2       & 2.3       & virginica\\\\\n",
       "\t 6.3       & 2.5       & 5.0       & 1.9       & virginica\\\\\n",
       "\t 6.5       & 3.0       & 5.2       & 2.0       & virginica\\\\\n",
       "\t 6.2       & 3.4       & 5.4       & 2.3       & virginica\\\\\n",
       "\t 5.9       & 3.0       & 5.1       & 1.8       & virginica\\\\\n",
       "\\end{tabular}\n"
      ],
      "text/plain": [
       "    Sepal.Length Sepal.Width Petal.Length Petal.Width Species  \n",
       "1   5.1          3.5         1.4          0.2         setosa   \n",
       "2   4.9          3.0         1.4          0.2         setosa   \n",
       "3   4.7          3.2         1.3          0.2         setosa   \n",
       "4   4.6          3.1         1.5          0.2         setosa   \n",
       "5   5.0          3.6         1.4          0.2         setosa   \n",
       "6   5.4          3.9         1.7          0.4         setosa   \n",
       "7   4.6          3.4         1.4          0.3         setosa   \n",
       "8   5.0          3.4         1.5          0.2         setosa   \n",
       "9   4.4          2.9         1.4          0.2         setosa   \n",
       "10  4.9          3.1         1.5          0.1         setosa   \n",
       "11  5.4          3.7         1.5          0.2         setosa   \n",
       "12  4.8          3.4         1.6          0.2         setosa   \n",
       "13  4.8          3.0         1.4          0.1         setosa   \n",
       "14  4.3          3.0         1.1          0.1         setosa   \n",
       "15  5.8          4.0         1.2          0.2         setosa   \n",
       "16  5.7          4.4         1.5          0.4         setosa   \n",
       "17  5.4          3.9         1.3          0.4         setosa   \n",
       "18  5.1          3.5         1.4          0.3         setosa   \n",
       "19  5.7          3.8         1.7          0.3         setosa   \n",
       "20  5.1          3.8         1.5          0.3         setosa   \n",
       "21  5.4          3.4         1.7          0.2         setosa   \n",
       "22  5.1          3.7         1.5          0.4         setosa   \n",
       "23  4.6          3.6         1.0          0.2         setosa   \n",
       "24  5.1          3.3         1.7          0.5         setosa   \n",
       "25  4.8          3.4         1.9          0.2         setosa   \n",
       "26  5.0          3.0         1.6          0.2         setosa   \n",
       "27  5.0          3.4         1.6          0.4         setosa   \n",
       "28  5.2          3.5         1.5          0.2         setosa   \n",
       "29  5.2          3.4         1.4          0.2         setosa   \n",
       "30  4.7          3.2         1.6          0.2         setosa   \n",
       "... ...          ...         ...          ...         ...      \n",
       "71  6.9          3.2         5.7          2.3         virginica\n",
       "72  5.6          2.8         4.9          2.0         virginica\n",
       "73  7.7          2.8         6.7          2.0         virginica\n",
       "74  6.3          2.7         4.9          1.8         virginica\n",
       "75  6.7          3.3         5.7          2.1         virginica\n",
       "76  7.2          3.2         6.0          1.8         virginica\n",
       "77  6.2          2.8         4.8          1.8         virginica\n",
       "78  6.1          3.0         4.9          1.8         virginica\n",
       "79  6.4          2.8         5.6          2.1         virginica\n",
       "80  7.2          3.0         5.8          1.6         virginica\n",
       "81  7.4          2.8         6.1          1.9         virginica\n",
       "82  7.9          3.8         6.4          2.0         virginica\n",
       "83  6.4          2.8         5.6          2.2         virginica\n",
       "84  6.3          2.8         5.1          1.5         virginica\n",
       "85  6.1          2.6         5.6          1.4         virginica\n",
       "86  7.7          3.0         6.1          2.3         virginica\n",
       "87  6.3          3.4         5.6          2.4         virginica\n",
       "88  6.4          3.1         5.5          1.8         virginica\n",
       "89  6.0          3.0         4.8          1.8         virginica\n",
       "90  6.9          3.1         5.4          2.1         virginica\n",
       "91  6.7          3.1         5.6          2.4         virginica\n",
       "92  6.9          3.1         5.1          2.3         virginica\n",
       "93  5.8          2.7         5.1          1.9         virginica\n",
       "94  6.8          3.2         5.9          2.3         virginica\n",
       "95  6.7          3.3         5.7          2.5         virginica\n",
       "96  6.7          3.0         5.2          2.3         virginica\n",
       "97  6.3          2.5         5.0          1.9         virginica\n",
       "98  6.5          3.0         5.2          2.0         virginica\n",
       "99  6.2          3.4         5.4          2.3         virginica\n",
       "100 5.9          3.0         5.1          1.8         virginica"
      ]
     },
     "metadata": {},
     "output_type": "display_data"
    }
   ],
   "source": [
    "#selects all the rows associated with this data point\n",
    "myiris['setosa']\n",
    "#iris['setosa']\n",
    "myiris[c('setosa', 'virginica')]"
   ]
  },
  {
   "cell_type": "markdown",
   "metadata": {},
   "source": [
    "# reshape2 Package"
   ]
  },
  {
   "cell_type": "code",
   "execution_count": 43,
   "metadata": {
    "collapsed": true
   },
   "outputs": [],
   "source": [
    "#create a data\n",
    "ID <- c(1,2,3,4,5)\n",
    "Names <- c('Joseph','Matrin','Joseph','James','Matrin')\n",
    "DateofBirth <- c(1993,1992,1993,1994,1992)\n",
    "Subject<- c('Maths','Biology','Science','Psycology','Physics')"
   ]
  },
  {
   "cell_type": "code",
   "execution_count": 44,
   "metadata": {
    "collapsed": true
   },
   "outputs": [],
   "source": [
    "thisdata <- data.frame(ID, Names, DateofBirth, Subject)"
   ]
  },
  {
   "cell_type": "code",
   "execution_count": 45,
   "metadata": {
    "collapsed": false
   },
   "outputs": [
    {
     "data": {
      "text/html": [
       "<table>\n",
       "<thead><tr><th scope=col>ID</th><th scope=col>Names</th><th scope=col>DateofBirth</th><th scope=col>Subject</th></tr></thead>\n",
       "<tbody>\n",
       "\t<tr><td>1        </td><td>Joseph   </td><td>1993     </td><td>Maths    </td></tr>\n",
       "\t<tr><td>2        </td><td>Matrin   </td><td>1992     </td><td>Biology  </td></tr>\n",
       "\t<tr><td>3        </td><td>Joseph   </td><td>1993     </td><td>Science  </td></tr>\n",
       "\t<tr><td>4        </td><td>James    </td><td>1994     </td><td>Psycology</td></tr>\n",
       "\t<tr><td>5        </td><td>Matrin   </td><td>1992     </td><td>Physics  </td></tr>\n",
       "</tbody>\n",
       "</table>\n"
      ],
      "text/latex": [
       "\\begin{tabular}{r|llll}\n",
       " ID & Names & DateofBirth & Subject\\\\\n",
       "\\hline\n",
       "\t 1         & Joseph    & 1993      & Maths    \\\\\n",
       "\t 2         & Matrin    & 1992      & Biology  \\\\\n",
       "\t 3         & Joseph    & 1993      & Science  \\\\\n",
       "\t 4         & James     & 1994      & Psycology\\\\\n",
       "\t 5         & Matrin    & 1992      & Physics  \\\\\n",
       "\\end{tabular}\n"
      ],
      "text/plain": [
       "  ID Names  DateofBirth Subject  \n",
       "1 1  Joseph 1993        Maths    \n",
       "2 2  Matrin 1992        Biology  \n",
       "3 3  Joseph 1993        Science  \n",
       "4 4  James  1994        Psycology\n",
       "5 5  Matrin 1992        Physics  "
      ]
     },
     "metadata": {},
     "output_type": "display_data"
    }
   ],
   "source": [
    "data.table(thisdata)"
   ]
  },
  {
   "cell_type": "code",
   "execution_count": 46,
   "metadata": {
    "collapsed": false,
    "scrolled": true
   },
   "outputs": [
    {
     "name": "stderr",
     "output_type": "stream",
     "text": [
      "\n",
      "Attaching package: 'reshape2'\n",
      "\n",
      "The following objects are masked from 'package:data.table':\n",
      "\n",
      "    dcast, melt\n",
      "\n"
     ]
    }
   ],
   "source": [
    "library(reshape2)"
   ]
  },
  {
   "cell_type": "code",
   "execution_count": null,
   "metadata": {
    "collapsed": true
   },
   "outputs": [],
   "source": [
    "#melt\n",
    "#?melt\n",
    "mt <- melt(thisdata, id=(c('ID','Names')))"
   ]
  },
  {
   "cell_type": "code",
   "execution_count": 53,
   "metadata": {
    "collapsed": false
   },
   "outputs": [
    {
     "data": {
      "text/html": [
       "<table>\n",
       "<thead><tr><th scope=col>ID</th><th scope=col>Names</th><th scope=col>DateofBirth</th><th scope=col>Subject</th></tr></thead>\n",
       "<tbody>\n",
       "\t<tr><td>1        </td><td>Joseph   </td><td>1993     </td><td>Maths    </td></tr>\n",
       "\t<tr><td>2        </td><td>Matrin   </td><td>1992     </td><td>Biology  </td></tr>\n",
       "\t<tr><td>3        </td><td>Joseph   </td><td>1993     </td><td>Science  </td></tr>\n",
       "\t<tr><td>4        </td><td>James    </td><td>1994     </td><td>Psycology</td></tr>\n",
       "\t<tr><td>5        </td><td>Matrin   </td><td>1992     </td><td>Physics  </td></tr>\n",
       "</tbody>\n",
       "</table>\n"
      ],
      "text/latex": [
       "\\begin{tabular}{r|llll}\n",
       " ID & Names & DateofBirth & Subject\\\\\n",
       "\\hline\n",
       "\t 1         & Joseph    & 1993      & Maths    \\\\\n",
       "\t 2         & Matrin    & 1992      & Biology  \\\\\n",
       "\t 3         & Joseph    & 1993      & Science  \\\\\n",
       "\t 4         & James     & 1994      & Psycology\\\\\n",
       "\t 5         & Matrin    & 1992      & Physics  \\\\\n",
       "\\end{tabular}\n"
      ],
      "text/plain": [
       "  ID Names  DateofBirth Subject  \n",
       "1 1  Joseph 1993        Maths    \n",
       "2 2  Matrin 1992        Biology  \n",
       "3 3  Joseph 1993        Science  \n",
       "4 4  James  1994        Psycology\n",
       "5 5  Matrin 1992        Physics  "
      ]
     },
     "metadata": {},
     "output_type": "display_data"
    },
    {
     "data": {
      "text/html": [
       "<table>\n",
       "<thead><tr><th scope=col>ID</th><th scope=col>Names</th><th scope=col>variable</th><th scope=col>value</th></tr></thead>\n",
       "<tbody>\n",
       "\t<tr><td>1          </td><td>Joseph     </td><td>DateofBirth</td><td>1993       </td></tr>\n",
       "\t<tr><td>2          </td><td>Matrin     </td><td>DateofBirth</td><td>1992       </td></tr>\n",
       "\t<tr><td>3          </td><td>Joseph     </td><td>DateofBirth</td><td>1993       </td></tr>\n",
       "\t<tr><td>4          </td><td>James      </td><td>DateofBirth</td><td>1994       </td></tr>\n",
       "\t<tr><td>5          </td><td>Matrin     </td><td>DateofBirth</td><td>1992       </td></tr>\n",
       "\t<tr><td>1          </td><td>Joseph     </td><td>Subject    </td><td>Maths      </td></tr>\n",
       "\t<tr><td>2          </td><td>Matrin     </td><td>Subject    </td><td>Biology    </td></tr>\n",
       "\t<tr><td>3          </td><td>Joseph     </td><td>Subject    </td><td>Science    </td></tr>\n",
       "\t<tr><td>4          </td><td>James      </td><td>Subject    </td><td>Psycology  </td></tr>\n",
       "\t<tr><td>5          </td><td>Matrin     </td><td>Subject    </td><td>Physics    </td></tr>\n",
       "</tbody>\n",
       "</table>\n"
      ],
      "text/latex": [
       "\\begin{tabular}{r|llll}\n",
       " ID & Names & variable & value\\\\\n",
       "\\hline\n",
       "\t 1           & Joseph      & DateofBirth & 1993       \\\\\n",
       "\t 2           & Matrin      & DateofBirth & 1992       \\\\\n",
       "\t 3           & Joseph      & DateofBirth & 1993       \\\\\n",
       "\t 4           & James       & DateofBirth & 1994       \\\\\n",
       "\t 5           & Matrin      & DateofBirth & 1992       \\\\\n",
       "\t 1           & Joseph      & Subject     & Maths      \\\\\n",
       "\t 2           & Matrin      & Subject     & Biology    \\\\\n",
       "\t 3           & Joseph      & Subject     & Science    \\\\\n",
       "\t 4           & James       & Subject     & Psycology  \\\\\n",
       "\t 5           & Matrin      & Subject     & Physics    \\\\\n",
       "\\end{tabular}\n"
      ],
      "text/plain": [
       "   ID Names  variable    value    \n",
       "1  1  Joseph DateofBirth 1993     \n",
       "2  2  Matrin DateofBirth 1992     \n",
       "3  3  Joseph DateofBirth 1993     \n",
       "4  4  James  DateofBirth 1994     \n",
       "5  5  Matrin DateofBirth 1992     \n",
       "6  1  Joseph Subject     Maths    \n",
       "7  2  Matrin Subject     Biology  \n",
       "8  3  Joseph Subject     Science  \n",
       "9  4  James  Subject     Psycology\n",
       "10 5  Matrin Subject     Physics  "
      ]
     },
     "metadata": {},
     "output_type": "display_data"
    }
   ],
   "source": [
    "thisdata\n",
    "mt"
   ]
  }
 ],
 "metadata": {
  "anaconda-cloud": {},
  "kernelspec": {
   "display_name": "R",
   "language": "R",
   "name": "ir"
  },
  "language_info": {
   "codemirror_mode": "r",
   "file_extension": ".r",
   "mimetype": "text/x-r-source",
   "name": "R",
   "pygments_lexer": "r",
   "version": "3.3.1"
  }
 },
 "nbformat": 4,
 "nbformat_minor": 0
}
